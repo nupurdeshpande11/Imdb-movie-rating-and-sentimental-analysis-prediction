{
 "cells": [
  {
   "cell_type": "markdown",
   "metadata": {},
   "source": [
    "## GRU Bi-Directional architecture"
   ]
  },
  {
   "cell_type": "code",
   "execution_count": 1,
   "metadata": {
    "collapsed": true
   },
   "outputs": [],
   "source": [
    "from __future__ import print_function"
   ]
  },
  {
   "cell_type": "code",
   "execution_count": 23,
   "metadata": {
    "collapsed": true
   },
   "outputs": [],
   "source": [
    "# Importing libraries\n",
    "from keras.preprocessing import sequence\n",
    "from keras.models import Sequential\n",
    "from keras.layers import Dense, Dropout, Activation\n",
    "from keras.layers import Embedding\n",
    "from keras.layers import GRU,LSTM\n",
    "from keras.layers import Conv1D, MaxPooling1D\n",
    "from keras.datasets import imdb\n"
   ]
  },
  {
   "cell_type": "code",
   "execution_count": 3,
   "metadata": {
    "collapsed": true
   },
   "outputs": [],
   "source": [
    "# Embedding\n",
    "max_features = 20000\n",
    "maxlen = 100\n",
    "embedding_size = 128"
   ]
  },
  {
   "cell_type": "code",
   "execution_count": 4,
   "metadata": {
    "collapsed": true
   },
   "outputs": [],
   "source": [
    "# Convolution\n",
    "kernel_size = 5\n",
    "filters = 64\n",
    "pool_size = 4"
   ]
  },
  {
   "cell_type": "code",
   "execution_count": 5,
   "metadata": {
    "collapsed": true
   },
   "outputs": [],
   "source": [
    "# GRU\n",
    "gru_output_size = 70"
   ]
  },
  {
   "cell_type": "code",
   "execution_count": 6,
   "metadata": {
    "collapsed": true
   },
   "outputs": [],
   "source": [
    "# Training\n",
    "batch_size = 512\n",
    "epochs = 20"
   ]
  },
  {
   "cell_type": "code",
   "execution_count": 7,
   "metadata": {},
   "outputs": [
    {
     "name": "stdout",
     "output_type": "stream",
     "text": [
      "Loading data...\n",
      "25000 train sequences\n",
      "25000 test sequences\n"
     ]
    }
   ],
   "source": [
    "# Splitting data into test and train data \n",
    "print('Loading data...')\n",
    "(x_train, y_train), (x_test, y_test) = imdb.load_data(num_words=max_features)\n",
    "print(len(x_train), 'train sequences')\n",
    "print(len(x_test), 'test sequences')"
   ]
  },
  {
   "cell_type": "code",
   "execution_count": 8,
   "metadata": {},
   "outputs": [
    {
     "name": "stdout",
     "output_type": "stream",
     "text": [
      "Pad sequences (samples x time)\n",
      "x_train shape: (25000, 100)\n",
      "x_test shape: (25000, 100)\n"
     ]
    }
   ],
   "source": [
    "# Printing shape of train and test data\n",
    "print('Pad sequences (samples x time)')\n",
    "x_train = sequence.pad_sequences(x_train, maxlen=maxlen)\n",
    "x_test = sequence.pad_sequences(x_test, maxlen=maxlen)\n",
    "print('x_train shape:', x_train.shape)\n",
    "print('x_test shape:', x_test.shape)\n"
   ]
  },
  {
   "cell_type": "code",
   "execution_count": 14,
   "metadata": {
    "collapsed": true
   },
   "outputs": [],
   "source": [
    "# Defining the model\n",
    "model = Sequential()\n",
    "model.add(Embedding(max_features, embedding_size, input_length=maxlen))\n",
    "model.add(Dropout(0.25))\n",
    "#BatchNormalization()\n",
    "model.add(Conv1D(filters,\n",
    "                 kernel_size,\n",
    "                 padding='valid',\n",
    "                 activation='relu',\n",
    "                 strides=1))\n",
    "model.add(MaxPooling1D(pool_size=pool_size))\n",
    "model.add(GRU(gru_output_size, go_backwards = True))\n",
    "model.add(Dense(1))\n",
    "model.add(Activation('sigmoid'))\n",
    "# We configure our model with the rmsprop optimizer and the binary_crossentropy loss function\n",
    "model.compile(loss='binary_crossentropy',\n",
    "              optimizer='adam',\n",
    "              metrics=['accuracy'])"
   ]
  },
  {
   "cell_type": "code",
   "execution_count": 15,
   "metadata": {},
   "outputs": [
    {
     "name": "stdout",
     "output_type": "stream",
     "text": [
      "Train...\n",
      "Train on 25000 samples, validate on 25000 samples\n",
      "Epoch 1/20\n",
      "25000/25000 [==============================] - 78s 3ms/step - loss: 0.6543 - acc: 0.5931 - val_loss: 0.4622 - val_acc: 0.7854\n",
      "Epoch 2/20\n",
      "25000/25000 [==============================] - 89s 4ms/step - loss: 0.3305 - acc: 0.8576 - val_loss: 0.3500 - val_acc: 0.8470\n",
      "Epoch 3/20\n",
      "25000/25000 [==============================] - 105s 4ms/step - loss: 0.1932 - acc: 0.9264 - val_loss: 0.3925 - val_acc: 0.8308\n",
      "Epoch 4/20\n",
      "25000/25000 [==============================] - 94s 4ms/step - loss: 0.1335 - acc: 0.9530 - val_loss: 0.4319 - val_acc: 0.8361\n",
      "Epoch 5/20\n",
      "25000/25000 [==============================] - 94s 4ms/step - loss: 0.0782 - acc: 0.9743 - val_loss: 0.5159 - val_acc: 0.8282\n",
      "Epoch 6/20\n",
      "25000/25000 [==============================] - 82s 3ms/step - loss: 0.0458 - acc: 0.9851 - val_loss: 0.6418 - val_acc: 0.8262\n",
      "Epoch 7/20\n",
      "25000/25000 [==============================] - 113s 5ms/step - loss: 0.0267 - acc: 0.9923 - val_loss: 0.7747 - val_acc: 0.8243\n",
      "Epoch 8/20\n",
      "25000/25000 [==============================] - 101s 4ms/step - loss: 0.0163 - acc: 0.9950 - val_loss: 0.7657 - val_acc: 0.8219\n",
      "Epoch 9/20\n",
      "25000/25000 [==============================] - 100s 4ms/step - loss: 0.0106 - acc: 0.9973 - val_loss: 0.8584 - val_acc: 0.8213\n",
      "Epoch 10/20\n",
      "25000/25000 [==============================] - 86s 3ms/step - loss: 0.0073 - acc: 0.9979 - val_loss: 0.8979 - val_acc: 0.8220\n",
      "Epoch 11/20\n",
      "25000/25000 [==============================] - 78s 3ms/step - loss: 0.0064 - acc: 0.9977 - val_loss: 0.9495 - val_acc: 0.8219\n",
      "Epoch 12/20\n",
      "25000/25000 [==============================] - 77s 3ms/step - loss: 0.0051 - acc: 0.9983 - val_loss: 0.9760 - val_acc: 0.8207\n",
      "Epoch 13/20\n",
      "25000/25000 [==============================] - 77s 3ms/step - loss: 0.0034 - acc: 0.9990 - val_loss: 1.1249 - val_acc: 0.8224\n",
      "Epoch 14/20\n",
      "25000/25000 [==============================] - 77s 3ms/step - loss: 0.0039 - acc: 0.9988 - val_loss: 1.1526 - val_acc: 0.8191\n",
      "Epoch 15/20\n",
      "25000/25000 [==============================] - 78s 3ms/step - loss: 0.0096 - acc: 0.9968 - val_loss: 1.1541 - val_acc: 0.8203\n",
      "Epoch 16/20\n",
      "25000/25000 [==============================] - 77s 3ms/step - loss: 0.0114 - acc: 0.9964 - val_loss: 1.1388 - val_acc: 0.8176\n",
      "Epoch 17/20\n",
      "25000/25000 [==============================] - 101s 4ms/step - loss: 0.0083 - acc: 0.9972 - val_loss: 1.0857 - val_acc: 0.8240\n",
      "Epoch 18/20\n",
      "25000/25000 [==============================] - 102s 4ms/step - loss: 0.0052 - acc: 0.9984 - val_loss: 1.1527 - val_acc: 0.8132\n",
      "Epoch 19/20\n",
      "25000/25000 [==============================] - 126s 5ms/step - loss: 0.0040 - acc: 0.9989 - val_loss: 1.2825 - val_acc: 0.8174\n",
      "Epoch 20/20\n",
      "25000/25000 [==============================] - 105s 4ms/step - loss: 0.0023 - acc: 0.9994 - val_loss: 1.2419 - val_acc: 0.8239\n",
      "25000/25000 [==============================] - 28s 1ms/step\n",
      "Test score: 1.241900721168518\n",
      "Test accuracy: 0.823880000114441\n"
     ]
    }
   ],
   "source": [
    "# Fitting the model\n",
    "print('Train...')\n",
    "a=model.fit(x_train, y_train,\n",
    "          batch_size=batch_size,\n",
    "          epochs=epochs,\n",
    "          validation_data=(x_test, y_test))\n",
    "score, acc = model.evaluate(x_test, y_test, batch_size=batch_size)\n",
    "print('Test score:', score)\n",
    "print('Test accuracy:', acc)"
   ]
  },
  {
   "cell_type": "markdown",
   "metadata": {},
   "source": [
    "The call to model.fit() returns a History object. This object has a member history, which is a dictionary containing data about everything that happened during training"
   ]
  },
  {
   "cell_type": "code",
   "execution_count": 16,
   "metadata": {},
   "outputs": [
    {
     "data": {
      "text/plain": [
       "dict_keys(['val_loss', 'val_acc', 'loss', 'acc'])"
      ]
     },
     "execution_count": 16,
     "metadata": {},
     "output_type": "execute_result"
    }
   ],
   "source": [
    "history_dict = a.history\n",
    "history_dict.keys()"
   ]
  },
  {
   "cell_type": "code",
   "execution_count": 17,
   "metadata": {},
   "outputs": [
    {
     "data": {
      "image/png": "[encoded data removed]",
      "text/plain": [
       "<matplotlib.figure.Figure at 0x1f367a1a6d8>"
      ]
     },
     "metadata": {},
     "output_type": "display_data"
    }
   ],
   "source": [
    "# Plotting training loss v/s validation loss\n",
    "import matplotlib.pyplot as plt\n",
    "\n",
    "#acc = history.history['acc']\n",
    "#val_acc = history.history['val_acc']\n",
    "acc = a.history['acc']\n",
    "val_acc = a.history['val_acc']\n",
    "loss = a.history['loss']\n",
    "val_loss = a.history['val_loss']\n",
    "\n",
    "epochs = range(1, len(acc) + 1)\n",
    "\n",
    "# \"bo\" is for \"blue dot\"\n",
    "plt.plot(epochs, loss, 'bo', label='Training loss')\n",
    "# b is for \"solid blue line\"\n",
    "plt.plot(epochs, val_loss, 'b', label='Validation loss')\n",
    "plt.title('Training and validation loss')\n",
    "plt.xlabel('Epochs')\n",
    "plt.ylabel('Loss')\n",
    "plt.legend()\n",
    "\n",
    "plt.show()"
   ]
  },
  {
   "cell_type": "code",
   "execution_count": 18,
   "metadata": {},
   "outputs": [
    {
     "data": {
      "image/png": "[encoded data removed]",
      "text/plain": [
       "<matplotlib.figure.Figure at 0x1f367a1a320>"
      ]
     },
     "metadata": {},
     "output_type": "display_data"
    }
   ],
   "source": [
    "# Plotting training loss v/s validation accuracy\n",
    "plt.clf()   # clear figure\n",
    "#acc_values = history_dict['acc']\n",
    "#val_acc_values = history_dict['val_acc']\n",
    "acc_values = history_dict['acc']\n",
    "val_acc_values = history_dict['val_acc']\n",
    "\n",
    "plt.plot(epochs, acc, 'bo', label='Training acc')\n",
    "plt.plot(epochs, val_acc, 'b', label='Validation acc')\n",
    "plt.title('Training and validation accuracy')\n",
    "plt.xlabel('Epochs')\n",
    "plt.ylabel('Accuracy')\n",
    "plt.legend()\n",
    "\n",
    "plt.show()"
   ]
  },
  {
   "cell_type": "code",
   "execution_count": null,
   "metadata": {},
   "outputs": [],
   "source": []
  },
  {
   "cell_type": "code",
   "execution_count": 19,
   "metadata": {},
   "outputs": [
    {
     "name": "stdout",
     "output_type": "stream",
     "text": [
      "Train...\n",
      "Train on 25000 samples, validate on 25000 samples\n",
      "Epoch 1/4\n",
      "25000/25000 [==============================] - 79s 3ms/step - loss: 0.0025 - acc: 0.9991 - val_loss: 1.3888 - val_acc: 0.8210\n",
      "Epoch 2/4\n",
      "25000/25000 [==============================] - 89s 4ms/step - loss: 0.0035 - acc: 0.9990 - val_loss: 1.1793 - val_acc: 0.8213\n",
      "Epoch 3/4\n",
      "25000/25000 [==============================] - 88s 4ms/step - loss: 0.0027 - acc: 0.9990 - val_loss: 1.1320 - val_acc: 0.8209\n",
      "Epoch 4/4\n",
      "25000/25000 [==============================] - 91s 4ms/step - loss: 0.0020 - acc: 0.9992 - val_loss: 1.0997 - val_acc: 0.8184\n",
      "25000/25000 [==============================] - 29s 1ms/step\n",
      "Test score: 1.099650633392334\n",
      "Test accuracy: 0.8183599998283386\n"
     ]
    }
   ],
   "source": [
    "# Training\n",
    "batch_size = 512\n",
    "epochs = 4\n",
    "print('Train...')\n",
    "a=model.fit(x_train, y_train,\n",
    "          batch_size=batch_size,\n",
    "          epochs=epochs,\n",
    "          validation_data=(x_test, y_test))\n",
    "score, acc = model.evaluate(x_test, y_test, batch_size=batch_size)\n",
    "print('Test score:', score)\n",
    "print('Test accuracy:', acc)"
   ]
  },
  {
   "cell_type": "code",
   "execution_count": 20,
   "metadata": {},
   "outputs": [
    {
     "name": "stdout",
     "output_type": "stream",
     "text": [
      "25000/25000 [==============================] - 34s 1ms/step\n"
     ]
    }
   ],
   "source": [
    "#Evaluation\n",
    "results = model.evaluate(x_test, y_test)"
   ]
  },
  {
   "cell_type": "code",
   "execution_count": 21,
   "metadata": {},
   "outputs": [
    {
     "data": {
      "text/plain": [
       "[1.0996506330382825, 0.81836]"
      ]
     },
     "execution_count": 21,
     "metadata": {},
     "output_type": "execute_result"
    }
   ],
   "source": [
    "# Printing the results\n",
    "results"
   ]
  },
  {
   "cell_type": "code",
   "execution_count": 22,
   "metadata": {},
   "outputs": [
    {
     "data": {
      "text/plain": [
       "array([[1.4256231e-01],\n",
       "       [9.9999678e-01],\n",
       "       [9.9999881e-01],\n",
       "       ...,\n",
       "       [1.9036470e-05],\n",
       "       [9.9961841e-01],\n",
       "       [9.3451023e-01]], dtype=float32)"
      ]
     },
     "execution_count": 22,
     "metadata": {},
     "output_type": "execute_result"
    }
   ],
   "source": [
    "# Predicting the model\n",
    "model.predict(x_test)"
   ]
  },
  {
   "cell_type": "code",
   "execution_count": null,
   "metadata": {},
   "outputs": [],
   "source": [
    "ref[1]: https://medium.com/@thoszymkowiak/how-to-implement-sentiment-analysis-using-word-embedding-and-convolutional-neural-networks-on-keras-163197aef623"
   ]
  },
  {
   "cell_type": "markdown",
   "metadata": {
    "collapsed": true
   },
   "source": [
    "The text in the document by Neha Gaikwad and Nupur Deshpande is licensed under CC BY 3.0 https://creativecommons.org/licenses/by/3.0/us/\n",
    "\n",
    "The code in the document by Neha Gaikwad and Nupur Deshpande is licensed under the MIT License https://opensource.org/licenses/MIT"
   ]
  }
 ],
 "metadata": {
  "kernelspec": {
   "display_name": "Python 3",
   "language": "python",
   "name": "python3"
  },
  "language_info": {
   "codemirror_mode": {
    "name": "ipython",
    "version": 3
   },
   "file_extension": ".py",
   "mimetype": "text/x-python",
   "name": "python",
   "nbconvert_exporter": "python",
   "pygments_lexer": "ipython3",
   "version": "3.6.4"
  }
 },
 "nbformat": 4,
 "nbformat_minor": 2
}
