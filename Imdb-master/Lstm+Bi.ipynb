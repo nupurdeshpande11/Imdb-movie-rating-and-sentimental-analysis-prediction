{
 "cells": [
  {
   "cell_type": "markdown",
   "metadata": {},
   "source": [
    "## LSTM Bi-Directional architecture"
   ]
  },
  {
   "cell_type": "code",
   "execution_count": 1,
   "metadata": {
    "collapsed": true
   },
   "outputs": [],
   "source": [
    "from __future__ import print_function"
   ]
  },
  {
   "cell_type": "code",
   "execution_count": 2,
   "metadata": {},
   "outputs": [
    {
     "name": "stderr",
     "output_type": "stream",
     "text": [
      "C:\\Users\\nupur\\Anaconda3\\lib\\site-packages\\h5py\\__init__.py:34: FutureWarning: Conversion of the second argument of issubdtype from `float` to `np.floating` is deprecated. In future, it will be treated as `np.float64 == np.dtype(float).type`.\n",
      "  from ._conv import register_converters as _register_converters\n",
      "Using Theano backend.\n",
      "WARNING (theano.tensor.blas): Using NumPy C-API based implementation for BLAS functions.\n"
     ]
    }
   ],
   "source": [
    "# Importing libraries\n",
    "from keras.preprocessing import sequence\n",
    "from keras.models import Sequential\n",
    "from keras.layers import Dense, Dropout, Activation\n",
    "from keras.layers import Embedding\n",
    "from keras.layers import LSTM\n",
    "from keras.layers import Conv1D, MaxPooling1D\n",
    "from keras.datasets import imdb\n"
   ]
  },
  {
   "cell_type": "code",
   "execution_count": 3,
   "metadata": {
    "collapsed": true
   },
   "outputs": [],
   "source": [
    "# Embedding\n",
    "max_features = 20000\n",
    "maxlen = 100\n",
    "embedding_size = 128"
   ]
  },
  {
   "cell_type": "code",
   "execution_count": 4,
   "metadata": {
    "collapsed": true
   },
   "outputs": [],
   "source": [
    "# Convolution\n",
    "kernel_size = 5\n",
    "filters = 64\n",
    "pool_size = 4"
   ]
  },
  {
   "cell_type": "code",
   "execution_count": 5,
   "metadata": {
    "collapsed": true
   },
   "outputs": [],
   "source": [
    "# LSTM\n",
    "lstm_output_size = 70"
   ]
  },
  {
   "cell_type": "code",
   "execution_count": 6,
   "metadata": {
    "collapsed": true
   },
   "outputs": [],
   "source": [
    "# Training\n",
    "batch_size = 512\n",
    "epochs = 20"
   ]
  },
  {
   "cell_type": "code",
   "execution_count": 7,
   "metadata": {},
   "outputs": [
    {
     "name": "stdout",
     "output_type": "stream",
     "text": [
      "Loading data...\n",
      "25000 train sequences\n",
      "25000 test sequences\n"
     ]
    }
   ],
   "source": [
    "# Splitting data into test and train data \n",
    "print('Loading data...')\n",
    "(x_train, y_train), (x_test, y_test) = imdb.load_data(num_words=max_features)\n",
    "print(len(x_train), 'train sequences')\n",
    "print(len(x_test), 'test sequences')"
   ]
  },
  {
   "cell_type": "code",
   "execution_count": 8,
   "metadata": {},
   "outputs": [
    {
     "name": "stdout",
     "output_type": "stream",
     "text": [
      "Pad sequences (samples x time)\n",
      "x_train shape: (25000, 100)\n",
      "x_test shape: (25000, 100)\n"
     ]
    }
   ],
   "source": [
    "# Printing shape of train and test data\n",
    "print('Pad sequences (samples x time)')\n",
    "x_train = sequence.pad_sequences(x_train, maxlen=maxlen)\n",
    "x_test = sequence.pad_sequences(x_test, maxlen=maxlen)\n",
    "print('x_train shape:', x_train.shape)\n",
    "print('x_test shape:', x_test.shape)\n"
   ]
  },
  {
   "cell_type": "code",
   "execution_count": 12,
   "metadata": {},
   "outputs": [
    {
     "name": "stdout",
     "output_type": "stream",
     "text": [
      "Build model...\n"
     ]
    }
   ],
   "source": [
    "# Defining the model\n",
    "print('Build model...')\n",
    "\n",
    "model = Sequential()\n",
    "model.add(Embedding(max_features, embedding_size, input_length=maxlen))\n",
    "model.add(Dropout(0.25))\n",
    "model.add(Conv1D(filters,\n",
    "                 kernel_size,\n",
    "                 padding='valid',\n",
    "                 activation='relu',\n",
    "                 strides=1))\n",
    "model.add(MaxPooling1D(pool_size=pool_size))\n",
    "model.add(LSTM(lstm_output_size,go_backwards = True))\n",
    "model.add(Dense(1))\n",
    "model.add(Activation('sigmoid'))\n",
    "\n"
   ]
  },
  {
   "cell_type": "code",
   "execution_count": 13,
   "metadata": {
    "collapsed": true
   },
   "outputs": [],
   "source": [
    "# We configure our model with the rmsprop optimizer and the binary_crossentropy loss function\n",
    "model.compile(loss='binary_crossentropy',\n",
    "              optimizer='adam',\n",
    "              metrics=['accuracy'])"
   ]
  },
  {
   "cell_type": "code",
   "execution_count": 14,
   "metadata": {},
   "outputs": [
    {
     "name": "stdout",
     "output_type": "stream",
     "text": [
      "Train...\n",
      "Train on 25000 samples, validate on 25000 samples\n",
      "Epoch 1/20\n",
      "25000/25000 [==============================] - 97s 4ms/step - loss: 0.5817 - acc: 0.6766 - val_loss: 0.3855 - val_acc: 0.8259\n",
      "Epoch 2/20\n",
      "25000/25000 [==============================] - 95s 4ms/step - loss: 0.2911 - acc: 0.8800 - val_loss: 0.3472 - val_acc: 0.8470\n",
      "Epoch 3/20\n",
      "25000/25000 [==============================] - 108s 4ms/step - loss: 0.1820 - acc: 0.9346 - val_loss: 0.3857 - val_acc: 0.8395\n",
      "Epoch 4/20\n",
      "25000/25000 [==============================] - 105s 4ms/step - loss: 0.1183 - acc: 0.9609 - val_loss: 0.4635 - val_acc: 0.8336\n",
      "Epoch 5/20\n",
      "25000/25000 [==============================] - 108s 4ms/step - loss: 0.0793 - acc: 0.9746 - val_loss: 0.5464 - val_acc: 0.8269\n",
      "Epoch 6/20\n",
      "25000/25000 [==============================] - 101s 4ms/step - loss: 0.0505 - acc: 0.9855 - val_loss: 0.6477 - val_acc: 0.8213\n",
      "Epoch 7/20\n",
      "25000/25000 [==============================] - 105s 4ms/step - loss: 0.0339 - acc: 0.9908 - val_loss: 0.6871 - val_acc: 0.8208\n",
      "Epoch 8/20\n",
      "25000/25000 [==============================] - 96s 4ms/step - loss: 0.0277 - acc: 0.9915 - val_loss: 0.8037 - val_acc: 0.8189\n",
      "Epoch 9/20\n",
      "25000/25000 [==============================] - 87s 3ms/step - loss: 0.0162 - acc: 0.9958 - val_loss: 0.7177 - val_acc: 0.8188\n",
      "Epoch 10/20\n",
      "25000/25000 [==============================] - 105s 4ms/step - loss: 0.0154 - acc: 0.9948 - val_loss: 0.8533 - val_acc: 0.8191\n",
      "Epoch 11/20\n",
      "25000/25000 [==============================] - 107s 4ms/step - loss: 0.0114 - acc: 0.9971 - val_loss: 0.9217 - val_acc: 0.8195\n",
      "Epoch 12/20\n",
      "25000/25000 [==============================] - 106s 4ms/step - loss: 0.0087 - acc: 0.9974 - val_loss: 1.0402 - val_acc: 0.8154\n",
      "Epoch 13/20\n",
      "25000/25000 [==============================] - 95s 4ms/step - loss: 0.0095 - acc: 0.9970 - val_loss: 0.9712 - val_acc: 0.8169\n",
      "Epoch 14/20\n",
      "25000/25000 [==============================] - 85s 3ms/step - loss: 0.0082 - acc: 0.9968 - val_loss: 0.8906 - val_acc: 0.8185\n",
      "Epoch 15/20\n",
      "25000/25000 [==============================] - 82s 3ms/step - loss: 0.0065 - acc: 0.9977 - val_loss: 1.0114 - val_acc: 0.8192\n",
      "Epoch 16/20\n",
      "25000/25000 [==============================] - 91s 4ms/step - loss: 0.0045 - acc: 0.9984 - val_loss: 1.1241 - val_acc: 0.8170\n",
      "Epoch 17/20\n",
      "25000/25000 [==============================] - 106s 4ms/step - loss: 0.0040 - acc: 0.9988 - val_loss: 1.1168 - val_acc: 0.8174\n",
      "Epoch 18/20\n",
      "25000/25000 [==============================] - 95s 4ms/step - loss: 0.0037 - acc: 0.9986 - val_loss: 1.0919 - val_acc: 0.8155\n",
      "Epoch 19/20\n",
      "25000/25000 [==============================] - 102s 4ms/step - loss: 0.0057 - acc: 0.9982 - val_loss: 0.9495 - val_acc: 0.8118\n",
      "Epoch 20/20\n",
      "25000/25000 [==============================] - 107s 4ms/step - loss: 0.0067 - acc: 0.9980 - val_loss: 1.1963 - val_acc: 0.8143\n",
      "25000/25000 [==============================] - 28s 1ms/step\n",
      "Test score: 1.1963412321853637\n",
      "Test accuracy: 0.8142799997329712\n"
     ]
    }
   ],
   "source": [
    "#Training data \n",
    "print('Train...')\n",
    "a=model.fit(x_train, y_train,\n",
    "          batch_size=batch_size,\n",
    "          epochs=epochs,\n",
    "          validation_data=(x_test, y_test))\n",
    "score, acc = model.evaluate(x_test, y_test, batch_size=batch_size)\n",
    "print('Test score:', score)\n",
    "print('Test accuracy:', acc)"
   ]
  },
  {
   "cell_type": "code",
   "execution_count": 15,
   "metadata": {},
   "outputs": [
    {
     "data": {
      "text/plain": [
       "dict_keys(['val_loss', 'val_acc', 'loss', 'acc'])"
      ]
     },
     "execution_count": 15,
     "metadata": {},
     "output_type": "execute_result"
    }
   ],
   "source": [
    "# The call to model.fit() returns a History object. This object has a member history, which is a dictionary containing data about everything that happened during training\n",
    "history_dict = a.history\n",
    "history_dict.keys()"
   ]
  },
  {
   "cell_type": "code",
   "execution_count": 16,
   "metadata": {},
   "outputs": [
    {
     "data": {
      "image/png": "[encoded data removed]",
      "text/plain": [
       "<matplotlib.figure.Figure at 0x23507a7c550>"
      ]
     },
     "metadata": {},
     "output_type": "display_data"
    }
   ],
   "source": [
    "# Plotting training loss v/s validation loss\n",
    "import matplotlib.pyplot as plt\n",
    "\n",
    "#acc = history.history['acc']\n",
    "#val_acc = history.history['val_acc']\n",
    "acc = a.history['acc']\n",
    "val_acc = a.history['val_acc']\n",
    "loss = a.history['loss']\n",
    "val_loss = a.history['val_loss']\n",
    "\n",
    "epochs = range(1, len(acc) + 1)\n",
    "\n",
    "# \"bo\" is for \"blue dot\"\n",
    "plt.plot(epochs, loss, 'bo', label='Training loss')\n",
    "# b is for \"solid blue line\"\n",
    "plt.plot(epochs, val_loss, 'b', label='Validation loss')\n",
    "plt.title('Training and validation loss')\n",
    "plt.xlabel('Epochs')\n",
    "plt.ylabel('Loss')\n",
    "plt.legend()\n",
    "\n",
    "plt.show()"
   ]
  },
  {
   "cell_type": "code",
   "execution_count": 17,
   "metadata": {},
   "outputs": [
    {
     "data": {
      "image/png": "[encoded data removed]",
      "text/plain": [
       "<matplotlib.figure.Figure at 0x23507a7c0b8>"
      ]
     },
     "metadata": {},
     "output_type": "display_data"
    }
   ],
   "source": [
    "# Plotting training loss v/s validation accuracy\n",
    "plt.clf()   # clear figure\n",
    "#acc_values = history_dict['acc']\n",
    "#val_acc_values = history_dict['val_acc']\n",
    "acc_values = history_dict['acc']\n",
    "val_acc_values = history_dict['val_acc']\n",
    "\n",
    "plt.plot(epochs, acc, 'bo', label='Training acc')\n",
    "plt.plot(epochs, val_acc, 'b', label='Validation acc')\n",
    "plt.title('Training and validation accuracy')\n",
    "plt.xlabel('Epochs')\n",
    "plt.ylabel('Accuracy')\n",
    "plt.legend()\n",
    "\n",
    "plt.show()"
   ]
  },
  {
   "cell_type": "code",
   "execution_count": 18,
   "metadata": {},
   "outputs": [
    {
     "name": "stdout",
     "output_type": "stream",
     "text": [
      "Train...\n",
      "Train on 25000 samples, validate on 25000 samples\n",
      "Epoch 1/4\n",
      "25000/25000 [==============================] - 113s 5ms/step - loss: 0.0068 - acc: 0.9976 - val_loss: 1.0706 - val_acc: 0.8139\n",
      "Epoch 2/4\n",
      "25000/25000 [==============================] - 94s 4ms/step - loss: 0.0051 - acc: 0.9985 - val_loss: 1.1526 - val_acc: 0.8157\n",
      "Epoch 3/4\n",
      "25000/25000 [==============================] - 148s 6ms/step - loss: 0.0018 - acc: 0.9995 - val_loss: 1.2201 - val_acc: 0.8178\n",
      "Epoch 4/4\n",
      "25000/25000 [==============================] - 93s 4ms/step - loss: 0.0016 - acc: 0.9995 - val_loss: 1.2539 - val_acc: 0.8158\n",
      "25000/25000 [==============================] - 32s 1ms/step\n",
      "Test score: 1.2539143938064574\n",
      "Test accuracy: 0.8158000000190735\n"
     ]
    }
   ],
   "source": [
    "# Training\n",
    "batch_size = 512\n",
    "epochs = 4\n",
    "print('Train...')\n",
    "a=model.fit(x_train, y_train,\n",
    "          batch_size=batch_size,\n",
    "          epochs=epochs,\n",
    "          validation_data=(x_test, y_test))\n",
    "score, acc = model.evaluate(x_test, y_test, batch_size=batch_size)\n",
    "print('Test score:', score)\n",
    "print('Test accuracy:', acc)"
   ]
  },
  {
   "cell_type": "code",
   "execution_count": 19,
   "metadata": {},
   "outputs": [
    {
     "name": "stdout",
     "output_type": "stream",
     "text": [
      "25000/25000 [==============================] - 31s 1ms/step\n"
     ]
    }
   ],
   "source": [
    "\n",
    "results = model.evaluate(x_test, y_test)"
   ]
  },
  {
   "cell_type": "code",
   "execution_count": 20,
   "metadata": {},
   "outputs": [
    {
     "data": {
      "text/plain": [
       "[1.2539143974196911, 0.8158]"
      ]
     },
     "execution_count": 20,
     "metadata": {},
     "output_type": "execute_result"
    }
   ],
   "source": [
    "#Printing results\n",
    "results"
   ]
  },
  {
   "cell_type": "code",
   "execution_count": 21,
   "metadata": {},
   "outputs": [
    {
     "data": {
      "text/plain": [
       "array([[9.9983889e-01],\n",
       "       [9.9997222e-01],\n",
       "       [9.9998152e-01],\n",
       "       ...,\n",
       "       [1.9802354e-05],\n",
       "       [1.0873967e-01],\n",
       "       [9.9988455e-01]], dtype=float32)"
      ]
     },
     "execution_count": 21,
     "metadata": {},
     "output_type": "execute_result"
    }
   ],
   "source": [
    "# Predicting model\n",
    "model.predict(x_test)"
   ]
  },
  {
   "cell_type": "markdown",
   "metadata": {},
   "source": [
    "ref[1]: https://medium.com/@thoszymkowiak/how-to-implement-sentiment-analysis-using-word-embedding-and-convolutional-neural-networks-on-keras-163197aef623"
   ]
  },
  {
   "cell_type": "markdown",
   "metadata": {
    "collapsed": true
   },
   "source": [
    "The text in the document by Neha Gaikwad and Nupur Deshpande is licensed under CC BY 3.0 https://creativecommons.org/licenses/by/3.0/us/\n",
    "\n",
    "The code in the document by Neha Gaikwad and Nupur Deshpande is licensed under the MIT License https://opensource.org/licenses/MIT"
   ]
  }
 ],
 "metadata": {
  "kernelspec": {
   "display_name": "Python 3",
   "language": "python",
   "name": "python3"
  },
  "language_info": {
   "codemirror_mode": {
    "name": "ipython",
    "version": 3
   },
   "file_extension": ".py",
   "mimetype": "text/x-python",
   "name": "python",
   "nbconvert_exporter": "python",
   "pygments_lexer": "ipython3",
   "version": "3.6.4"
  }
 },
 "nbformat": 4,
 "nbformat_minor": 2
}
