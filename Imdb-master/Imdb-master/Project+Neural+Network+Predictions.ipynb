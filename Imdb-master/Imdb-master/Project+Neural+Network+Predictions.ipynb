{
 "cells": [
  {
   "cell_type": "code",
   "execution_count": 1,
   "metadata": {
    "collapsed": true
   },
   "outputs": [],
   "source": [
    "# Importing libraries\n",
    "import pandas as pd\n",
    "import numpy as np \n",
    "\n",
    "from sklearn.cluster import AffinityPropagation, KMeans\n",
    "from sklearn.decomposition import PCA\n",
    "from sklearn.manifold import TSNE\n",
    "\n",
    "from mpl_toolkits.mplot3d import Axes3D\n",
    "import matplotlib.pyplot as plt\n",
    "import matplotlib.lines as mlines\n",
    "\n",
    "from scipy import stats\n",
    "from scipy.spatial.distance import pdist\n",
    "\n",
    "from mpl_toolkits.axes_grid1.inset_locator import zoomed_inset_axes\n",
    "from mpl_toolkits.axes_grid1.inset_locator import mark_inset\n",
    "\n",
    "from itertools import cycle\n",
    "\n",
    "import string\n",
    "\n",
    "from collections import Counter"
   ]
  },
  {
   "cell_type": "code",
   "execution_count": 2,
   "metadata": {},
   "outputs": [
    {
     "name": "stderr",
     "output_type": "stream",
     "text": [
      "Using TensorFlow backend.\n"
     ]
    }
   ],
   "source": [
    "# Importing libraries\n",
    "from keras.layers.embeddings import Embedding\n",
    "from keras.layers import Input, merge\n",
    "from keras.models import Model\n",
    "from keras.layers.core import Flatten, Dropout, Dense\n",
    "from keras.optimizers import Adam\n",
    "from keras.optimizers import RMSprop\n",
    "\n",
    "from keras.layers.normalization import BatchNormalization\n",
    "from keras import initializers\n",
    "\n",
    "from keras.regularizers import l1, l2\n",
    "\n",
    "from keras.layers.recurrent import GRU, LSTM\n",
    "\n",
    "from keras import backend as K"
   ]
  },
  {
   "cell_type": "markdown",
   "metadata": {},
   "source": [
    "## Loading CSV files"
   ]
  },
  {
   "cell_type": "code",
   "execution_count": 3,
   "metadata": {},
   "outputs": [],
   "source": [
    " \n",
    "org_ratings = pd.read_csv('ratings.csv')\n",
    "org_movies = pd.read_csv('movies.csv')\n",
    "org_ratings.head(), org_movies.head()\n",
    "col_name = org_ratings.columns[0] # ref[1]\n",
    "org_ratings=org_ratings.rename(columns = {col_name:'userId'}) # ref[1]\n"
   ]
  },
  {
   "cell_type": "code",
   "execution_count": 4,
   "metadata": {},
   "outputs": [
    {
     "data": {
      "text/plain": [
       "(671, 9066, 10)"
      ]
     },
     "execution_count": 4,
     "metadata": {},
     "output_type": "execute_result"
    }
   ],
   "source": [
    "# Determining length of columns userId, movieId, imdb_score \n",
    "user = org_ratings.userId.unique()\n",
    "movies = org_ratings.movieId.unique()\n",
    "rating = org_ratings.imdb_score.unique()\n",
    "\n",
    "len(user), len(movies), len(rating)\n"
   ]
  },
  {
   "cell_type": "code",
   "execution_count": 5,
   "metadata": {},
   "outputs": [],
   "source": [
    "userid2idx = {o:i for i,o in enumerate(user)}\n",
    "movieid2idx = {o:i for i,o in enumerate(movies)}\n",
    "movieidx2id = {i:o for i,o in enumerate(movies)}"
   ]
  },
  {
   "cell_type": "code",
   "execution_count": 6,
   "metadata": {},
   "outputs": [],
   "source": [
    "new_ratings = org_ratings.copy()\n",
    "\n",
    "new_ratings.movieId = org_ratings.movieId.apply(lambda x: movieid2idx[x])\n",
    "new_ratings.userId = org_ratings.userId.apply(lambda x: userid2idx[x])"
   ]
  },
  {
   "cell_type": "markdown",
   "metadata": {},
   "source": [
    "Now, I want to make a 10 by 671 by 9066 matrix. For each depth 1-5, a value 1 is assigned to the 2D matrix if the user has rated a movie by the depth (i.e. x out of 5) or a 0 if not.\n",
    "This allows us to deal with the challenge of missing data, as not every user has rated every movie. I'll begin by sorting the data, and removing the timestamp."
   ]
  },
  {
   "cell_type": "code",
   "execution_count": 7,
   "metadata": {
    "collapsed": true
   },
   "outputs": [],
   "source": [
    "new_ratings = new_ratings.drop('timestamp', axis = 1)"
   ]
  },
  {
   "cell_type": "markdown",
   "metadata": {},
   "source": [
    "Now, I want to split this into a training and validation set, which are 80% and 20% of the total dataset respectively. I can use numpy's randn function to make sure the data is randomly split."
   ]
  },
  {
   "cell_type": "code",
   "execution_count": 8,
   "metadata": {},
   "outputs": [],
   "source": [
    "msk = np.random.rand(len(new_ratings)) < 0.8\n",
    "\n",
    "train = new_ratings[msk]\n",
    "valid = new_ratings[~msk]"
   ]
  },
  {
   "cell_type": "code",
   "execution_count": 9,
   "metadata": {},
   "outputs": [
    {
     "name": "stdout",
     "output_type": "stream",
     "text": [
      "(80294, 3) (19710, 3)\n",
      "   userId  movieId  imdb_score\n",
      "1       0        1         3.0\n",
      "2       0        2         3.0\n",
      "3       0        3         2.0\n",
      "4       0        4         4.0\n",
      "5       0        5         2.0\n"
     ]
    }
   ],
   "source": [
    "print(train.shape, valid.shape)\n",
    "print(train.head())"
   ]
  },
  {
   "cell_type": "markdown",
   "metadata": {},
   "source": [
    "# # Training a neural network "
   ]
  },
  {
   "cell_type": "code",
   "execution_count": 10,
   "metadata": {
    "collapsed": true
   },
   "outputs": [],
   "source": [
    "# I begin by specifying the input shape, which is the userId and movieId \n",
    "# I need to turn this into a tensor, so that's the first thing i'll do \n",
    "user_input = Input(shape=(1,), dtype='int64', name='user_input')\n",
    "movie_input = Input(shape = (1,), dtype = 'int64', name = 'movie_input')"
   ]
  },
  {
   "cell_type": "code",
   "execution_count": 11,
   "metadata": {},
   "outputs": [],
   "source": [
    "# Now that I have these inputs, I want to add an embedding layer for each of them;both users and movies have a 'bias'\n",
    "user_embed = Embedding(len(user), 50, input_length =1)(user_input)\n",
    "movie_embed = Embedding(len(movies), 50, input_length =1)(movie_input)"
   ]
  },
  {
   "cell_type": "code",
   "execution_count": 22,
   "metadata": {},
   "outputs": [
    {
     "name": "stderr",
     "output_type": "stream",
     "text": [
      "/home/ubuntu/anaconda3/lib/python3.5/site-packages/ipykernel/__main__.py:1: UserWarning: The `merge` function is deprecated and will be removed after 08/2017. Use instead layers from `keras.layers.merge`, e.g. `add`, `concatenate`, etc.\n",
      "  if __name__ == '__main__':\n",
      "/home/ubuntu/anaconda3/lib/python3.5/site-packages/keras/legacy/layers.py:465: UserWarning: The `Merge` layer is deprecated and will be removed after 08/2017. Use instead layers from `keras.layers.merge`, e.g. `add`, `concatenate`, etc.\n",
      "  name=name)\n"
     ]
    }
   ],
   "source": [
    "# Now that I've added this embedding layer, I can make the rest of my model by merging these two layers.#\n",
    "x = merge([user_embed, movie_embed], mode='concat')"
   ]
  },
  {
   "cell_type": "markdown",
   "metadata": {},
   "source": [
    " "
   ]
  },
  {
   "cell_type": "code",
   "execution_count": 23,
   "metadata": {
    "collapsed": true
   },
   "outputs": [],
   "source": [
    "x = Flatten()(x) # ref[2]\n",
    "x = Dropout(0.3)(x)\n",
    "x = Dense(70, activation='relu')(x)\n",
    "x = Dropout(0.75)(x)\n",
    "x = Dense(1)(x)\n",
    "nn = Model([user_input, movie_input], x)\n",
    "nn.compile(Adam(0.001), loss='mse')\n",
    "#with activation function relu and mse and Adam"
   ]
  },
  {
   "cell_type": "code",
   "execution_count": 24,
   "metadata": {},
   "outputs": [
    {
     "name": "stderr",
     "output_type": "stream",
     "text": [
      "/home/ubuntu/anaconda3/lib/python3.5/site-packages/ipykernel/__main__.py:2: UserWarning: The `nb_epoch` argument in `fit` has been renamed `epochs`.\n",
      "  from ipykernel import kernelapp as app\n"
     ]
    },
    {
     "name": "stdout",
     "output_type": "stream",
     "text": [
      "Train on 79930 samples, validate on 20074 samples\n",
      "Epoch 1/20\n",
      "79930/79930 [==============================] - 9s 116us/step - loss: 2.4505 - val_loss: 0.9005\n",
      "Epoch 2/20\n",
      "79930/79930 [==============================] - 9s 112us/step - loss: 1.3996 - val_loss: 0.8593\n",
      "Epoch 3/20\n",
      "79930/79930 [==============================] - 9s 115us/step - loss: 1.1713 - val_loss: 0.8251\n",
      "Epoch 4/20\n",
      "79930/79930 [==============================] - 9s 113us/step - loss: 0.9813 - val_loss: 0.8208\n",
      "Epoch 5/20\n",
      "79930/79930 [==============================] - 9s 114us/step - loss: 0.8454 - val_loss: 0.7999\n",
      "Epoch 6/20\n",
      "79930/79930 [==============================] - 9s 113us/step - loss: 0.7758 - val_loss: 0.7961\n",
      "Epoch 7/20\n",
      "79930/79930 [==============================] - 9s 116us/step - loss: 0.7441 - val_loss: 0.7942\n",
      "Epoch 8/20\n",
      "79930/79930 [==============================] - 9s 115us/step - loss: 0.7260 - val_loss: 0.7910\n",
      "Epoch 9/20\n",
      "79930/79930 [==============================] - 9s 116us/step - loss: 0.7141 - val_loss: 0.7930\n",
      "Epoch 10/20\n",
      "79930/79930 [==============================] - 9s 115us/step - loss: 0.7096 - val_loss: 0.7944\n",
      "Epoch 11/20\n",
      "79930/79930 [==============================] - 9s 112us/step - loss: 0.6991 - val_loss: 0.7961\n",
      "Epoch 12/20\n",
      "79930/79930 [==============================] - 9s 112us/step - loss: 0.6941 - val_loss: 0.7998\n",
      "Epoch 13/20\n",
      "79930/79930 [==============================] - 9s 117us/step - loss: 0.6934 - val_loss: 0.7986\n",
      "Epoch 14/20\n",
      "79930/79930 [==============================] - 9s 117us/step - loss: 0.6904 - val_loss: 0.7981\n",
      "Epoch 15/20\n",
      "79930/79930 [==============================] - 9s 115us/step - loss: 0.6879 - val_loss: 0.7994\n",
      "Epoch 16/20\n",
      "79930/79930 [==============================] - 10s 120us/step - loss: 0.6849 - val_loss: 0.7982\n",
      "Epoch 17/20\n",
      "79930/79930 [==============================] - 9s 115us/step - loss: 0.6862 - val_loss: 0.7981\n",
      "Epoch 18/20\n",
      "79930/79930 [==============================] - 9s 112us/step - loss: 0.6805 - val_loss: 0.7974\n",
      "Epoch 19/20\n",
      "79930/79930 [==============================] - 9s 112us/step - loss: 0.6783 - val_loss: 0.7992\n",
      "Epoch 20/20\n",
      "79930/79930 [==============================] - 9s 112us/step - loss: 0.6770 - val_loss: 0.8006\n"
     ]
    }
   ],
   "source": [
    "# So we have our first neural network. Let's try training it\n",
    "BASELINE = nn.fit([train.userId, train.movieId], train.imdb_score, batch_size=64, nb_epoch=20, \n",
    "          validation_data=([valid.userId, valid.movieId], valid.imdb_score)) # ref[2]\n"
   ]
  },
  {
   "cell_type": "code",
   "execution_count": 25,
   "metadata": {},
   "outputs": [
    {
     "name": "stdout",
     "output_type": "stream",
     "text": [
      "20074/20074 [==============================] - 0s 21us/step\n",
      "Test accuracy: 0.800636549064\n"
     ]
    }
   ],
   "source": [
    "acc = nn.evaluate([valid.userId, valid.movieId],valid.imdb_score,batch_size=30)\n",
    "print('Test accuracy:', acc)"
   ]
  },
  {
   "cell_type": "code",
   "execution_count": 26,
   "metadata": {},
   "outputs": [
    {
     "data": {
      "image/png": "[encoded data removed]",
      "text/plain": [
       "<matplotlib.figure.Figure at 0x7f3cbeb00e80>"
      ]
     },
     "metadata": {},
     "output_type": "display_data"
    }
   ],
   "source": [
    "#Plotting training data loss and validation data loss\n",
    "plt.plot(BASELINE.history['loss'], label = 'loss')\n",
    "plt.plot(BASELINE.history['val_loss'], label = 'val_loss')\n",
    "plt.legend()\n",
    "plt.xlabel('Epochs')\n",
    "plt.ylabel('MSE loss')\n",
    "plt.show()"
   ]
  },
  {
   "cell_type": "code",
   "execution_count": null,
   "metadata": {},
   "outputs": [],
   "source": [
    "#So it's quite clear that I start overfitting the data after the 6th epoch, after which the validation loss starts increasing again."
   ]
  },
  {
   "cell_type": "code",
   "execution_count": 27,
   "metadata": {},
   "outputs": [
    {
     "name": "stderr",
     "output_type": "stream",
     "text": [
      "/home/ubuntu/anaconda3/lib/python3.5/site-packages/ipykernel/__main__.py:1: UserWarning: The `merge` function is deprecated and will be removed after 08/2017. Use instead layers from `keras.layers.merge`, e.g. `add`, `concatenate`, etc.\n",
      "  if __name__ == '__main__':\n",
      "/home/ubuntu/anaconda3/lib/python3.5/site-packages/keras/legacy/layers.py:465: UserWarning: The `Merge` layer is deprecated and will be removed after 08/2017. Use instead layers from `keras.layers.merge`, e.g. `add`, `concatenate`, etc.\n",
      "  name=name)\n"
     ]
    }
   ],
   "source": [
    "x = merge([user_embed, movie_embed], mode='concat')"
   ]
  },
  {
   "cell_type": "code",
   "execution_count": 28,
   "metadata": {},
   "outputs": [],
   "source": [
    "x = Flatten()(x)\n",
    "x = Dropout(0.3)(x)\n",
    "x = Dense(70, activation='sigmoid')(x)\n",
    "x = Dropout(0.75)(x)\n",
    "x = Dense(1)(x)\n",
    "nn = Model([user_input, movie_input], x)\n",
    "nn.compile(Adam(0.001), loss='mse')\n",
    "#with sigmoid as activation function"
   ]
  },
  {
   "cell_type": "code",
   "execution_count": 29,
   "metadata": {},
   "outputs": [
    {
     "name": "stderr",
     "output_type": "stream",
     "text": [
      "/home/ubuntu/anaconda3/lib/python3.5/site-packages/ipykernel/__main__.py:2: UserWarning: The `nb_epoch` argument in `fit` has been renamed `epochs`.\n",
      "  from ipykernel import kernelapp as app\n"
     ]
    },
    {
     "name": "stdout",
     "output_type": "stream",
     "text": [
      "Train on 79930 samples, validate on 20074 samples\n",
      "Epoch 1/20\n",
      "79930/79930 [==============================] - 9s 117us/step - loss: 2.2800 - val_loss: 0.8212\n",
      "Epoch 2/20\n",
      "79930/79930 [==============================] - 9s 115us/step - loss: 1.1273 - val_loss: 0.8193\n",
      "Epoch 3/20\n",
      "79930/79930 [==============================] - 10s 121us/step - loss: 0.9816 - val_loss: 0.8063\n",
      "Epoch 4/20\n",
      "79930/79930 [==============================] - 9s 119us/step - loss: 0.8784 - val_loss: 0.8043\n",
      "Epoch 5/20\n",
      "79930/79930 [==============================] - 9s 112us/step - loss: 0.8120 - val_loss: 0.8032\n",
      "Epoch 6/20\n",
      "79930/79930 [==============================] - 9s 114us/step - loss: 0.7772 - val_loss: 0.8092\n",
      "Epoch 7/20\n",
      "79930/79930 [==============================] - 9s 111us/step - loss: 0.7650 - val_loss: 0.8062\n",
      "Epoch 8/20\n",
      "79930/79930 [==============================] - 9s 111us/step - loss: 0.7603 - val_loss: 0.8098\n",
      "Epoch 9/20\n",
      "79930/79930 [==============================] - 9s 118us/step - loss: 0.7523 - val_loss: 0.8108\n",
      "Epoch 10/20\n",
      "79930/79930 [==============================] - 9s 112us/step - loss: 0.7464 - val_loss: 0.8074\n",
      "Epoch 11/20\n",
      "79930/79930 [==============================] - 9s 111us/step - loss: 0.7440 - val_loss: 0.8094\n",
      "Epoch 12/20\n",
      "79930/79930 [==============================] - 9s 110us/step - loss: 0.7395 - val_loss: 0.8049\n",
      "Epoch 13/20\n",
      "79930/79930 [==============================] - 9s 111us/step - loss: 0.7341 - val_loss: 0.8062\n",
      "Epoch 14/20\n",
      "79930/79930 [==============================] - 9s 115us/step - loss: 0.7312 - val_loss: 0.8049\n",
      "Epoch 15/20\n",
      "79930/79930 [==============================] - 9s 114us/step - loss: 0.7277 - val_loss: 0.8066\n",
      "Epoch 16/20\n",
      "79930/79930 [==============================] - 9s 113us/step - loss: 0.7270 - val_loss: 0.8075\n",
      "Epoch 17/20\n",
      "79930/79930 [==============================] - 9s 114us/step - loss: 0.7232 - val_loss: 0.8110\n",
      "Epoch 18/20\n",
      "79930/79930 [==============================] - 9s 111us/step - loss: 0.7249 - val_loss: 0.8094\n",
      "Epoch 19/20\n",
      "79930/79930 [==============================] - 9s 110us/step - loss: 0.7204 - val_loss: 0.8094\n",
      "Epoch 20/20\n",
      "79930/79930 [==============================] - 9s 116us/step - loss: 0.7186 - val_loss: 0.8110\n"
     ]
    }
   ],
   "source": [
    "BASELINE = nn.fit([train.userId, train.movieId], train.imdb_score, batch_size=64, nb_epoch=20, \n",
    "          validation_data=([valid.userId, valid.movieId], valid.imdb_score))"
   ]
  },
  {
   "cell_type": "code",
   "execution_count": 30,
   "metadata": {},
   "outputs": [
    {
     "name": "stdout",
     "output_type": "stream",
     "text": [
      "20074/20074 [==============================] - 0s 21us/step\n",
      "Test accuracy: 0.811037780872\n"
     ]
    }
   ],
   "source": [
    "acc = nn.evaluate([valid.userId, valid.movieId],valid.imdb_score,batch_size=30)\n",
    "print('Test accuracy:', acc)"
   ]
  },
  {
   "cell_type": "code",
   "execution_count": 31,
   "metadata": {},
   "outputs": [
    {
     "data": {
      "image/png": "[encoded data removed]",
      "text/plain": [
       "<matplotlib.figure.Figure at 0x7f3cbc029f98>"
      ]
     },
     "metadata": {},
     "output_type": "display_data"
    }
   ],
   "source": [
    "plt.plot(BASELINE.history['loss'], label = 'loss')\n",
    "plt.plot(BASELINE.history['val_loss'], label = 'val_loss')\n",
    "plt.legend()\n",
    "plt.xlabel('Epochs')\n",
    "plt.ylabel('MSE loss')\n",
    "plt.show()"
   ]
  },
  {
   "cell_type": "code",
   "execution_count": 32,
   "metadata": {},
   "outputs": [
    {
     "name": "stderr",
     "output_type": "stream",
     "text": [
      "/home/ubuntu/anaconda3/lib/python3.5/site-packages/ipykernel/__main__.py:1: UserWarning: The `merge` function is deprecated and will be removed after 08/2017. Use instead layers from `keras.layers.merge`, e.g. `add`, `concatenate`, etc.\n",
      "  if __name__ == '__main__':\n",
      "/home/ubuntu/anaconda3/lib/python3.5/site-packages/keras/legacy/layers.py:465: UserWarning: The `Merge` layer is deprecated and will be removed after 08/2017. Use instead layers from `keras.layers.merge`, e.g. `add`, `concatenate`, etc.\n",
      "  name=name)\n"
     ]
    }
   ],
   "source": [
    "x = merge([user_embed, movie_embed], mode='concat')\n",
    "x = Flatten()(x)\n",
    "x = Dropout(0.3)(x)\n",
    "x = Dense(70, activation='relu')(x)\n",
    "x = Dropout(0.75)(x)\n",
    "x = Dense(1)(x)\n",
    "nn = Model([user_input, movie_input], x)\n",
    "nn.compile(Adam(0.001), loss='squared_hinge')\n",
    "#with square_hinge as cost function "
   ]
  },
  {
   "cell_type": "code",
   "execution_count": 33,
   "metadata": {},
   "outputs": [
    {
     "name": "stderr",
     "output_type": "stream",
     "text": [
      "/home/ubuntu/anaconda3/lib/python3.5/site-packages/ipykernel/__main__.py:2: UserWarning: The `nb_epoch` argument in `fit` has been renamed `epochs`.\n",
      "  from ipykernel import kernelapp as app\n"
     ]
    },
    {
     "name": "stdout",
     "output_type": "stream",
     "text": [
      "Train on 79930 samples, validate on 20074 samples\n",
      "Epoch 1/20\n",
      "79930/79930 [==============================] - 10s 123us/step - loss: 0.0501 - val_loss: 1.2180e-04\n",
      "Epoch 2/20\n",
      "79930/79930 [==============================] - 9s 117us/step - loss: 0.0019 - val_loss: 3.0501e-05\n",
      "Epoch 3/20\n",
      "79930/79930 [==============================] - 9s 117us/step - loss: 7.1687e-04 - val_loss: 8.4580e-06\n",
      "Epoch 4/20\n",
      "79930/79930 [==============================] - 9s 111us/step - loss: 2.8226e-04 - val_loss: 2.6584e-07\n",
      "Epoch 5/20\n",
      "79930/79930 [==============================] - 9s 112us/step - loss: 2.0544e-04 - val_loss: 0.0000e+00\n",
      "Epoch 6/20\n",
      "79930/79930 [==============================] - 9s 112us/step - loss: 6.8362e-05 - val_loss: 0.0000e+00\n",
      "Epoch 7/20\n",
      "79930/79930 [==============================] - 9s 113us/step - loss: 5.4200e-05 - val_loss: 0.0000e+00\n",
      "Epoch 8/20\n",
      "79930/79930 [==============================] - 9s 116us/step - loss: 3.6111e-05 - val_loss: 0.0000e+00\n",
      "Epoch 9/20\n",
      "79930/79930 [==============================] - 10s 122us/step - loss: 5.8077e-05 - val_loss: 0.0000e+00\n",
      "Epoch 10/20\n",
      "79930/79930 [==============================] - 9s 112us/step - loss: 2.0625e-05 - val_loss: 0.0000e+00\n",
      "Epoch 11/20\n",
      "79930/79930 [==============================] - 9s 112us/step - loss: 1.1740e-05 - val_loss: 0.0000e+00\n",
      "Epoch 12/20\n",
      "79930/79930 [==============================] - 9s 117us/step - loss: 7.9931e-06 - val_loss: 0.0000e+00\n",
      "Epoch 13/20\n",
      "79930/79930 [==============================] - 9s 114us/step - loss: 6.8418e-06 - val_loss: 0.0000e+00\n",
      "Epoch 14/20\n",
      "79930/79930 [==============================] - 9s 115us/step - loss: 2.8275e-06 - val_loss: 0.0000e+00\n",
      "Epoch 15/20\n",
      "79930/79930 [==============================] - 8s 103us/step - loss: 5.9086e-06 - val_loss: 0.0000e+00\n",
      "Epoch 16/20\n",
      "79930/79930 [==============================] - 8s 101us/step - loss: 2.2032e-06 - val_loss: 0.0000e+00\n",
      "Epoch 17/20\n",
      "79930/79930 [==============================] - 8s 102us/step - loss: 1.9763e-06 - val_loss: 0.0000e+00\n",
      "Epoch 18/20\n",
      "79930/79930 [==============================] - 8s 102us/step - loss: 2.0910e-08 - val_loss: 0.0000e+00\n",
      "Epoch 19/20\n",
      "79930/79930 [==============================] - 8s 100us/step - loss: 1.5529e-06 - val_loss: 0.0000e+00\n",
      "Epoch 20/20\n",
      "79930/79930 [==============================] - 8s 100us/step - loss: 8.7170e-06 - val_loss: 0.0000e+00\n"
     ]
    }
   ],
   "source": [
    "BASELINE = nn.fit([train.userId, train.movieId], train.imdb_score, batch_size=64, nb_epoch=20, \n",
    "          validation_data=([valid.userId, valid.movieId], valid.imdb_score))"
   ]
  },
  {
   "cell_type": "code",
   "execution_count": 34,
   "metadata": {},
   "outputs": [
    {
     "name": "stdout",
     "output_type": "stream",
     "text": [
      "20074/20074 [==============================] - 0s 10us/step\n",
      "Test accuracy: 0.0\n"
     ]
    }
   ],
   "source": [
    "acc = nn.evaluate([valid.userId, valid.movieId],valid.imdb_score,batch_size=64)\n",
    "print('Test accuracy:', acc)"
   ]
  },
  {
   "cell_type": "code",
   "execution_count": 35,
   "metadata": {},
   "outputs": [
    {
     "data": {
      "image/png": "[encoded data removed]",
      "text/plain": [
       "<matplotlib.figure.Figure at 0x7f3cb778c6d8>"
      ]
     },
     "metadata": {},
     "output_type": "display_data"
    }
   ],
   "source": [
    "plt.plot(BASELINE.history['loss'], label = 'loss')\n",
    "plt.plot(BASELINE.history['val_loss'], label = 'val_loss')\n",
    "plt.legend()\n",
    "plt.xlabel('Epochs')\n",
    "plt.ylabel('MSE loss')\n",
    "plt.show()"
   ]
  },
  {
   "cell_type": "code",
   "execution_count": 36,
   "metadata": {},
   "outputs": [
    {
     "name": "stderr",
     "output_type": "stream",
     "text": [
      "/home/ubuntu/anaconda3/lib/python3.5/site-packages/ipykernel/__main__.py:1: UserWarning: The `merge` function is deprecated and will be removed after 08/2017. Use instead layers from `keras.layers.merge`, e.g. `add`, `concatenate`, etc.\n",
      "  if __name__ == '__main__':\n",
      "/home/ubuntu/anaconda3/lib/python3.5/site-packages/keras/legacy/layers.py:465: UserWarning: The `Merge` layer is deprecated and will be removed after 08/2017. Use instead layers from `keras.layers.merge`, e.g. `add`, `concatenate`, etc.\n",
      "  name=name)\n"
     ]
    }
   ],
   "source": [
    "x = merge([user_embed, movie_embed], mode='concat')\n",
    "\n",
    "x = Flatten()(x)\n",
    "x = Dropout(0.3)(x)\n",
    "x = Dense(70, activation='relu')(x)\n",
    "x = Dropout(0.75)(x)\n",
    "x = Dense(1)(x)\n",
    "nn = Model([user_input, movie_input], x)\n",
    "nn.compile(RMSprop(0.001), loss='mse')\n",
    "#with RMSprop"
   ]
  },
  {
   "cell_type": "code",
   "execution_count": 37,
   "metadata": {},
   "outputs": [
    {
     "name": "stderr",
     "output_type": "stream",
     "text": [
      "/home/ubuntu/anaconda3/lib/python3.5/site-packages/ipykernel/__main__.py:2: UserWarning: The `nb_epoch` argument in `fit` has been renamed `epochs`.\n",
      "  from ipykernel import kernelapp as app\n"
     ]
    },
    {
     "name": "stdout",
     "output_type": "stream",
     "text": [
      "Train on 79930 samples, validate on 20074 samples\n",
      "Epoch 1/20\n",
      "79930/79930 [==============================] - 8s 99us/step - loss: 2.0354 - val_loss: 0.8824\n",
      "Epoch 2/20\n",
      "79930/79930 [==============================] - 7s 93us/step - loss: 0.9858 - val_loss: 0.8214\n",
      "Epoch 3/20\n",
      "79930/79930 [==============================] - 7s 93us/step - loss: 0.7925 - val_loss: 0.8069\n",
      "Epoch 4/20\n",
      "79930/79930 [==============================] - 8s 96us/step - loss: 0.7142 - val_loss: 0.7991\n",
      "Epoch 5/20\n",
      "79930/79930 [==============================] - 8s 96us/step - loss: 0.6920 - val_loss: 0.7986\n",
      "Epoch 6/20\n",
      "79930/79930 [==============================] - 8s 97us/step - loss: 0.6861 - val_loss: 0.7949\n",
      "Epoch 7/20\n",
      "79930/79930 [==============================] - 8s 96us/step - loss: 0.6942 - val_loss: 0.7934\n",
      "Epoch 8/20\n",
      "79930/79930 [==============================] - 7s 93us/step - loss: 0.7066 - val_loss: 0.8519\n",
      "Epoch 9/20\n",
      "79930/79930 [==============================] - 7s 93us/step - loss: 0.7326 - val_loss: 0.8642\n",
      "Epoch 10/20\n",
      "79930/79930 [==============================] - 8s 95us/step - loss: 0.8006 - val_loss: 0.8076\n",
      "Epoch 11/20\n",
      "79930/79930 [==============================] - 7s 94us/step - loss: 1.0013 - val_loss: 0.9136\n",
      "Epoch 12/20\n",
      "79930/79930 [==============================] - 7s 92us/step - loss: 1.6094 - val_loss: 1.2593\n",
      "Epoch 13/20\n",
      "79930/79930 [==============================] - 7s 90us/step - loss: 3.3999 - val_loss: 0.8223\n",
      "Epoch 14/20\n",
      "79930/79930 [==============================] - 7s 91us/step - loss: 7.8947 - val_loss: 3.4234\n",
      "Epoch 15/20\n",
      "79930/79930 [==============================] - 7s 93us/step - loss: 17.5450 - val_loss: 111.3944\n",
      "Epoch 16/20\n",
      "79930/79930 [==============================] - 7s 92us/step - loss: 37.3675 - val_loss: 107.1780\n",
      "Epoch 17/20\n",
      "79930/79930 [==============================] - 7s 93us/step - loss: 73.9869 - val_loss: 7.4195\n",
      "Epoch 18/20\n",
      "79930/79930 [==============================] - 8s 95us/step - loss: 136.3562 - val_loss: 159.2179\n",
      "Epoch 19/20\n",
      "79930/79930 [==============================] - 8s 95us/step - loss: 240.2879 - val_loss: 362.0948\n",
      "Epoch 20/20\n",
      "79930/79930 [==============================] - 7s 92us/step - loss: 397.0828 - val_loss: 49.8400\n"
     ]
    }
   ],
   "source": [
    "BASELINE = nn.fit([train.userId, train.movieId], train.imdb_score, batch_size=64, nb_epoch=20, \n",
    "          validation_data=([valid.userId, valid.movieId], valid.imdb_score))"
   ]
  },
  {
   "cell_type": "code",
   "execution_count": 38,
   "metadata": {},
   "outputs": [
    {
     "name": "stdout",
     "output_type": "stream",
     "text": [
      "20074/20074 [==============================] - 0s 10us/step\n",
      "Test accuracy: 49.8400415138\n"
     ]
    }
   ],
   "source": [
    "acc = nn.evaluate([valid.userId, valid.movieId],valid.imdb_score,batch_size=64)\n",
    "print('Test accuracy:', acc)"
   ]
  },
  {
   "cell_type": "code",
   "execution_count": 39,
   "metadata": {},
   "outputs": [
    {
     "data": {
      "image/png": "[encoded data removed]",
      "text/plain": [
       "<matplotlib.figure.Figure at 0x7f3cb705c6a0>"
      ]
     },
     "metadata": {},
     "output_type": "display_data"
    }
   ],
   "source": [
    "plt.plot(BASELINE.history['loss'], label = 'loss')\n",
    "plt.plot(BASELINE.history['val_loss'], label = 'val_loss')\n",
    "plt.legend()\n",
    "plt.xlabel('Epochs')\n",
    "plt.ylabel('MSE loss')\n",
    "plt.show()"
   ]
  },
  {
   "cell_type": "code",
   "execution_count": 40,
   "metadata": {},
   "outputs": [
    {
     "name": "stderr",
     "output_type": "stream",
     "text": [
      "/home/ubuntu/anaconda3/lib/python3.5/site-packages/ipykernel/__main__.py:1: UserWarning: The `merge` function is deprecated and will be removed after 08/2017. Use instead layers from `keras.layers.merge`, e.g. `add`, `concatenate`, etc.\n",
      "  if __name__ == '__main__':\n",
      "/home/ubuntu/anaconda3/lib/python3.5/site-packages/keras/legacy/layers.py:465: UserWarning: The `Merge` layer is deprecated and will be removed after 08/2017. Use instead layers from `keras.layers.merge`, e.g. `add`, `concatenate`, etc.\n",
      "  name=name)\n"
     ]
    }
   ],
   "source": [
    "x = merge([user_embed, movie_embed], mode='concat')\n",
    "\n",
    "x = Flatten()(x)\n",
    "x = Dropout(0.3)(x)\n",
    "x = Dense(70, activation='relu')(x)\n",
    "x = Dropout(0.75)(x)\n",
    "x = Dense(1)(x)\n",
    "nn = Model([user_input, movie_input], x)\n",
    "nn.compile(Adam(0.001), loss='mse')\n",
    "#with aDAM, relu and mse with 10 epochs"
   ]
  },
  {
   "cell_type": "code",
   "execution_count": 41,
   "metadata": {},
   "outputs": [
    {
     "name": "stderr",
     "output_type": "stream",
     "text": [
      "/home/ubuntu/anaconda3/lib/python3.5/site-packages/ipykernel/__main__.py:2: UserWarning: The `nb_epoch` argument in `fit` has been renamed `epochs`.\n",
      "  from ipykernel import kernelapp as app\n"
     ]
    },
    {
     "name": "stdout",
     "output_type": "stream",
     "text": [
      "Train on 79930 samples, validate on 20074 samples\n",
      "Epoch 1/10\n",
      "79930/79930 [==============================] - 9s 119us/step - loss: 3.1901 - val_loss: 1.3773\n",
      "Epoch 2/10\n",
      "79930/79930 [==============================] - 9s 113us/step - loss: 1.5459 - val_loss: 1.0112\n",
      "Epoch 3/10\n",
      "79930/79930 [==============================] - 9s 115us/step - loss: 1.1379 - val_loss: 0.8866\n",
      "Epoch 4/10\n",
      "79930/79930 [==============================] - 9s 111us/step - loss: 0.9689 - val_loss: 0.8578\n",
      "Epoch 5/10\n",
      "79930/79930 [==============================] - 9s 115us/step - loss: 0.8883 - val_loss: 0.8434\n",
      "Epoch 6/10\n",
      "79930/79930 [==============================] - 9s 113us/step - loss: 0.8447 - val_loss: 0.8297\n",
      "Epoch 7/10\n",
      "79930/79930 [==============================] - 9s 114us/step - loss: 0.8156 - val_loss: 0.8294\n",
      "Epoch 8/10\n",
      "79930/79930 [==============================] - 9s 112us/step - loss: 0.7969 - val_loss: 0.8143\n",
      "Epoch 9/10\n",
      "79930/79930 [==============================] - 9s 114us/step - loss: 0.7802 - val_loss: 0.8107\n",
      "Epoch 10/10\n",
      "79930/79930 [==============================] - 9s 111us/step - loss: 0.7731 - val_loss: 0.8038\n"
     ]
    }
   ],
   "source": [
    "BASELINE = nn.fit([train.userId, train.movieId], train.imdb_score, batch_size=64, nb_epoch=10, \n",
    "          validation_data=([valid.userId, valid.movieId], valid.imdb_score))"
   ]
  },
  {
   "cell_type": "code",
   "execution_count": 42,
   "metadata": {},
   "outputs": [
    {
     "name": "stdout",
     "output_type": "stream",
     "text": [
      "20074/20074 [==============================] - 0s 10us/step\n",
      "Test accuracy: 0.803783093914\n"
     ]
    }
   ],
   "source": [
    "acc = nn.evaluate([valid.userId, valid.movieId],valid.imdb_score,batch_size=64)\n",
    "print('Test accuracy:', acc)"
   ]
  },
  {
   "cell_type": "code",
   "execution_count": 43,
   "metadata": {},
   "outputs": [
    {
     "data": {
      "image/png": "[encoded data removed]",
      "text/plain": [
       "<matplotlib.figure.Figure at 0x7f3cbe8f2f98>"
      ]
     },
     "metadata": {},
     "output_type": "display_data"
    }
   ],
   "source": [
    "plt.plot(BASELINE.history['loss'], label = 'loss')\n",
    "plt.plot(BASELINE.history['val_loss'], label = 'val_loss')\n",
    "plt.legend()\n",
    "plt.xlabel('Epochs')\n",
    "plt.ylabel('MSE loss')\n",
    "plt.show()"
   ]
  },
  {
   "cell_type": "markdown",
   "metadata": {},
   "source": [
    "## Trying Different architecture"
   ]
  },
  {
   "cell_type": "code",
   "execution_count": 45,
   "metadata": {},
   "outputs": [
    {
     "name": "stderr",
     "output_type": "stream",
     "text": [
      "/home/ubuntu/anaconda3/lib/python3.5/site-packages/ipykernel/__main__.py:7: UserWarning: The `merge` function is deprecated and will be removed after 08/2017. Use instead layers from `keras.layers.merge`, e.g. `add`, `concatenate`, etc.\n",
      "/home/ubuntu/anaconda3/lib/python3.5/site-packages/keras/legacy/layers.py:465: UserWarning: The `Merge` layer is deprecated and will be removed after 08/2017. Use instead layers from `keras.layers.merge`, e.g. `add`, `concatenate`, etc.\n",
      "  name=name)\n"
     ]
    }
   ],
   "source": [
    "# Single layer GRU model\n",
    "\n",
    "user_input = Input(shape=(1,), dtype='int64', name='user_input')\n",
    "movie_input = Input(shape = (1,), dtype = 'int64', name = 'movie_input')\n",
    "user_embed = Embedding(len(user), 50, input_length =1)(user_input)\n",
    "movie_embed = Embedding(len(movies), 50, input_length =1)(movie_input)\n",
    "x = merge([user_embed, movie_embed], mode='concat')\n",
    " \n",
    "x = GRU(1)(x)\n",
    "\n",
    "GRU_model = Model([user_input, movie_input], x)"
   ]
  },
  {
   "cell_type": "code",
   "execution_count": 46,
   "metadata": {
    "collapsed": true
   },
   "outputs": [],
   "source": [
    "# We configure our model with the adam optimizer and the mse loss function\n",
    "GRU_model.compile(Adam(0.01), loss='mse')"
   ]
  },
  {
   "cell_type": "code",
   "execution_count": 47,
   "metadata": {},
   "outputs": [
    {
     "name": "stderr",
     "output_type": "stream",
     "text": [
      "/home/ubuntu/anaconda3/lib/python3.5/site-packages/ipykernel/__main__.py:2: UserWarning: The `nb_epoch` argument in `fit` has been renamed `epochs`.\n",
      "  from ipykernel import kernelapp as app\n"
     ]
    },
    {
     "name": "stdout",
     "output_type": "stream",
     "text": [
      "Train on 79930 samples, validate on 20074 samples\n",
      "Epoch 1/8\n",
      "79930/79930 [==============================] - 10s 123us/step - loss: 7.6896 - val_loss: 7.5781\n",
      "Epoch 2/8\n",
      "79930/79930 [==============================] - 9s 112us/step - loss: 7.5929 - val_loss: 7.5791\n",
      "Epoch 3/8\n",
      "79930/79930 [==============================] - 9s 111us/step - loss: 7.5931 - val_loss: 7.5804\n",
      "Epoch 4/8\n",
      "79930/79930 [==============================] - 9s 112us/step - loss: 7.5937 - val_loss: 7.5804\n",
      "Epoch 5/8\n",
      "79930/79930 [==============================] - 9s 113us/step - loss: 7.5935 - val_loss: 7.5807\n",
      "Epoch 6/8\n",
      "79930/79930 [==============================] - 9s 115us/step - loss: 7.5936 - val_loss: 7.5807\n",
      "Epoch 7/8\n",
      "79930/79930 [==============================] - 10s 121us/step - loss: 7.5932 - val_loss: 7.5796\n",
      "Epoch 8/8\n",
      "79930/79930 [==============================] - 9s 116us/step - loss: 7.5930 - val_loss: 7.5794\n"
     ]
    }
   ],
   "source": [
    "# Fitting the model\n",
    "GRU_history = GRU_model.fit([train.userId, train.movieId], train.imdb_score, batch_size=64, nb_epoch=8, \n",
    "          validation_data=([valid.userId, valid.movieId], valid.imdb_score))"
   ]
  },
  {
   "cell_type": "code",
   "execution_count": 48,
   "metadata": {},
   "outputs": [
    {
     "name": "stdout",
     "output_type": "stream",
     "text": [
      "20074/20074 [==============================] - 0s 11us/step\n",
      "Test accuracy: 0.803783093914\n"
     ]
    }
   ],
   "source": [
    "# Evaluating the model\n",
    "acc = nn.evaluate([valid.userId, valid.movieId],valid.imdb_score,batch_size=64)\n",
    "print('Test accuracy:', acc)"
   ]
  },
  {
   "cell_type": "code",
   "execution_count": 50,
   "metadata": {},
   "outputs": [
    {
     "name": "stderr",
     "output_type": "stream",
     "text": [
      "/home/ubuntu/anaconda3/lib/python3.5/site-packages/ipykernel/__main__.py:7: UserWarning: The `merge` function is deprecated and will be removed after 08/2017. Use instead layers from `keras.layers.merge`, e.g. `add`, `concatenate`, etc.\n",
      "/home/ubuntu/anaconda3/lib/python3.5/site-packages/keras/legacy/layers.py:465: UserWarning: The `Merge` layer is deprecated and will be removed after 08/2017. Use instead layers from `keras.layers.merge`, e.g. `add`, `concatenate`, etc.\n",
      "  name=name)\n"
     ]
    }
   ],
   "source": [
    "# Multi layer GRU model\n",
    "\n",
    "user_input = Input(shape=(1,), dtype='int64', name='user_input')\n",
    "movie_input = Input(shape = (1,), dtype = 'int64', name = 'movie_input')\n",
    "user_embed = Embedding(len(user), 50, input_length =1)(user_input)\n",
    "movie_embed = Embedding(len(movies), 50, input_length =1)(movie_input)\n",
    "x = merge([user_embed, movie_embed], mode='concat')\n",
    "\n",
    "x = Dropout(0.3)(x)\n",
    "x = GRU(70)(x)\n",
    "x = Dropout(0.75)(x)\n",
    "x = Dense(1)(x)\n",
    "GRU_nn = Model([user_input, movie_input], x)\n",
    "GRU_nn.compile(Adam(0.001), loss='mse')"
   ]
  },
  {
   "cell_type": "code",
   "execution_count": 51,
   "metadata": {},
   "outputs": [
    {
     "name": "stderr",
     "output_type": "stream",
     "text": [
      "/home/ubuntu/anaconda3/lib/python3.5/site-packages/ipykernel/__main__.py:2: UserWarning: The `nb_epoch` argument in `fit` has been renamed `epochs`.\n",
      "  from ipykernel import kernelapp as app\n"
     ]
    },
    {
     "name": "stdout",
     "output_type": "stream",
     "text": [
      "Train on 79930 samples, validate on 20074 samples\n",
      "Epoch 1/10\n",
      "79930/79930 [==============================] - 12s 145us/step - loss: 2.1278 - val_loss: 0.8765\n",
      "Epoch 2/10\n",
      "79930/79930 [==============================] - 10s 131us/step - loss: 1.2053 - val_loss: 0.8453\n",
      "Epoch 3/10\n",
      "79930/79930 [==============================] - 11s 131us/step - loss: 1.0655 - val_loss: 0.8284\n",
      "Epoch 4/10\n",
      "79930/79930 [==============================] - 10s 128us/step - loss: 0.9422 - val_loss: 0.8057\n",
      "Epoch 5/10\n",
      "79930/79930 [==============================] - 10s 128us/step - loss: 0.8433 - val_loss: 0.8044\n",
      "Epoch 6/10\n",
      "79930/79930 [==============================] - 10s 130us/step - loss: 0.7796 - val_loss: 0.8054\n",
      "Epoch 7/10\n",
      "79930/79930 [==============================] - 10s 127us/step - loss: 0.7392 - val_loss: 0.7939\n",
      "Epoch 8/10\n",
      "79930/79930 [==============================] - 10s 131us/step - loss: 0.7162 - val_loss: 0.7928\n",
      "Epoch 9/10\n",
      "79930/79930 [==============================] - 10s 128us/step - loss: 0.7003 - val_loss: 0.7909\n",
      "Epoch 10/10\n",
      "79930/79930 [==============================] - 10s 128us/step - loss: 0.6921 - val_loss: 0.7867\n"
     ]
    }
   ],
   "source": [
    "#Fitting the model\n",
    "GRUnn_history = GRU_nn.fit([train.userId, train.movieId], train.imdb_score, batch_size=64, nb_epoch=10, \n",
    "          validation_data=([valid.userId, valid.movieId], valid.imdb_score))"
   ]
  },
  {
   "cell_type": "code",
   "execution_count": 59,
   "metadata": {},
   "outputs": [
    {
     "name": "stdout",
     "output_type": "stream",
     "text": [
      "20074/20074 [==============================] - 0s 20us/step\n",
      "Test accuracy: 0.786706441301\n"
     ]
    }
   ],
   "source": [
    "# Printing the accuracy \n",
    "acc = GRU_nn.evaluate([valid.userId, valid.movieId],valid.imdb_score,batch_size=64)\n",
    "print('Test accuracy:', acc)"
   ]
  },
  {
   "cell_type": "code",
   "execution_count": 53,
   "metadata": {},
   "outputs": [
    {
     "data": {
      "image/png": "[encoded data removed]",
      "text/plain": [
       "<matplotlib.figure.Figure at 0x7f3cb4d83400>"
      ]
     },
     "metadata": {},
     "output_type": "display_data"
    }
   ],
   "source": [
    "plt.clf()\n",
    "#plt.plot(nn_history.history['loss'], label = 'nn_loss')\n",
    "#plt.plot(nn_history.history['val_loss'], label = 'nn_val_loss')\n",
    "plt.plot(GRUnn_history.history['loss'], label = 'GRUloss')\n",
    "plt.plot(GRUnn_history.history['val_loss'], label = 'GRUval_loss')\n",
    "plt.legend()\n",
    "plt.xlabel('Epochs')\n",
    "plt.ylabel('MSE loss')\n",
    "plt.show()"
   ]
  },
  {
   "cell_type": "code",
   "execution_count": 60,
   "metadata": {},
   "outputs": [
    {
     "name": "stderr",
     "output_type": "stream",
     "text": [
      "/home/ubuntu/anaconda3/lib/python3.5/site-packages/ipykernel/__main__.py:7: UserWarning: The `merge` function is deprecated and will be removed after 08/2017. Use instead layers from `keras.layers.merge`, e.g. `add`, `concatenate`, etc.\n",
      "/home/ubuntu/anaconda3/lib/python3.5/site-packages/keras/legacy/layers.py:465: UserWarning: The `Merge` layer is deprecated and will be removed after 08/2017. Use instead layers from `keras.layers.merge`, e.g. `add`, `concatenate`, etc.\n",
      "  name=name)\n",
      "/home/ubuntu/anaconda3/lib/python3.5/site-packages/ipykernel/__main__.py:12: UserWarning: The `merge` function is deprecated and will be removed after 08/2017. Use instead layers from `keras.layers.merge`, e.g. `add`, `concatenate`, etc.\n"
     ]
    }
   ],
   "source": [
    "# Multi layer bi-directional GRU model\n",
    "\n",
    "user_input = Input(shape=(1,), dtype='int64', name='user_input')\n",
    "movie_input = Input(shape = (1,), dtype = 'int64', name = 'movie_input')\n",
    "user_embed = Embedding(len(user), 50, input_length =1)(user_input)\n",
    "movie_embed = Embedding(len(movies), 50, input_length =1)(movie_input)\n",
    "x = merge([user_embed, movie_embed], mode='concat')\n",
    "\n",
    "x = Dropout(0.3)(x)\n",
    "x_fwd = GRU(70)(x)\n",
    "x_bwd = GRU(70, go_backwards = True)(x)\n",
    "x_bdir = merge([x_fwd, x_bwd], mode = 'concat')\n",
    "x = Dropout(0.75)(x_bdir)\n",
    "x = Dense(1)(x)\n",
    "GRU_bdir = Model([user_input, movie_input], x)\n",
    "GRU_bdir.compile(Adam(0.001), loss='mse')"
   ]
  },
  {
   "cell_type": "code",
   "execution_count": 61,
   "metadata": {},
   "outputs": [
    {
     "name": "stderr",
     "output_type": "stream",
     "text": [
      "/home/ubuntu/anaconda3/lib/python3.5/site-packages/ipykernel/__main__.py:2: UserWarning: The `nb_epoch` argument in `fit` has been renamed `epochs`.\n",
      "  from ipykernel import kernelapp as app\n"
     ]
    },
    {
     "name": "stdout",
     "output_type": "stream",
     "text": [
      "Train on 79930 samples, validate on 20074 samples\n",
      "Epoch 1/10\n",
      "79930/79930 [==============================] - 18s 229us/step - loss: 1.7743 - val_loss: 0.8354\n",
      "Epoch 2/10\n",
      "79930/79930 [==============================] - 16s 201us/step - loss: 1.0153 - val_loss: 0.8209\n",
      "Epoch 3/10\n",
      "79930/79930 [==============================] - 16s 198us/step - loss: 0.9507 - val_loss: 0.8079\n",
      "Epoch 4/10\n",
      "79930/79930 [==============================] - 16s 205us/step - loss: 0.8867 - val_loss: 0.8066\n",
      "Epoch 5/10\n",
      "79930/79930 [==============================] - 16s 204us/step - loss: 0.8315 - val_loss: 0.8050\n",
      "Epoch 6/10\n",
      "79930/79930 [==============================] - 15s 192us/step - loss: 0.7885 - val_loss: 0.8013\n",
      "Epoch 7/10\n",
      "79930/79930 [==============================] - 15s 192us/step - loss: 0.7550 - val_loss: 0.7980\n",
      "Epoch 8/10\n",
      "79930/79930 [==============================] - 17s 207us/step - loss: 0.7282 - val_loss: 0.7946\n",
      "Epoch 9/10\n",
      "79930/79930 [==============================] - 16s 205us/step - loss: 0.7070 - val_loss: 0.7910\n",
      "Epoch 10/10\n",
      "79930/79930 [==============================] - 16s 205us/step - loss: 0.6916 - val_loss: 0.7885\n"
     ]
    }
   ],
   "source": [
    "GRUbdir_history = GRU_bdir.fit([train.userId, train.movieId], train.imdb_score, batch_size=64, nb_epoch=10, \n",
    "          validation_data=([valid.userId, valid.movieId], valid.imdb_score))"
   ]
  },
  {
   "cell_type": "code",
   "execution_count": 62,
   "metadata": {},
   "outputs": [
    {
     "name": "stdout",
     "output_type": "stream",
     "text": [
      "20074/20074 [==============================] - 1s 31us/step\n",
      "Test accuracy: 0.788471796206\n"
     ]
    }
   ],
   "source": [
    "acc = GRU_bdir.evaluate([valid.userId, valid.movieId],valid.imdb_score,batch_size=64)\n",
    "print('Test accuracy:', acc)"
   ]
  },
  {
   "cell_type": "code",
   "execution_count": 63,
   "metadata": {},
   "outputs": [
    {
     "data": {
      "text/plain": [
       "<matplotlib.figure.Figure at 0x7f3cae1725c0>"
      ]
     },
     "metadata": {},
     "output_type": "display_data"
    },
    {
     "data": {
      "image/png": "[encoded data removed]",
      "text/plain": [
       "<matplotlib.figure.Figure at 0x7f3cae0c5e48>"
      ]
     },
     "metadata": {},
     "output_type": "display_data"
    }
   ],
   "source": [
    "plt.clf()\n",
    "plt.figure(figsize = (10,7))\n",
    "#plt.plot(nn_history.history['loss'], label = 'nn_loss')\n",
    "#plt.plot(nn_history.history['val_loss'], label = 'nn_val_loss')\n",
    "plt.plot(GRUbdir_history.history['loss'], label = 'GRUloss')\n",
    "plt.plot(GRUbdir_history.history['val_loss'], label = 'GRUval_loss')\n",
    "plt.legend()\n",
    "plt.xlabel('Epochs')\n",
    "plt.ylabel('MSE loss')\n",
    "plt.show()"
   ]
  },
  {
   "cell_type": "code",
   "execution_count": 67,
   "metadata": {},
   "outputs": [
    {
     "name": "stderr",
     "output_type": "stream",
     "text": [
      "/home/ubuntu/anaconda3/lib/python3.5/site-packages/ipykernel/__main__.py:7: UserWarning: The `merge` function is deprecated and will be removed after 08/2017. Use instead layers from `keras.layers.merge`, e.g. `add`, `concatenate`, etc.\n",
      "/home/ubuntu/anaconda3/lib/python3.5/site-packages/keras/legacy/layers.py:465: UserWarning: The `Merge` layer is deprecated and will be removed after 08/2017. Use instead layers from `keras.layers.merge`, e.g. `add`, `concatenate`, etc.\n",
      "  name=name)\n"
     ]
    }
   ],
   "source": [
    "# Multi layer LSTM model\n",
    "\n",
    "user_input = Input(shape=(1,), dtype='int64', name='user_input')\n",
    "movie_input = Input(shape = (1,), dtype = 'int64', name = 'movie_input')\n",
    "user_embed = Embedding(len(user), 50, input_length =1)(user_input)\n",
    "movie_embed = Embedding(len(movies), 50, input_length =1)(movie_input)\n",
    "x = merge([user_embed, movie_embed], mode='concat')\n",
    "\n",
    "x = Dropout(0.75)(x)\n",
    "BatchNormalization()\n",
    "x = LSTM(70)(x)\n",
    "x = Dropout(0.75)(x)\n",
    "BatchNormalization()\n",
    "x = Dense(1)(x)\n",
    "LSTM_nn = Model([user_input, movie_input], x)\n",
    "LSTM_nn.compile(Adam(0.001), loss='mse')"
   ]
  },
  {
   "cell_type": "code",
   "execution_count": 69,
   "metadata": {},
   "outputs": [
    {
     "name": "stderr",
     "output_type": "stream",
     "text": [
      "/home/ubuntu/anaconda3/lib/python3.5/site-packages/ipykernel/__main__.py:2: UserWarning: The `nb_epoch` argument in `fit` has been renamed `epochs`.\n",
      "  from ipykernel import kernelapp as app\n"
     ]
    },
    {
     "name": "stdout",
     "output_type": "stream",
     "text": [
      "Train on 79930 samples, validate on 20074 samples\n",
      "Epoch 1/15\n",
      "79930/79930 [==============================] - 14s 172us/step - loss: 2.6144 - val_loss: 0.8605\n",
      "Epoch 2/15\n",
      "79930/79930 [==============================] - 12s 145us/step - loss: 1.2683 - val_loss: 0.8293\n",
      "Epoch 3/15\n",
      "79930/79930 [==============================] - 12s 148us/step - loss: 1.1383 - val_loss: 0.8129\n",
      "Epoch 4/15\n",
      "79930/79930 [==============================] - 11s 144us/step - loss: 1.0176 - val_loss: 0.8010\n",
      "Epoch 5/15\n",
      "79930/79930 [==============================] - 12s 147us/step - loss: 0.9148 - val_loss: 0.7962\n",
      "Epoch 6/15\n",
      "79930/79930 [==============================] - 12s 149us/step - loss: 0.8457 - val_loss: 0.7958\n",
      "Epoch 7/15\n",
      "79930/79930 [==============================] - 11s 143us/step - loss: 0.7990 - val_loss: 0.7954\n",
      "Epoch 8/15\n",
      "79930/79930 [==============================] - 12s 145us/step - loss: 0.7737 - val_loss: 0.7972\n",
      "Epoch 9/15\n",
      "79930/79930 [==============================] - 12s 149us/step - loss: 0.7578 - val_loss: 0.7896\n",
      "Epoch 10/15\n",
      "79930/79930 [==============================] - 12s 147us/step - loss: 0.7457 - val_loss: 0.7903\n",
      "Epoch 11/15\n",
      "79930/79930 [==============================] - 12s 148us/step - loss: 0.7416 - val_loss: 0.7867\n",
      "Epoch 12/15\n",
      "79930/79930 [==============================] - 12s 146us/step - loss: 0.7332 - val_loss: 0.7835\n",
      "Epoch 13/15\n",
      "79930/79930 [==============================] - 12s 145us/step - loss: 0.7305 - val_loss: 0.7819\n",
      "Epoch 14/15\n",
      "79930/79930 [==============================] - 12s 149us/step - loss: 0.7237 - val_loss: 0.7842\n",
      "Epoch 15/15\n",
      "79930/79930 [==============================] - 12s 146us/step - loss: 0.7208 - val_loss: 0.7842\n"
     ]
    }
   ],
   "source": [
    "LSTM_history = LSTM_nn.fit([train.userId, train.movieId], train.imdb_score, batch_size=64, nb_epoch=15, \n",
    "          validation_data=([valid.userId, valid.movieId], valid.imdb_score))"
   ]
  },
  {
   "cell_type": "code",
   "execution_count": 70,
   "metadata": {},
   "outputs": [
    {
     "name": "stdout",
     "output_type": "stream",
     "text": [
      "20074/20074 [==============================] - 0s 23us/step\n",
      "Test accuracy: 0.784243265418\n"
     ]
    }
   ],
   "source": [
    "acc = LSTM_nn.evaluate([valid.userId, valid.movieId],valid.imdb_score,batch_size=64)\n",
    "print('Test accuracy:', acc)"
   ]
  },
  {
   "cell_type": "code",
   "execution_count": 76,
   "metadata": {},
   "outputs": [
    {
     "data": {
      "text/plain": [
       "<matplotlib.figure.Figure at 0x7f3cac3b3be0>"
      ]
     },
     "metadata": {},
     "output_type": "display_data"
    },
    {
     "data": {
      "image/png": "[encoded data removed]",
      "text/plain": [
       "<matplotlib.figure.Figure at 0x7f3cac0f7fd0>"
      ]
     },
     "metadata": {},
     "output_type": "display_data"
    }
   ],
   "source": [
    "plt.clf()\n",
    "plt.figure(figsize = (10,7))\n",
    "plt.plot(LSTM_history.history['loss'], label = 'LSTMloss')\n",
    "plt.plot(LSTM_history.history['val_loss'], label = 'LSTMval_loss')\n",
    "plt.legend()\n",
    "plt.xlabel('Epochs')\n",
    "plt.ylabel('MSE loss')\n",
    "plt.show()"
   ]
  },
  {
   "cell_type": "code",
   "execution_count": 77,
   "metadata": {},
   "outputs": [
    {
     "name": "stderr",
     "output_type": "stream",
     "text": [
      "/home/ubuntu/anaconda3/lib/python3.5/site-packages/ipykernel/__main__.py:7: UserWarning: The `merge` function is deprecated and will be removed after 08/2017. Use instead layers from `keras.layers.merge`, e.g. `add`, `concatenate`, etc.\n",
      "/home/ubuntu/anaconda3/lib/python3.5/site-packages/keras/legacy/layers.py:465: UserWarning: The `Merge` layer is deprecated and will be removed after 08/2017. Use instead layers from `keras.layers.merge`, e.g. `add`, `concatenate`, etc.\n",
      "  name=name)\n"
     ]
    }
   ],
   "source": [
    "# Multi layer LSTM model\n",
    "\n",
    "user_input = Input(shape=(1,), dtype='int64', name='user_input')\n",
    "movie_input = Input(shape = (1,), dtype = 'int64', name = 'movie_input')\n",
    "user_embed = Embedding(len(user), 50, input_length =1)(user_input)\n",
    "movie_embed = Embedding(len(movies), 50, input_length =1)(movie_input)\n",
    "x = merge([user_embed, movie_embed], mode='concat')\n",
    "\n",
    "x = Dropout(0.75)(x)\n",
    "BatchNormalization()\n",
    "x = LSTM(50)(x)\n",
    "x = Dropout(0.75)(x)\n",
    "BatchNormalization()\n",
    "x = Dense(1)(x)\n",
    "LSTM50_nn = Model([user_input, movie_input], x)\n",
    "LSTM50_nn.compile(Adam(0.001), loss='mse')"
   ]
  },
  {
   "cell_type": "code",
   "execution_count": 74,
   "metadata": {},
   "outputs": [
    {
     "name": "stderr",
     "output_type": "stream",
     "text": [
      "/home/ubuntu/anaconda3/lib/python3.5/site-packages/ipykernel/__main__.py:2: UserWarning: The `nb_epoch` argument in `fit` has been renamed `epochs`.\n",
      "  from ipykernel import kernelapp as app\n"
     ]
    },
    {
     "name": "stdout",
     "output_type": "stream",
     "text": [
      "Train on 79930 samples, validate on 20074 samples\n",
      "Epoch 1/20\n",
      "79930/79930 [==============================] - 14s 180us/step - loss: 2.8913 - val_loss: 0.8913\n",
      "Epoch 2/20\n",
      "79930/79930 [==============================] - 13s 159us/step - loss: 1.4010 - val_loss: 0.8461\n",
      "Epoch 3/20\n",
      "79930/79930 [==============================] - 13s 157us/step - loss: 1.2175 - val_loss: 0.8192\n",
      "Epoch 4/20\n",
      "79930/79930 [==============================] - 13s 168us/step - loss: 1.0536 - val_loss: 0.8127\n",
      "Epoch 5/20\n",
      "79930/79930 [==============================] - 13s 157us/step - loss: 0.9185 - val_loss: 0.8001\n",
      "Epoch 6/20\n",
      "79930/79930 [==============================] - 13s 162us/step - loss: 0.8367 - val_loss: 0.7965\n",
      "Epoch 7/20\n",
      "79930/79930 [==============================] - 13s 160us/step - loss: 0.7956 - val_loss: 0.7958\n",
      "Epoch 8/20\n",
      "79930/79930 [==============================] - 13s 160us/step - loss: 0.7701 - val_loss: 0.7950\n",
      "Epoch 9/20\n",
      "79930/79930 [==============================] - 13s 159us/step - loss: 0.7563 - val_loss: 0.7937\n",
      "Epoch 10/20\n",
      "79930/79930 [==============================] - 13s 158us/step - loss: 0.7459 - val_loss: 0.7923\n",
      "Epoch 11/20\n",
      "79930/79930 [==============================] - 13s 163us/step - loss: 0.7431 - val_loss: 0.7877\n",
      "Epoch 12/20\n",
      "79930/79930 [==============================] - 14s 172us/step - loss: 0.7384 - val_loss: 0.7845\n",
      "Epoch 13/20\n",
      "79930/79930 [==============================] - 14s 171us/step - loss: 0.7323 - val_loss: 0.7852\n",
      "Epoch 14/20\n",
      "79930/79930 [==============================] - 14s 171us/step - loss: 0.7321 - val_loss: 0.7840\n",
      "Epoch 15/20\n",
      "79930/79930 [==============================] - 14s 177us/step - loss: 0.7244 - val_loss: 0.7833\n",
      "Epoch 16/20\n",
      "79930/79930 [==============================] - 14s 177us/step - loss: 0.7216 - val_loss: 0.7825\n",
      "Epoch 17/20\n",
      "79930/79930 [==============================] - 14s 177us/step - loss: 0.7187 - val_loss: 0.7832\n",
      "Epoch 18/20\n",
      "79930/79930 [==============================] - 14s 178us/step - loss: 0.7190 - val_loss: 0.7805\n",
      "Epoch 19/20\n",
      "79930/79930 [==============================] - 13s 162us/step - loss: 0.7158 - val_loss: 0.7820\n",
      "Epoch 20/20\n",
      "79930/79930 [==============================] - 13s 163us/step - loss: 0.7144 - val_loss: 0.7823\n"
     ]
    }
   ],
   "source": [
    "LSTM50_history = LSTM50_nn.fit([train.userId, train.movieId], train.imdb_score, batch_size=64, nb_epoch=20, \n",
    "          validation_data=([valid.userId, valid.movieId], valid.imdb_score))"
   ]
  },
  {
   "cell_type": "code",
   "execution_count": 75,
   "metadata": {},
   "outputs": [
    {
     "name": "stdout",
     "output_type": "stream",
     "text": [
      "20074/20074 [==============================] - 0s 20us/step\n",
      "Test accuracy: 0.782255502559\n"
     ]
    }
   ],
   "source": [
    "acc = LSTM50_nn.evaluate([valid.userId, valid.movieId],valid.imdb_score,batch_size=64)\n",
    "print('Test accuracy:', acc)"
   ]
  },
  {
   "cell_type": "code",
   "execution_count": 80,
   "metadata": {},
   "outputs": [
    {
     "name": "stderr",
     "output_type": "stream",
     "text": [
      "/home/ubuntu/anaconda3/lib/python3.5/site-packages/ipykernel/__main__.py:7: UserWarning: The `merge` function is deprecated and will be removed after 08/2017. Use instead layers from `keras.layers.merge`, e.g. `add`, `concatenate`, etc.\n",
      "/home/ubuntu/anaconda3/lib/python3.5/site-packages/keras/legacy/layers.py:465: UserWarning: The `Merge` layer is deprecated and will be removed after 08/2017. Use instead layers from `keras.layers.merge`, e.g. `add`, `concatenate`, etc.\n",
      "  name=name)\n",
      "/home/ubuntu/anaconda3/lib/python3.5/site-packages/ipykernel/__main__.py:13: UserWarning: The `merge` function is deprecated and will be removed after 08/2017. Use instead layers from `keras.layers.merge`, e.g. `add`, `concatenate`, etc.\n"
     ]
    }
   ],
   "source": [
    "# Bidirectional LSTM model with regularization\n",
    "\n",
    "user_input = Input(shape=(1,), dtype='int64', name='user_input')\n",
    "movie_input = Input(shape = (1,), dtype = 'int64', name = 'movie_input')\n",
    "user_embed = Embedding(len(user), 50, input_length =1)(user_input)\n",
    "movie_embed = Embedding(len(movies), 50, input_length =1)(movie_input)\n",
    "x = merge([user_embed, movie_embed], mode='concat')\n",
    "\n",
    "x = Dropout(0.75)(x)\n",
    "BatchNormalization()\n",
    "x_fwd = LSTM(50)(x)\n",
    "x_bwd = LSTM(50, go_backwards = True)(x)\n",
    "x_bdir = merge([x_fwd, x_bwd], mode = 'concat')\n",
    "x = Dropout(0.75)(x_bdir)\n",
    "BatchNormalization()\n",
    "x = Dense(1)(x)\n",
    "LSTM50_bdir = Model([user_input, movie_input], x)\n",
    "LSTM50_bdir.compile(Adam(0.001), loss='mse')"
   ]
  },
  {
   "cell_type": "code",
   "execution_count": 81,
   "metadata": {},
   "outputs": [
    {
     "name": "stderr",
     "output_type": "stream",
     "text": [
      "/home/ubuntu/anaconda3/lib/python3.5/site-packages/ipykernel/__main__.py:2: UserWarning: The `nb_epoch` argument in `fit` has been renamed `epochs`.\n",
      "  from ipykernel import kernelapp as app\n"
     ]
    },
    {
     "name": "stdout",
     "output_type": "stream",
     "text": [
      "Train on 79930 samples, validate on 20074 samples\n",
      "Epoch 1/20\n",
      "79930/79930 [==============================] - 19s 235us/step - loss: 2.3714 - val_loss: 0.8742\n",
      "Epoch 2/20\n",
      "79930/79930 [==============================] - 16s 200us/step - loss: 1.1636 - val_loss: 0.8244\n",
      "Epoch 3/20\n",
      "79930/79930 [==============================] - 16s 206us/step - loss: 1.0698 - val_loss: 0.8121\n",
      "Epoch 4/20\n",
      "79930/79930 [==============================] - 16s 199us/step - loss: 0.9856 - val_loss: 0.8000\n",
      "Epoch 5/20\n",
      "79930/79930 [==============================] - 16s 200us/step - loss: 0.9107 - val_loss: 0.7990\n",
      "Epoch 6/20\n",
      "79930/79930 [==============================] - 16s 205us/step - loss: 0.8505 - val_loss: 0.7942\n",
      "Epoch 7/20\n",
      "79930/79930 [==============================] - 16s 202us/step - loss: 0.8091 - val_loss: 0.7936\n",
      "Epoch 8/20\n",
      "79930/79930 [==============================] - 16s 199us/step - loss: 0.7806 - val_loss: 0.7939\n",
      "Epoch 9/20\n",
      "79930/79930 [==============================] - 16s 196us/step - loss: 0.7613 - val_loss: 0.7913\n",
      "Epoch 10/20\n",
      "79930/79930 [==============================] - 16s 206us/step - loss: 0.7463 - val_loss: 0.7877\n",
      "Epoch 11/20\n",
      "79930/79930 [==============================] - 16s 199us/step - loss: 0.7373 - val_loss: 0.7857\n",
      "Epoch 12/20\n",
      "79930/79930 [==============================] - 16s 198us/step - loss: 0.7275 - val_loss: 0.7849\n",
      "Epoch 13/20\n",
      "79930/79930 [==============================] - 16s 204us/step - loss: 0.7251 - val_loss: 0.7839\n",
      "Epoch 14/20\n",
      "79930/79930 [==============================] - 16s 206us/step - loss: 0.7229 - val_loss: 0.7841\n",
      "Epoch 15/20\n",
      "79930/79930 [==============================] - 16s 199us/step - loss: 0.7170 - val_loss: 0.7816\n",
      "Epoch 16/20\n",
      "79930/79930 [==============================] - 16s 201us/step - loss: 0.7124 - val_loss: 0.7813\n",
      "Epoch 17/20\n",
      "79930/79930 [==============================] - 16s 202us/step - loss: 0.7112 - val_loss: 0.7829\n",
      "Epoch 18/20\n",
      "79930/79930 [==============================] - 16s 204us/step - loss: 0.7060 - val_loss: 0.7808\n",
      "Epoch 19/20\n",
      "79930/79930 [==============================] - 16s 195us/step - loss: 0.7063 - val_loss: 0.7853\n",
      "Epoch 20/20\n",
      "79930/79930 [==============================] - 16s 196us/step - loss: 0.7034 - val_loss: 0.7853\n"
     ]
    }
   ],
   "source": [
    "LSTM50_history = LSTM50_bdir.fit([train.userId, train.movieId], train.imdb_score, batch_size=64, nb_epoch=20, \n",
    "          validation_data=([valid.userId, valid.movieId], valid.imdb_score))"
   ]
  },
  {
   "cell_type": "code",
   "execution_count": 83,
   "metadata": {
    "scrolled": true
   },
   "outputs": [
    {
     "name": "stdout",
     "output_type": "stream",
     "text": [
      "20074/20074 [==============================] - 1s 48us/step\n",
      "Test accuracy: 0.785328702093\n"
     ]
    }
   ],
   "source": [
    "acc = LSTM50_bdir.evaluate([valid.userId, valid.movieId],valid.imdb_score,batch_size=64)\n",
    "print('Test accuracy:', acc)"
   ]
  },
  {
   "cell_type": "code",
   "execution_count": 12,
   "metadata": {},
   "outputs": [
    {
     "name": "stderr",
     "output_type": "stream",
     "text": [
      "/home/ubuntu/anaconda3/lib/python3.5/site-packages/ipykernel/__main__.py:7: UserWarning: The `merge` function is deprecated and will be removed after 08/2017. Use instead layers from `keras.layers.merge`, e.g. `add`, `concatenate`, etc.\n",
      "/home/ubuntu/anaconda3/lib/python3.5/site-packages/keras/legacy/layers.py:465: UserWarning: The `Merge` layer is deprecated and will be removed after 08/2017. Use instead layers from `keras.layers.merge`, e.g. `add`, `concatenate`, etc.\n",
      "  name=name)\n",
      "/home/ubuntu/anaconda3/lib/python3.5/site-packages/ipykernel/__main__.py:12: UserWarning: The `merge` function is deprecated and will be removed after 08/2017. Use instead layers from `keras.layers.merge`, e.g. `add`, `concatenate`, etc.\n",
      "/home/ubuntu/anaconda3/lib/python3.5/site-packages/ipykernel/__main__.py:18: UserWarning: The `nb_epoch` argument in `fit` has been renamed `epochs`.\n"
     ]
    },
    {
     "name": "stdout",
     "output_type": "stream",
     "text": [
      "Train on 80294 samples, validate on 19710 samples\n",
      "Epoch 1/10\n",
      "80294/80294 [==============================] - 17s 215us/step - loss: 2.5094 - val_loss: 0.8653\n",
      "Epoch 2/10\n",
      "80294/80294 [==============================] - 14s 177us/step - loss: 1.2246 - val_loss: 0.8245\n",
      "Epoch 3/10\n",
      "80294/80294 [==============================] - 14s 171us/step - loss: 1.1206 - val_loss: 0.7976\n",
      "Epoch 4/10\n",
      "80294/80294 [==============================] - 14s 168us/step - loss: 1.0044 - val_loss: 0.7931\n",
      "Epoch 5/10\n",
      "80294/80294 [==============================] - 14s 173us/step - loss: 0.9154 - val_loss: 0.7885\n",
      "Epoch 6/10\n",
      "80294/80294 [==============================] - 14s 169us/step - loss: 0.8467 - val_loss: 0.7878\n",
      "Epoch 7/10\n",
      "80294/80294 [==============================] - 13s 168us/step - loss: 0.8046 - val_loss: 0.7898\n",
      "Epoch 8/10\n",
      "80294/80294 [==============================] - 14s 172us/step - loss: 0.7772 - val_loss: 0.7820\n",
      "Epoch 9/10\n",
      "80294/80294 [==============================] - 15s 181us/step - loss: 0.7635 - val_loss: 0.7791\n",
      "Epoch 10/10\n",
      "80294/80294 [==============================] - 14s 175us/step - loss: 0.7503 - val_loss: 0.7779\n"
     ]
    }
   ],
   "source": [
    "# Bidirectional LSTM model\n",
    "\n",
    "user_input = Input(shape=(1,), dtype='int64', name='user_input')\n",
    "movie_input = Input(shape = (1,), dtype = 'int64', name = 'movie_input')\n",
    "user_embed = Embedding(len(user), 50, input_length =1)(user_input)\n",
    "movie_embed = Embedding(len(movies), 50, input_length =1)(movie_input)\n",
    "x = merge([user_embed, movie_embed], mode='concat')\n",
    "\n",
    "x = Dropout(0.75)(x)\n",
    "x_fwd = LSTM(40)(x)\n",
    "x_bwd = LSTM(40, go_backwards = True)(x)\n",
    "x_bdir = merge([x_fwd, x_bwd], mode = 'concat')\n",
    "x = Dropout(0.75)(x_bdir)\n",
    "x = Dense(1)(x)\n",
    "LSTM40nbn_bdir = Model([user_input, movie_input], x)\n",
    "LSTM40nbn_bdir.compile(Adam(0.001), loss='mse')\n",
    "LSTM40nbn_history = LSTM40nbn_bdir.fit([train.userId, train.movieId], train.imdb_score, batch_size=64, nb_epoch=10, \n",
    "          validation_data=([valid.userId, valid.movieId], valid.imdb_score))"
   ]
  },
  {
   "cell_type": "code",
   "execution_count": 13,
   "metadata": {},
   "outputs": [
    {
     "name": "stdout",
     "output_type": "stream",
     "text": [
      "19710/19710 [==============================] - 1s 26us/step\n",
      "Test accuracy: 0.777928111893\n"
     ]
    }
   ],
   "source": [
    "acc = LSTM40nbn_bdir.evaluate([valid.userId, valid.movieId],valid.imdb_score,batch_size=64)\n",
    "print('Test accuracy:', acc)"
   ]
  },
  {
   "cell_type": "code",
   "execution_count": 60,
   "metadata": {},
   "outputs": [
    {
     "name": "stderr",
     "output_type": "stream",
     "text": [
      "C:\\Users\\nupur\\Anaconda3\\lib\\site-packages\\ipykernel_launcher.py:7: UserWarning: The `merge` function is deprecated and will be removed after 08/2017. Use instead layers from `keras.layers.merge`, e.g. `add`, `concatenate`, etc.\n",
      "  import sys\n",
      "C:\\Users\\nupur\\Anaconda3\\lib\\site-packages\\keras\\legacy\\layers.py:465: UserWarning: The `Merge` layer is deprecated and will be removed after 08/2017. Use instead layers from `keras.layers.merge`, e.g. `add`, `concatenate`, etc.\n",
      "  name=name)\n",
      "C:\\Users\\nupur\\Anaconda3\\lib\\site-packages\\ipykernel_launcher.py:13: UserWarning: The `merge` function is deprecated and will be removed after 08/2017. Use instead layers from `keras.layers.merge`, e.g. `add`, `concatenate`, etc.\n",
      "  del sys.path[0]\n",
      "C:\\Users\\nupur\\Anaconda3\\lib\\site-packages\\ipykernel_launcher.py:20: UserWarning: The `nb_epoch` argument in `fit` has been renamed `epochs`.\n"
     ]
    },
    {
     "name": "stdout",
     "output_type": "stream",
     "text": [
      "Train on 79976 samples, validate on 20028 samples\n",
      "Epoch 1/20\n",
      "79976/79976 [==============================] - 22s 272us/step - loss: 2.5281 - val_loss: 0.8537\n",
      "Epoch 2/20\n",
      "79976/79976 [==============================] - 19s 242us/step - loss: 1.2369 - val_loss: 0.8117\n",
      "Epoch 3/20\n",
      "79976/79976 [==============================] - 19s 240us/step - loss: 1.1164 - val_loss: 0.8115\n",
      "Epoch 4/20\n",
      "79976/79976 [==============================] - 16s 203us/step - loss: 1.0138 - val_loss: 0.7945\n",
      "Epoch 5/20\n",
      "79976/79976 [==============================] - 16s 202us/step - loss: 0.9207 - val_loss: 0.7897\n",
      "Epoch 6/20\n",
      "79976/79976 [==============================] - 16s 203us/step - loss: 0.8515 - val_loss: 0.7898\n",
      "Epoch 7/20\n",
      "79976/79976 [==============================] - 16s 200us/step - loss: 0.8054 - val_loss: 0.7833\n",
      "Epoch 8/20\n",
      "79976/79976 [==============================] - 16s 201us/step - loss: 0.7786 - val_loss: 0.7776\n",
      "Epoch 9/20\n",
      "79976/79976 [==============================] - 16s 202us/step - loss: 0.7615 - val_loss: 0.7741\n",
      "Epoch 10/20\n",
      "79976/79976 [==============================] - 17s 213us/step - loss: 0.7482 - val_loss: 0.7755\n",
      "Epoch 11/20\n",
      "79976/79976 [==============================] - 19s 241us/step - loss: 0.7420 - val_loss: 0.7733\n",
      "Epoch 12/20\n",
      "79976/79976 [==============================] - 20s 251us/step - loss: 0.7357 - val_loss: 0.7710\n",
      "Epoch 13/20\n",
      "79976/79976 [==============================] - 20s 250us/step - loss: 0.7283 - val_loss: 0.7721\n",
      "Epoch 14/20\n",
      "79976/79976 [==============================] - 21s 268us/step - loss: 0.7231 - val_loss: 0.7705\n",
      "Epoch 15/20\n",
      "79976/79976 [==============================] - 21s 261us/step - loss: 0.7220 - val_loss: 0.7692\n",
      "Epoch 16/20\n",
      "79976/79976 [==============================] - 18s 222us/step - loss: 0.7180 - val_loss: 0.7699\n",
      "Epoch 17/20\n",
      "79976/79976 [==============================] - 17s 211us/step - loss: 0.7152 - val_loss: 0.7672\n",
      "Epoch 18/20\n",
      "79976/79976 [==============================] - 18s 225us/step - loss: 0.7126 - val_loss: 0.7667\n",
      "Epoch 19/20\n",
      "79976/79976 [==============================] - 22s 278us/step - loss: 0.7124 - val_loss: 0.7684\n",
      "Epoch 20/20\n",
      "79976/79976 [==============================] - 20s 245us/step - loss: 0.7078 - val_loss: 0.7672\n"
     ]
    }
   ],
   "source": [
    "# Bidirectional LSTM model \n",
    "\n",
    "user_input = Input(shape=(1,), dtype='int64', name='user_input')\n",
    "movie_input = Input(shape = (1,), dtype = 'int64', name = 'movie_input')\n",
    "user_embed = Embedding(len(user), 50, input_length =1)(user_input)\n",
    "movie_embed = Embedding(len(movies), 50, input_length =1)(movie_input)\n",
    "x = merge([user_embed, movie_embed], mode='concat')\n",
    "\n",
    "x = Dropout(0.75)(x)\n",
    "BatchNormalization()\n",
    "x_fwd = LSTM(40)(x)\n",
    "x_bwd = LSTM(40, go_backwards = True)(x)\n",
    "x_bdir = merge([x_fwd, x_bwd], mode = 'concat')\n",
    "x = Dropout(0.75)(x_bdir)\n",
    "BatchNormalization()\n",
    "x = Dense(1)(x)\n",
    "LSTM40_bdir = Model([user_input, movie_input], x)\n",
    "LSTM40_bdir.compile(Adam(0.001), loss='mse')\n",
    "LSTM40bdir_history = LSTM40_bdir.fit([train.userId, train.movieId], train.imdb_score, batch_size=64, nb_epoch=20, \n",
    "          validation_data=([valid.userId, valid.movieId], valid.imdb_score))"
   ]
  },
  {
   "cell_type": "code",
   "execution_count": null,
   "metadata": {
    "collapsed": true
   },
   "outputs": [],
   "source": [
    "acc = LSTM40_bdir.evaluate([valid.userId, valid.movieId],valid.imdb_score,batch_size=64)\n",
    "print('Test accuracy:', acc)"
   ]
  },
  {
   "cell_type": "code",
   "execution_count": 64,
   "metadata": {},
   "outputs": [
    {
     "data": {
      "text/plain": [
       "<matplotlib.figure.Figure at 0x19d85dda588>"
      ]
     },
     "metadata": {},
     "output_type": "display_data"
    },
    {
     "data": {
      "text/plain": [
       "<matplotlib.figure.Figure at 0x19d85dda5c0>"
      ]
     },
     "metadata": {},
     "output_type": "display_data"
    },
    {
     "data": {
      "text/plain": [
       "<matplotlib.figure.Figure at 0x19d85dbbc50>"
      ]
     },
     "metadata": {},
     "output_type": "display_data"
    },
    {
     "data": {
      "text/plain": [
       "<matplotlib.figure.Figure at 0x19d85c8ab70>"
      ]
     },
     "metadata": {},
     "output_type": "display_data"
    },
    {
     "data": {
      "image/png": "[encoded data removed]",
      "text/plain": [
       "<matplotlib.figure.Figure at 0x19d85d0bf98>"
      ]
     },
     "metadata": {},
     "output_type": "display_data"
    }
   ],
   "source": [
    "plt.clf()\n",
    "plt.figure(figsize = (10,7))\n",
    "#plt.plot(nn_history.history['val_loss'], label = 'nn_val_loss', color = 'r', linewidth = 2)\n",
    "#plt.plot(LSTM_history.history['val_loss'], label = 'LSTMval_loss')\n",
    "#plt.plot(LSTMbdir_history.history['val_loss'], label = 'LSTMbdirval_loss')\n",
    "plt.plot(LSTM50_history.history['val_loss'], label = 'LSTM50val_loss')\n",
    "plt.plot(GRUbdir_history.history['val_loss'], label = 'GRUval_loss')\n",
    "plt.plot(LSTM40bdir_history.history['val_loss'], label = 'LSTM40val_loss')\n",
    "plt.legend()\n",
    "plt.xlabel('Epochs')\n",
    "plt.ylabel('MSE loss')\n",
    "plt.show()"
   ]
  },
  {
   "cell_type": "code",
   "execution_count": 65,
   "metadata": {},
   "outputs": [
    {
     "name": "stderr",
     "output_type": "stream",
     "text": [
      "C:\\Users\\nupur\\Anaconda3\\lib\\site-packages\\ipykernel_launcher.py:7: UserWarning: The `merge` function is deprecated and will be removed after 08/2017. Use instead layers from `keras.layers.merge`, e.g. `add`, `concatenate`, etc.\n",
      "  import sys\n",
      "C:\\Users\\nupur\\Anaconda3\\lib\\site-packages\\keras\\legacy\\layers.py:465: UserWarning: The `Merge` layer is deprecated and will be removed after 08/2017. Use instead layers from `keras.layers.merge`, e.g. `add`, `concatenate`, etc.\n",
      "  name=name)\n",
      "C:\\Users\\nupur\\Anaconda3\\lib\\site-packages\\ipykernel_launcher.py:13: UserWarning: The `merge` function is deprecated and will be removed after 08/2017. Use instead layers from `keras.layers.merge`, e.g. `add`, `concatenate`, etc.\n",
      "  del sys.path[0]\n",
      "C:\\Users\\nupur\\Anaconda3\\lib\\site-packages\\ipykernel_launcher.py:20: UserWarning: The `nb_epoch` argument in `fit` has been renamed `epochs`.\n"
     ]
    },
    {
     "name": "stdout",
     "output_type": "stream",
     "text": [
      "Train on 79976 samples, validate on 20028 samples\n",
      "Epoch 1/20\n",
      "79976/79976 [==============================] - 21s 261us/step - loss: 2.3129 - val_loss: 0.8624\n",
      "Epoch 2/20\n",
      "79976/79976 [==============================] - 18s 229us/step - loss: 1.2524 - val_loss: 0.8152\n",
      "Epoch 3/20\n",
      "79976/79976 [==============================] - 18s 229us/step - loss: 1.1304 - val_loss: 0.8082\n",
      "Epoch 4/20\n",
      "79976/79976 [==============================] - 18s 230us/step - loss: 1.0157 - val_loss: 0.7899\n",
      "Epoch 5/20\n",
      "79976/79976 [==============================] - 19s 232us/step - loss: 0.9150 - val_loss: 0.7893\n",
      "Epoch 6/20\n",
      "79976/79976 [==============================] - 19s 233us/step - loss: 0.8468 - val_loss: 0.7933\n",
      "Epoch 7/20\n",
      "79976/79976 [==============================] - 19s 241us/step - loss: 0.8070 - val_loss: 0.7851\n",
      "Epoch 8/20\n",
      "79976/79976 [==============================] - 22s 278us/step - loss: 0.7810 - val_loss: 0.7810\n",
      "Epoch 9/20\n",
      "79976/79976 [==============================] - 20s 256us/step - loss: 0.7652 - val_loss: 0.7806\n",
      "Epoch 10/20\n",
      "79976/79976 [==============================] - 21s 265us/step - loss: 0.7541 - val_loss: 0.7803\n",
      "Epoch 11/20\n",
      "79976/79976 [==============================] - 18s 228us/step - loss: 0.7481 - val_loss: 0.7786\n",
      "Epoch 12/20\n",
      "79976/79976 [==============================] - 18s 230us/step - loss: 0.7398 - val_loss: 0.7761\n",
      "Epoch 13/20\n",
      "79976/79976 [==============================] - 18s 226us/step - loss: 0.7355 - val_loss: 0.7739\n",
      "Epoch 14/20\n",
      "79976/79976 [==============================] - 18s 230us/step - loss: 0.7287 - val_loss: 0.7731\n",
      "Epoch 15/20\n",
      "79976/79976 [==============================] - 18s 227us/step - loss: 0.7269 - val_loss: 0.7719\n",
      "Epoch 16/20\n",
      "79976/79976 [==============================] - 18s 228us/step - loss: 0.7224 - val_loss: 0.7706\n",
      "Epoch 17/20\n",
      "79976/79976 [==============================] - 18s 224us/step - loss: 0.7202 - val_loss: 0.7690\n",
      "Epoch 18/20\n",
      "79976/79976 [==============================] - 21s 264us/step - loss: 0.7153 - val_loss: 0.7706\n",
      "Epoch 19/20\n",
      "79976/79976 [==============================] - 22s 276us/step - loss: 0.7158 - val_loss: 0.7675\n",
      "Epoch 20/20\n",
      "79976/79976 [==============================] - 17s 219us/step - loss: 0.7121 - val_loss: 0.7687\n"
     ]
    }
   ],
   "source": [
    "# Bidirectional GRU model \n",
    "\n",
    "user_input = Input(shape=(1,), dtype='int64', name='user_input')\n",
    "movie_input = Input(shape = (1,), dtype = 'int64', name = 'movie_input')\n",
    "user_embed = Embedding(len(users), 50, input_length =1)(user_input)\n",
    "movie_embed = Embedding(len(movies), 50, input_length =1)(movie_input)\n",
    "x = merge([user_embed, movie_embed], mode='concat')\n",
    "\n",
    "x = Dropout(0.75)(x)\n",
    "BatchNormalization()\n",
    "x_fwd = GRU(40)(x)\n",
    "x_bwd = GRU(40, go_backwards = True)(x)\n",
    "x_bdir = merge([x_fwd, x_bwd], mode = 'concat')\n",
    "x = Dropout(0.75)(x_bdir)\n",
    "BatchNormalization()\n",
    "x = Dense(1)(x)\n",
    "GRU40_bdir = Model([user_input, movie_input], x)\n",
    "GRU40_bdir.compile(Adam(0.001), loss='mse')\n",
    "GRU40bdir_history = GRU40_bdir.fit([train.userId, train.movieId], train.rating, batch_size=64, nb_epoch=20, \n",
    "          validation_data=([valid.userId, valid.movieId], valid.rating))"
   ]
  },
  {
   "cell_type": "code",
   "execution_count": null,
   "metadata": {
    "collapsed": true
   },
   "outputs": [],
   "source": [
    "acc = GRU40_bdir.evaluate([valid.userId, valid.movieId],valid.imdb_score,batch_size=64)\n",
    "print('Test accuracy:', acc)"
   ]
  },
  {
   "cell_type": "code",
   "execution_count": 66,
   "metadata": {},
   "outputs": [
    {
     "data": {
      "text/plain": [
       "<matplotlib.figure.Figure at 0x19d85d0b2b0>"
      ]
     },
     "metadata": {},
     "output_type": "display_data"
    },
    {
     "data": {
      "image/png": "[encoded data removed]",
      "text/plain": [
       "<matplotlib.figure.Figure at 0x19d85d0b6d8>"
      ]
     },
     "metadata": {},
     "output_type": "display_data"
    }
   ],
   "source": [
    "plt.clf()\n",
    "plt.figure(figsize = (10,7))\n",
    "plt.plot(BASELINE.history['val_loss'], label = 'Baseline', color = 'r', linewidth = 2)\n",
    "plt.plot(GRU40bdir_history.history['val_loss'], label = 'GRU40')\n",
    "plt.plot(LSTM40bdir_history.history['val_loss'], label = 'LSTM40')\n",
    "plt.legend()\n",
    "plt.xlabel('Epochs')\n",
    "plt.ylabel('MSE validation loss')\n",
    "plt.show()"
   ]
  },
  {
   "cell_type": "code",
   "execution_count": 67,
   "metadata": {},
   "outputs": [
    {
     "data": {
      "text/plain": [
       "<matplotlib.figure.Figure at 0x19d85d0bdd8>"
      ]
     },
     "metadata": {},
     "output_type": "display_data"
    },
    {
     "data": {
      "image/png": "[encoded data removed]",
      "text/plain": [
       "<matplotlib.figure.Figure at 0x19d85d0b828>"
      ]
     },
     "metadata": {},
     "output_type": "display_data"
    }
   ],
   "source": [
    "plt.clf()\n",
    "plt.figure(figsize = (10,7))\n",
    "plt.plot(LSTM40bdir_history.history['loss'], label = 'loss')\n",
    "plt.plot(LSTM40bdir_history.history['val_loss'], label = 'validation loss')\n",
    "plt.legend()\n",
    "plt.xlabel('Epochs')\n",
    "plt.ylabel('MSE validation loss')\n",
    "plt.show()"
   ]
  },
  {
   "cell_type": "code",
   "execution_count": 68,
   "metadata": {},
   "outputs": [
    {
     "name": "stderr",
     "output_type": "stream",
     "text": [
      "C:\\Users\\nupur\\Anaconda3\\lib\\site-packages\\ipykernel_launcher.py:7: UserWarning: The `merge` function is deprecated and will be removed after 08/2017. Use instead layers from `keras.layers.merge`, e.g. `add`, `concatenate`, etc.\n",
      "  import sys\n",
      "C:\\Users\\nupur\\Anaconda3\\lib\\site-packages\\keras\\legacy\\layers.py:465: UserWarning: The `Merge` layer is deprecated and will be removed after 08/2017. Use instead layers from `keras.layers.merge`, e.g. `add`, `concatenate`, etc.\n",
      "  name=name)\n",
      "C:\\Users\\nupur\\Anaconda3\\lib\\site-packages\\ipykernel_launcher.py:13: UserWarning: The `merge` function is deprecated and will be removed after 08/2017. Use instead layers from `keras.layers.merge`, e.g. `add`, `concatenate`, etc.\n",
      "  del sys.path[0]\n",
      "C:\\Users\\nupur\\Anaconda3\\lib\\site-packages\\ipykernel_launcher.py:20: UserWarning: The `nb_epoch` argument in `fit` has been renamed `epochs`.\n"
     ]
    },
    {
     "name": "stdout",
     "output_type": "stream",
     "text": [
      "Train on 79976 samples, validate on 20028 samples\n",
      "Epoch 1/20\n",
      "79976/79976 [==============================] - 22s 275us/step - loss: 2.7359 - val_loss: 0.8705\n",
      "Epoch 2/20\n",
      "79976/79976 [==============================] - 19s 241us/step - loss: 1.3342 - val_loss: 0.8356\n",
      "Epoch 3/20\n",
      "79976/79976 [==============================] - 19s 239us/step - loss: 1.1723 - val_loss: 0.7964\n",
      "Epoch 4/20\n",
      "79976/79976 [==============================] - 19s 243us/step - loss: 1.0362 - val_loss: 0.7942\n",
      "Epoch 5/20\n",
      "79976/79976 [==============================] - 19s 242us/step - loss: 0.9232 - val_loss: 0.7910\n",
      "Epoch 6/20\n",
      "79976/79976 [==============================] - 19s 241us/step - loss: 0.8502 - val_loss: 0.7866\n",
      "Epoch 7/20\n",
      "79976/79976 [==============================] - 20s 253us/step - loss: 0.8009 - val_loss: 0.7844\n",
      "Epoch 8/20\n",
      "79976/79976 [==============================] - 16s 202us/step - loss: 0.7726 - val_loss: 0.7819\n",
      "Epoch 9/20\n",
      "79976/79976 [==============================] - 15s 191us/step - loss: 0.7579 - val_loss: 0.7792\n",
      "Epoch 10/20\n",
      "79976/79976 [==============================] - 15s 186us/step - loss: 0.7512 - val_loss: 0.7773\n",
      "Epoch 11/20\n",
      "79976/79976 [==============================] - 15s 189us/step - loss: 0.7431 - val_loss: 0.7719\n",
      "Epoch 12/20\n",
      "79976/79976 [==============================] - 15s 186us/step - loss: 0.7363 - val_loss: 0.7712\n",
      "Epoch 13/20\n",
      "79976/79976 [==============================] - 15s 186us/step - loss: 0.7331 - val_loss: 0.7716\n",
      "Epoch 14/20\n",
      "79976/79976 [==============================] - 15s 187us/step - loss: 0.7296 - val_loss: 0.7703\n",
      "Epoch 15/20\n",
      "79976/79976 [==============================] - 16s 195us/step - loss: 0.7263 - val_loss: 0.7715\n",
      "Epoch 16/20\n",
      "79976/79976 [==============================] - 18s 223us/step - loss: 0.7242 - val_loss: 0.7720\n",
      "Epoch 17/20\n",
      "79976/79976 [==============================] - 18s 220us/step - loss: 0.7213 - val_loss: 0.7684\n",
      "Epoch 18/20\n",
      "79976/79976 [==============================] - 19s 232us/step - loss: 0.7176 - val_loss: 0.7699\n",
      "Epoch 19/20\n",
      "79976/79976 [==============================] - 18s 219us/step - loss: 0.7145 - val_loss: 0.7689\n",
      "Epoch 20/20\n",
      "79976/79976 [==============================] - 18s 219us/step - loss: 0.7160 - val_loss: 0.7693\n"
     ]
    }
   ],
   "source": [
    "# Bidirectional LSTM model\n",
    "\n",
    "user_input = Input(shape=(1,), dtype='int64', name='user_input')\n",
    "movie_input = Input(shape = (1,), dtype = 'int64', name = 'movie_input')\n",
    "user_embed = Embedding(len(users), 50, input_length =1)(user_input)\n",
    "movie_embed = Embedding(len(movies), 50, input_length =1)(movie_input)\n",
    "x = merge([user_embed, movie_embed], mode='concat')\n",
    "\n",
    "x = Dropout(0.75)(x)\n",
    "BatchNormalization()\n",
    "x_fwd = LSTM(30)(x)\n",
    "x_bwd = LSTM(30, go_backwards = True)(x)\n",
    "x_bdir = merge([x_fwd, x_bwd], mode = 'concat')\n",
    "x = Dropout(0.75)(x_bdir)\n",
    "BatchNormalization()\n",
    "x = Dense(1)(x)\n",
    "LSTM30_bdir = Model([user_input, movie_input], x)\n",
    "LSTM30_bdir.compile(Adam(0.001), loss='mse')\n",
    "LSTM30bdir_history = LSTM30_bdir.fit([train.userId, train.movieId], train.rating, batch_size=64, nb_epoch=20, \n",
    "          validation_data=([valid.userId, valid.movieId], valid.rating))"
   ]
  },
  {
   "cell_type": "code",
   "execution_count": 69,
   "metadata": {},
   "outputs": [
    {
     "name": "stderr",
     "output_type": "stream",
     "text": [
      "C:\\Users\\nupur\\Anaconda3\\lib\\site-packages\\ipykernel_launcher.py:7: UserWarning: The `merge` function is deprecated and will be removed after 08/2017. Use instead layers from `keras.layers.merge`, e.g. `add`, `concatenate`, etc.\n",
      "  import sys\n",
      "C:\\Users\\nupur\\Anaconda3\\lib\\site-packages\\keras\\legacy\\layers.py:465: UserWarning: The `Merge` layer is deprecated and will be removed after 08/2017. Use instead layers from `keras.layers.merge`, e.g. `add`, `concatenate`, etc.\n",
      "  name=name)\n",
      "C:\\Users\\nupur\\Anaconda3\\lib\\site-packages\\ipykernel_launcher.py:13: UserWarning: The `merge` function is deprecated and will be removed after 08/2017. Use instead layers from `keras.layers.merge`, e.g. `add`, `concatenate`, etc.\n",
      "  del sys.path[0]\n",
      "C:\\Users\\nupur\\Anaconda3\\lib\\site-packages\\ipykernel_launcher.py:20: UserWarning: The `nb_epoch` argument in `fit` has been renamed `epochs`.\n"
     ]
    },
    {
     "name": "stdout",
     "output_type": "stream",
     "text": [
      "Train on 79976 samples, validate on 20028 samples\n",
      "Epoch 1/20\n",
      "79976/79976 [==============================] - 20s 253us/step - loss: 2.6371 - val_loss: 0.8615\n",
      "Epoch 2/20\n",
      "79976/79976 [==============================] - 19s 233us/step - loss: 1.2826 - val_loss: 0.8251\n",
      "Epoch 3/20\n",
      "79976/79976 [==============================] - 18s 228us/step - loss: 1.1447 - val_loss: 0.8000\n",
      "Epoch 4/20\n",
      "79976/79976 [==============================] - 19s 233us/step - loss: 1.0181 - val_loss: 0.7932\n",
      "Epoch 5/20\n",
      "79976/79976 [==============================] - 19s 243us/step - loss: 0.9187 - val_loss: 0.7930\n",
      "Epoch 6/20\n",
      "79976/79976 [==============================] - 20s 253us/step - loss: 0.8479 - val_loss: 0.7849\n",
      "Epoch 7/20\n",
      "79976/79976 [==============================] - 20s 249us/step - loss: 0.8024 - val_loss: 0.7842\n",
      "Epoch 8/20\n",
      "79976/79976 [==============================] - 20s 253us/step - loss: 0.7787 - val_loss: 0.7793\n",
      "Epoch 9/20\n",
      "79976/79976 [==============================] - 22s 270us/step - loss: 0.7618 - val_loss: 0.7804\n",
      "Epoch 10/20\n",
      "79976/79976 [==============================] - 20s 251us/step - loss: 0.7518 - val_loss: 0.7762\n",
      "Epoch 11/20\n",
      "79976/79976 [==============================] - 20s 249us/step - loss: 0.7415 - val_loss: 0.7756\n",
      "Epoch 12/20\n",
      "79976/79976 [==============================] - 20s 250us/step - loss: 0.7339 - val_loss: 0.7724\n",
      "Epoch 13/20\n",
      "79976/79976 [==============================] - 20s 251us/step - loss: 0.7302 - val_loss: 0.7711\n",
      "Epoch 14/20\n",
      "79976/79976 [==============================] - 20s 255us/step - loss: 0.7290 - val_loss: 0.7710\n",
      "Epoch 15/20\n",
      "79976/79976 [==============================] - 20s 251us/step - loss: 0.7228 - val_loss: 0.7717\n",
      "Epoch 16/20\n",
      "79976/79976 [==============================] - 20s 251us/step - loss: 0.7204 - val_loss: 0.7700\n",
      "Epoch 17/20\n",
      "79976/79976 [==============================] - 21s 257us/step - loss: 0.7193 - val_loss: 0.7693\n",
      "Epoch 18/20\n",
      "79976/79976 [==============================] - 20s 253us/step - loss: 0.7156 - val_loss: 0.7686\n",
      "Epoch 19/20\n",
      "79976/79976 [==============================] - 20s 252us/step - loss: 0.7124 - val_loss: 0.7687\n",
      "Epoch 20/20\n",
      "79976/79976 [==============================] - 20s 252us/step - loss: 0.7150 - val_loss: 0.7689\n"
     ]
    }
   ],
   "source": [
    "# Bidirectional LSTM model \n",
    "\n",
    "user_input = Input(shape=(1,), dtype='int64', name='user_input')\n",
    "movie_input = Input(shape = (1,), dtype = 'int64', name = 'movie_input')\n",
    "user_embed = Embedding(len(users), 50, input_length =1)(user_input)\n",
    "movie_embed = Embedding(len(movies), 50, input_length =1)(movie_input)\n",
    "x = merge([user_embed, movie_embed], mode='concat')\n",
    "\n",
    "x = Dropout(0.75)(x)\n",
    "BatchNormalization()\n",
    "x_fwd = LSTM(35)(x)\n",
    "x_bwd = LSTM(35, go_backwards = True)(x)\n",
    "x_bdir = merge([x_fwd, x_bwd], mode = 'concat')\n",
    "x = Dropout(0.75)(x_bdir)\n",
    "BatchNormalization()\n",
    "x = Dense(1)(x)\n",
    "LSTM35_bdir = Model([user_input, movie_input], x)\n",
    "LSTM35_bdir.compile(Adam(0.001), loss='mse')\n",
    "LSTM35bdir_history = LSTM35_bdir.fit([train.userId, train.movieId], train.rating, batch_size=64, nb_epoch=20, \n",
    "          validation_data=([valid.userId, valid.movieId], valid.rating))"
   ]
  },
  {
   "cell_type": "code",
   "execution_count": 70,
   "metadata": {},
   "outputs": [
    {
     "data": {
      "text/plain": [
       "<matplotlib.figure.Figure at 0x19d85d0bdd8>"
      ]
     },
     "metadata": {},
     "output_type": "display_data"
    },
    {
     "data": {
      "image/png": "[encoded data removed]",
      "text/plain": [
       "<matplotlib.figure.Figure at 0x19d85d0bc18>"
      ]
     },
     "metadata": {},
     "output_type": "display_data"
    }
   ],
   "source": [
    "plt.clf()\n",
    "plt.figure(figsize = (10,7))\n",
    "plt.plot(BASELINE.history['val_loss'], label = 'Baseline', color = 'r', linewidth = 2)\n",
    "plt.plot(LSTM30bdir_history.history['val_loss'], label = '30')\n",
    "plt.plot(LSTM40bdir_history.history['val_loss'], label = '40')\n",
    "plt.plot(LSTM50_history.history['val_loss'], label = '50')\n",
    "plt.legend()\n",
    "plt.xlabel('Epochs')\n",
    "plt.ylabel('MSE validation loss')\n",
    "plt.show()"
   ]
  },
  {
   "cell_type": "code",
   "execution_count": 71,
   "metadata": {},
   "outputs": [
    {
     "name": "stderr",
     "output_type": "stream",
     "text": [
      "C:\\Users\\nupur\\Anaconda3\\lib\\site-packages\\ipykernel_launcher.py:7: UserWarning: The `merge` function is deprecated and will be removed after 08/2017. Use instead layers from `keras.layers.merge`, e.g. `add`, `concatenate`, etc.\n",
      "  import sys\n",
      "C:\\Users\\nupur\\Anaconda3\\lib\\site-packages\\keras\\legacy\\layers.py:465: UserWarning: The `Merge` layer is deprecated and will be removed after 08/2017. Use instead layers from `keras.layers.merge`, e.g. `add`, `concatenate`, etc.\n",
      "  name=name)\n",
      "C:\\Users\\nupur\\Anaconda3\\lib\\site-packages\\ipykernel_launcher.py:13: UserWarning: The `merge` function is deprecated and will be removed after 08/2017. Use instead layers from `keras.layers.merge`, e.g. `add`, `concatenate`, etc.\n",
      "  del sys.path[0]\n",
      "C:\\Users\\nupur\\Anaconda3\\lib\\site-packages\\ipykernel_launcher.py:20: UserWarning: The `nb_epoch` argument in `fit` has been renamed `epochs`.\n"
     ]
    },
    {
     "name": "stdout",
     "output_type": "stream",
     "text": [
      "Train on 79976 samples, validate on 20028 samples\n",
      "Epoch 1/20\n",
      "79976/79976 [==============================] - 22s 281us/step - loss: 2.7359 - val_loss: 0.8993\n",
      "Epoch 2/20\n",
      "79976/79976 [==============================] - 20s 245us/step - loss: 1.3665 - val_loss: 0.8389\n",
      "Epoch 3/20\n",
      "79976/79976 [==============================] - 20s 244us/step - loss: 1.2127 - val_loss: 0.8158\n",
      "Epoch 4/20\n",
      "79976/79976 [==============================] - 20s 250us/step - loss: 1.0669 - val_loss: 0.7987\n",
      "Epoch 5/20\n",
      "79976/79976 [==============================] - 20s 250us/step - loss: 0.9480 - val_loss: 0.7882\n",
      "Epoch 6/20\n",
      "79976/79976 [==============================] - 20s 247us/step - loss: 0.8650 - val_loss: 0.7898\n",
      "Epoch 7/20\n",
      "79976/79976 [==============================] - 20s 246us/step - loss: 0.8216 - val_loss: 0.7852\n",
      "Epoch 8/20\n",
      "79976/79976 [==============================] - 19s 243us/step - loss: 0.7929 - val_loss: 0.7821\n",
      "Epoch 9/20\n",
      "79976/79976 [==============================] - 17s 210us/step - loss: 0.7787 - val_loss: 0.7831\n",
      "Epoch 10/20\n",
      "79976/79976 [==============================] - 17s 209us/step - loss: 0.7695 - val_loss: 0.7804\n",
      "Epoch 11/20\n",
      "79976/79976 [==============================] - 15s 192us/step - loss: 0.7623 - val_loss: 0.7795\n",
      "Epoch 12/20\n",
      "79976/79976 [==============================] - 18s 220us/step - loss: 0.7604 - val_loss: 0.7780\n",
      "Epoch 13/20\n",
      "79976/79976 [==============================] - 23s 284us/step - loss: 0.7537 - val_loss: 0.7756\n",
      "Epoch 14/20\n",
      "79976/79976 [==============================] - 18s 222us/step - loss: 0.7531 - val_loss: 0.7748\n",
      "Epoch 15/20\n",
      "79976/79976 [==============================] - 24s 302us/step - loss: 0.7474 - val_loss: 0.7718\n",
      "Epoch 16/20\n",
      "79976/79976 [==============================] - 25s 317us/step - loss: 0.7421 - val_loss: 0.7722\n",
      "Epoch 17/20\n",
      "79976/79976 [==============================] - 26s 321us/step - loss: 0.7395 - val_loss: 0.7703\n",
      "Epoch 18/20\n",
      "79976/79976 [==============================] - 25s 315us/step - loss: 0.7387 - val_loss: 0.7707\n",
      "Epoch 19/20\n",
      "79976/79976 [==============================] - 26s 321us/step - loss: 0.7350 - val_loss: 0.7710\n",
      "Epoch 20/20\n",
      "79976/79976 [==============================] - 25s 316us/step - loss: 0.7303 - val_loss: 0.7697\n"
     ]
    }
   ],
   "source": [
    "# Bidirectional LSTM model \n",
    "\n",
    "user_input = Input(shape=(1,), dtype='int64', name='user_input')\n",
    "movie_input = Input(shape = (1,), dtype = 'int64', name = 'movie_input')\n",
    "user_embed = Embedding(len(users), 50, input_length =1)(user_input)\n",
    "movie_embed = Embedding(len(movies), 50, input_length =1)(movie_input)\n",
    "x = merge([user_embed, movie_embed], mode='concat')\n",
    "\n",
    "x = Dropout(0.8)(x)\n",
    "BatchNormalization()\n",
    "x_fwd = LSTM(40)(x)\n",
    "x_bwd = LSTM(40, go_backwards = True)(x)\n",
    "x_bdir = merge([x_fwd, x_bwd], mode = 'concat')\n",
    "x = Dropout(0.8)(x_bdir)\n",
    "BatchNormalization()\n",
    "x = Dense(1)(x)\n",
    "LSTM40_D08 = Model([user_input, movie_input], x)\n",
    "LSTM40_D08.compile(Adam(0.001), loss='mse')\n",
    "LSTM40D08_history = LSTM40_D08.fit([train.userId, train.movieId], train.rating, batch_size=64, nb_epoch=20, \n",
    "          validation_data=([valid.userId, valid.movieId], valid.rating))"
   ]
  },
  {
   "cell_type": "code",
   "execution_count": 72,
   "metadata": {},
   "outputs": [
    {
     "name": "stderr",
     "output_type": "stream",
     "text": [
      "C:\\Users\\nupur\\Anaconda3\\lib\\site-packages\\ipykernel_launcher.py:7: UserWarning: The `merge` function is deprecated and will be removed after 08/2017. Use instead layers from `keras.layers.merge`, e.g. `add`, `concatenate`, etc.\n",
      "  import sys\n",
      "C:\\Users\\nupur\\Anaconda3\\lib\\site-packages\\keras\\legacy\\layers.py:465: UserWarning: The `Merge` layer is deprecated and will be removed after 08/2017. Use instead layers from `keras.layers.merge`, e.g. `add`, `concatenate`, etc.\n",
      "  name=name)\n",
      "C:\\Users\\nupur\\Anaconda3\\lib\\site-packages\\ipykernel_launcher.py:13: UserWarning: The `merge` function is deprecated and will be removed after 08/2017. Use instead layers from `keras.layers.merge`, e.g. `add`, `concatenate`, etc.\n",
      "  del sys.path[0]\n",
      "C:\\Users\\nupur\\Anaconda3\\lib\\site-packages\\ipykernel_launcher.py:20: UserWarning: The `nb_epoch` argument in `fit` has been renamed `epochs`.\n"
     ]
    },
    {
     "name": "stdout",
     "output_type": "stream",
     "text": [
      "Train on 79976 samples, validate on 20028 samples\n",
      "Epoch 1/20\n",
      "79976/79976 [==============================] - 21s 259us/step - loss: 2.3806 - val_loss: 0.8406\n",
      "Epoch 2/20\n",
      "79976/79976 [==============================] - 18s 225us/step - loss: 1.1395 - val_loss: 0.8087\n",
      "Epoch 3/20\n",
      "79976/79976 [==============================] - 18s 226us/step - loss: 1.0498 - val_loss: 0.7978\n",
      "Epoch 4/20\n",
      "79976/79976 [==============================] - 18s 229us/step - loss: 0.9682 - val_loss: 0.7905\n",
      "Epoch 5/20\n",
      "79976/79976 [==============================] - 20s 245us/step - loss: 0.8975 - val_loss: 0.7854\n",
      "Epoch 6/20\n",
      "79976/79976 [==============================] - 19s 235us/step - loss: 0.8345 - val_loss: 0.7910\n",
      "Epoch 7/20\n",
      "79976/79976 [==============================] - 16s 204us/step - loss: 0.7978 - val_loss: 0.7821\n",
      "Epoch 8/20\n",
      "79976/79976 [==============================] - 16s 196us/step - loss: 0.7711 - val_loss: 0.7783\n",
      "Epoch 9/20\n",
      "79976/79976 [==============================] - 16s 198us/step - loss: 0.7508 - val_loss: 0.7755\n",
      "Epoch 10/20\n",
      "79976/79976 [==============================] - 17s 214us/step - loss: 0.7341 - val_loss: 0.7728\n",
      "Epoch 11/20\n",
      "79976/79976 [==============================] - 19s 241us/step - loss: 0.7272 - val_loss: 0.7711\n",
      "Epoch 12/20\n",
      "79976/79976 [==============================] - 19s 234us/step - loss: 0.7178 - val_loss: 0.7697\n",
      "Epoch 13/20\n",
      "79976/79976 [==============================] - 16s 203us/step - loss: 0.7125 - val_loss: 0.7703\n",
      "Epoch 14/20\n",
      "79976/79976 [==============================] - 17s 214us/step - loss: 0.7082 - val_loss: 0.7709\n",
      "Epoch 15/20\n",
      "79976/79976 [==============================] - 18s 222us/step - loss: 0.7044 - val_loss: 0.7680\n",
      "Epoch 16/20\n",
      "79976/79976 [==============================] - 16s 194us/step - loss: 0.7016 - val_loss: 0.7697\n",
      "Epoch 17/20\n",
      "79976/79976 [==============================] - 16s 194us/step - loss: 0.6966 - val_loss: 0.7691\n",
      "Epoch 18/20\n",
      "79976/79976 [==============================] - 16s 195us/step - loss: 0.6959 - val_loss: 0.7689\n",
      "Epoch 19/20\n",
      "79976/79976 [==============================] - 16s 194us/step - loss: 0.6930 - val_loss: 0.7704\n",
      "Epoch 20/20\n",
      "79976/79976 [==============================] - 16s 194us/step - loss: 0.6898 - val_loss: 0.7669\n"
     ]
    }
   ],
   "source": [
    "# Bidirectional LSTM model \n",
    "\n",
    "user_input = Input(shape=(1,), dtype='int64', name='user_input')\n",
    "movie_input = Input(shape = (1,), dtype = 'int64', name = 'movie_input')\n",
    "user_embed = Embedding(len(users), 50, input_length =1)(user_input)\n",
    "movie_embed = Embedding(len(movies), 50, input_length =1)(movie_input)\n",
    "x = merge([user_embed, movie_embed], mode='concat')\n",
    "\n",
    "x = Dropout(0.7)(x)\n",
    "BatchNormalization()\n",
    "x_fwd = LSTM(40)(x)\n",
    "x_bwd = LSTM(40, go_backwards = True)(x)\n",
    "x_bdir = merge([x_fwd, x_bwd], mode = 'concat')\n",
    "x = Dropout(0.7)(x_bdir)\n",
    "BatchNormalization()\n",
    "x = Dense(1)(x)\n",
    "LSTM40_D07 = Model([user_input, movie_input], x)\n",
    "LSTM40_D07.compile(Adam(0.001), loss='mse')\n",
    "LSTM40D07_history = LSTM40_D07.fit([train.userId, train.movieId], train.rating, batch_size=64, nb_epoch=20, \n",
    "          validation_data=([valid.userId, valid.movieId], valid.rating))"
   ]
  },
  {
   "cell_type": "code",
   "execution_count": 73,
   "metadata": {},
   "outputs": [
    {
     "data": {
      "text/plain": [
       "<matplotlib.figure.Figure at 0x19ded7a0898>"
      ]
     },
     "metadata": {},
     "output_type": "display_data"
    },
    {
     "data": {
      "image/png": "[encoded data removed]",
      "text/plain": [
       "<matplotlib.figure.Figure at 0x19d93b9b438>"
      ]
     },
     "metadata": {},
     "output_type": "display_data"
    }
   ],
   "source": [
    "plt.clf()\n",
    "plt.figure(figsize = (10,7))\n",
    "plt.plot(BASELINE.history['val_loss'], label = 'Baseline', color = 'r', linewidth = 2)\n",
    "plt.plot(LSTM40D07_history.history['val_loss'], label = '0.7')\n",
    "plt.plot(LSTM40bdir_history.history['val_loss'], label = '0.75')\n",
    "plt.plot(LSTM40D08_history.history['val_loss'], label = '0.8')\n",
    "plt.legend()\n",
    "plt.xlabel('Epochs')\n",
    "plt.ylabel('MSE validation loss')\n",
    "plt.show()"
   ]
  },
  {
   "cell_type": "code",
   "execution_count": 74,
   "metadata": {},
   "outputs": [
    {
     "name": "stderr",
     "output_type": "stream",
     "text": [
      "C:\\Users\\nupur\\Anaconda3\\lib\\site-packages\\ipykernel_launcher.py:7: UserWarning: The `merge` function is deprecated and will be removed after 08/2017. Use instead layers from `keras.layers.merge`, e.g. `add`, `concatenate`, etc.\n",
      "  import sys\n",
      "C:\\Users\\nupur\\Anaconda3\\lib\\site-packages\\keras\\legacy\\layers.py:465: UserWarning: The `Merge` layer is deprecated and will be removed after 08/2017. Use instead layers from `keras.layers.merge`, e.g. `add`, `concatenate`, etc.\n",
      "  name=name)\n",
      "C:\\Users\\nupur\\Anaconda3\\lib\\site-packages\\ipykernel_launcher.py:13: UserWarning: The `merge` function is deprecated and will be removed after 08/2017. Use instead layers from `keras.layers.merge`, e.g. `add`, `concatenate`, etc.\n",
      "  del sys.path[0]\n",
      "C:\\Users\\nupur\\Anaconda3\\lib\\site-packages\\ipykernel_launcher.py:20: UserWarning: The `nb_epoch` argument in `fit` has been renamed `epochs`.\n"
     ]
    },
    {
     "name": "stdout",
     "output_type": "stream",
     "text": [
      "Train on 79976 samples, validate on 20028 samples\n",
      "Epoch 1/20\n",
      "79976/79976 [==============================] - 21s 260us/step - loss: 2.6869 - val_loss: 0.8696\n",
      "Epoch 2/20\n",
      "79976/79976 [==============================] - 18s 225us/step - loss: 1.3438 - val_loss: 0.8266\n",
      "Epoch 3/20\n",
      "79976/79976 [==============================] - 18s 226us/step - loss: 1.1931 - val_loss: 0.8130\n",
      "Epoch 4/20\n",
      "79976/79976 [==============================] - 18s 228us/step - loss: 1.0425 - val_loss: 0.8057\n",
      "Epoch 5/20\n",
      "79976/79976 [==============================] - 18s 229us/step - loss: 0.9249 - val_loss: 0.7868\n",
      "Epoch 6/20\n",
      "79976/79976 [==============================] - 19s 238us/step - loss: 0.8484 - val_loss: 0.7927\n",
      "Epoch 7/20\n",
      "79976/79976 [==============================] - 18s 229us/step - loss: 0.8024 - val_loss: 0.7861\n",
      "Epoch 8/20\n",
      "79976/79976 [==============================] - 18s 228us/step - loss: 0.7787 - val_loss: 0.7805\n",
      "Epoch 9/20\n",
      "79976/79976 [==============================] - 18s 229us/step - loss: 0.7640 - val_loss: 0.7774\n",
      "Epoch 10/20\n",
      "79976/79976 [==============================] - 18s 230us/step - loss: 0.7517 - val_loss: 0.7754\n",
      "Epoch 11/20\n",
      "79976/79976 [==============================] - 18s 229us/step - loss: 0.7470 - val_loss: 0.7762\n",
      "Epoch 12/20\n",
      "79976/79976 [==============================] - 18s 231us/step - loss: 0.7404 - val_loss: 0.7734\n",
      "Epoch 13/20\n",
      "79976/79976 [==============================] - 20s 244us/step - loss: 0.7344 - val_loss: 0.7710\n",
      "Epoch 14/20\n",
      "79976/79976 [==============================] - 20s 254us/step - loss: 0.7318 - val_loss: 0.7692\n",
      "Epoch 15/20\n",
      "79976/79976 [==============================] - 20s 252us/step - loss: 0.7289 - val_loss: 0.7719\n",
      "Epoch 16/20\n",
      "79976/79976 [==============================] - 21s 257us/step - loss: 0.7236 - val_loss: 0.7690\n",
      "Epoch 17/20\n",
      "79976/79976 [==============================] - 20s 250us/step - loss: 0.7233 - val_loss: 0.7695\n",
      "Epoch 18/20\n",
      "79976/79976 [==============================] - 20s 245us/step - loss: 0.7207 - val_loss: 0.7686\n",
      "Epoch 19/20\n",
      "79976/79976 [==============================] - 20s 249us/step - loss: 0.7191 - val_loss: 0.7684\n",
      "Epoch 20/20\n",
      "79976/79976 [==============================] - 20s 250us/step - loss: 0.7140 - val_loss: 0.7676\n"
     ]
    }
   ],
   "source": [
    "# Bidirectional LSTM model \n",
    "\n",
    "user_input = Input(shape=(1,), dtype='int64', name='user_input')\n",
    "movie_input = Input(shape = (1,), dtype = 'int64', name = 'movie_input')\n",
    "user_embed = Embedding(len(users), 50, input_length =1)(user_input)\n",
    "movie_embed = Embedding(len(movies), 50, input_length =1)(movie_input)\n",
    "x = merge([user_embed, movie_embed], mode='concat')\n",
    "\n",
    "x = Dropout(0.75)(x)\n",
    "BatchNormalization()\n",
    "x_fwd = LSTM(40)(x)\n",
    "x_bwd = LSTM(40, go_backwards = True)(x)\n",
    "x_bdir = merge([x_fwd, x_bwd], mode = 'concat')\n",
    "x = Dropout(0.8)(x_bdir)\n",
    "BatchNormalization()\n",
    "x = Dense(1)(x)\n",
    "LSTM40_difD = Model([user_input, movie_input], x)\n",
    "LSTM40_difD.compile(Adam(0.001), loss='mse')\n",
    "LSTM40difD_history = LSTM40_difD.fit([train.userId, train.movieId], train.rating, batch_size=64, nb_epoch=20, \n",
    "          validation_data=([valid.userId, valid.movieId], valid.rating))"
   ]
  },
  {
   "cell_type": "code",
   "execution_count": 75,
   "metadata": {},
   "outputs": [
    {
     "data": {
      "text/plain": [
       "<matplotlib.figure.Figure at 0x19d9e0d1828>"
      ]
     },
     "metadata": {},
     "output_type": "display_data"
    },
    {
     "data": {
      "image/png": "[encoded data removed]",
      "text/plain": [
       "<matplotlib.figure.Figure at 0x19d9e0d1e80>"
      ]
     },
     "metadata": {},
     "output_type": "display_data"
    }
   ],
   "source": [
    "plt.clf()\n",
    "plt.figure(figsize = (10,7))\n",
    "plt.plot(BASELINE.history['val_loss'], label = 'Baseline', color = 'r', linewidth = 2)\n",
    "plt.plot(LSTM40bdir_history.history['val_loss'], label = 'D1 = 0.75, D2 = 0.75')\n",
    "plt.plot(LSTM40difD_history.history['val_loss'], label = 'D1 = 0.75, D2 = 0.8')\n",
    "plt.legend()\n",
    "plt.xlabel('Epochs')\n",
    "plt.ylabel('MSE validation loss')\n",
    "plt.show()"
   ]
  },
  {
   "cell_type": "code",
   "execution_count": 76,
   "metadata": {},
   "outputs": [
    {
     "name": "stderr",
     "output_type": "stream",
     "text": [
      "C:\\Users\\nupur\\Anaconda3\\lib\\site-packages\\ipykernel_launcher.py:8: UserWarning: The `merge` function is deprecated and will be removed after 08/2017. Use instead layers from `keras.layers.merge`, e.g. `add`, `concatenate`, etc.\n",
      "  \n",
      "C:\\Users\\nupur\\Anaconda3\\lib\\site-packages\\keras\\legacy\\layers.py:465: UserWarning: The `Merge` layer is deprecated and will be removed after 08/2017. Use instead layers from `keras.layers.merge`, e.g. `add`, `concatenate`, etc.\n",
      "  name=name)\n",
      "C:\\Users\\nupur\\Anaconda3\\lib\\site-packages\\ipykernel_launcher.py:14: UserWarning: The `merge` function is deprecated and will be removed after 08/2017. Use instead layers from `keras.layers.merge`, e.g. `add`, `concatenate`, etc.\n",
      "  \n",
      "C:\\Users\\nupur\\Anaconda3\\lib\\site-packages\\ipykernel_launcher.py:21: UserWarning: The `nb_epoch` argument in `fit` has been renamed `epochs`.\n"
     ]
    },
    {
     "name": "stdout",
     "output_type": "stream",
     "text": [
      "Train on 79976 samples, validate on 20028 samples\n",
      "Epoch 1/20\n",
      "79976/79976 [==============================] - 18s 226us/step - loss: 2.5046 - val_loss: 0.8739\n",
      "Epoch 2/20\n",
      "79976/79976 [==============================] - 15s 185us/step - loss: 1.3583 - val_loss: 0.8300\n",
      "Epoch 3/20\n",
      "79976/79976 [==============================] - 20s 244us/step - loss: 1.1911 - val_loss: 0.8072\n",
      "Epoch 4/20\n",
      "79976/79976 [==============================] - 19s 234us/step - loss: 1.0318 - val_loss: 0.7948\n",
      "Epoch 5/20\n",
      "79976/79976 [==============================] - 15s 187us/step - loss: 0.9153 - val_loss: 0.7935\n",
      "Epoch 6/20\n",
      "79976/79976 [==============================] - 15s 187us/step - loss: 0.8445 - val_loss: 0.7857\n",
      "Epoch 7/20\n",
      "79976/79976 [==============================] - 15s 191us/step - loss: 0.8013 - val_loss: 0.7834\n",
      "Epoch 8/20\n",
      "79976/79976 [==============================] - 15s 193us/step - loss: 0.7761 - val_loss: 0.7819\n",
      "Epoch 9/20\n",
      "79976/79976 [==============================] - 17s 213us/step - loss: 0.7619 - val_loss: 0.7809\n",
      "Epoch 10/20\n",
      "79976/79976 [==============================] - 16s 200us/step - loss: 0.7548 - val_loss: 0.7797\n",
      "Epoch 11/20\n",
      "79976/79976 [==============================] - 16s 194us/step - loss: 0.7466 - val_loss: 0.7767\n",
      "Epoch 12/20\n",
      "79976/79976 [==============================] - 15s 193us/step - loss: 0.7416 - val_loss: 0.7749\n",
      "Epoch 13/20\n",
      "79976/79976 [==============================] - 15s 194us/step - loss: 0.7365 - val_loss: 0.7736\n",
      "Epoch 14/20\n",
      "79976/79976 [==============================] - 16s 194us/step - loss: 0.7335 - val_loss: 0.7695\n",
      "Epoch 15/20\n",
      "79976/79976 [==============================] - 15s 193us/step - loss: 0.7304 - val_loss: 0.7719\n",
      "Epoch 16/20\n",
      "79976/79976 [==============================] - 16s 194us/step - loss: 0.7271 - val_loss: 0.7701\n",
      "Epoch 17/20\n",
      "79976/79976 [==============================] - 19s 239us/step - loss: 0.7214 - val_loss: 0.7687\n",
      "Epoch 18/20\n",
      "79976/79976 [==============================] - 17s 217us/step - loss: 0.7196 - val_loss: 0.7720\n",
      "Epoch 19/20\n",
      "79976/79976 [==============================] - 19s 233us/step - loss: 0.7182 - val_loss: 0.7725\n",
      "Epoch 20/20\n",
      "79976/79976 [==============================] - 17s 216us/step - loss: 0.7163 - val_loss: 0.7717\n"
     ]
    }
   ],
   "source": [
    "# Bidirectional GRU model\n",
    "\n",
    "\n",
    "user_input = Input(shape=(1,), dtype='int64', name='user_input')\n",
    "movie_input = Input(shape = (1,), dtype = 'int64', name = 'movie_input')\n",
    "user_embed = Embedding(len(users), 50, input_length =1)(user_input)\n",
    "movie_embed = Embedding(len(movies), 50, input_length =1)(movie_input)\n",
    "x = merge([user_embed, movie_embed], mode='concat')\n",
    "\n",
    "x = Dropout(0.75)(x)\n",
    "BatchNormalization()\n",
    "x_fwd = GRU(30)(x)\n",
    "x_bwd = GRU(30, go_backwards = True)(x)\n",
    "x_bdir = merge([x_fwd, x_bwd], mode = 'concat')\n",
    "x = Dropout(0.75)(x_bdir)\n",
    "BatchNormalization()\n",
    "x = Dense(1)(x)\n",
    "GRU30_bdir = Model([user_input, movie_input], x)\n",
    "GRU30_bdir.compile(Adam(0.001), loss='mse')\n",
    "GRU30_history = GRU30_bdir.fit([train.userId, train.movieId], train.rating, batch_size=64, nb_epoch=20, \n",
    "          validation_data=([valid.userId, valid.movieId], valid.rating))"
   ]
  },
  {
   "cell_type": "code",
   "execution_count": 77,
   "metadata": {},
   "outputs": [
    {
     "name": "stderr",
     "output_type": "stream",
     "text": [
      "C:\\Users\\nupur\\Anaconda3\\lib\\site-packages\\ipykernel_launcher.py:8: UserWarning: The `merge` function is deprecated and will be removed after 08/2017. Use instead layers from `keras.layers.merge`, e.g. `add`, `concatenate`, etc.\n",
      "  \n",
      "C:\\Users\\nupur\\Anaconda3\\lib\\site-packages\\keras\\legacy\\layers.py:465: UserWarning: The `Merge` layer is deprecated and will be removed after 08/2017. Use instead layers from `keras.layers.merge`, e.g. `add`, `concatenate`, etc.\n",
      "  name=name)\n",
      "C:\\Users\\nupur\\Anaconda3\\lib\\site-packages\\ipykernel_launcher.py:14: UserWarning: The `merge` function is deprecated and will be removed after 08/2017. Use instead layers from `keras.layers.merge`, e.g. `add`, `concatenate`, etc.\n",
      "  \n",
      "C:\\Users\\nupur\\Anaconda3\\lib\\site-packages\\ipykernel_launcher.py:21: UserWarning: The `nb_epoch` argument in `fit` has been renamed `epochs`.\n"
     ]
    },
    {
     "name": "stdout",
     "output_type": "stream",
     "text": [
      "Train on 79976 samples, validate on 20028 samples\n",
      "Epoch 1/20\n",
      "79976/79976 [==============================] - 21s 268us/step - loss: 2.6721 - val_loss: 0.8683\n",
      "Epoch 2/20\n",
      "79976/79976 [==============================] - 17s 210us/step - loss: 1.4201 - val_loss: 0.8355\n",
      "Epoch 3/20\n",
      "79976/79976 [==============================] - 19s 233us/step - loss: 1.2287 - val_loss: 0.8086\n",
      "Epoch 4/20\n",
      "79976/79976 [==============================] - 17s 215us/step - loss: 1.0549 - val_loss: 0.7995\n",
      "Epoch 5/20\n",
      "79976/79976 [==============================] - 15s 189us/step - loss: 0.9200 - val_loss: 0.7928\n",
      "Epoch 6/20\n",
      "79976/79976 [==============================] - 18s 220us/step - loss: 0.8404 - val_loss: 0.7918\n",
      "Epoch 7/20\n",
      "79976/79976 [==============================] - 18s 222us/step - loss: 0.7982 - val_loss: 0.7861\n",
      "Epoch 8/20\n",
      "79976/79976 [==============================] - 17s 213us/step - loss: 0.7758 - val_loss: 0.7821\n",
      "Epoch 9/20\n",
      "79976/79976 [==============================] - 15s 188us/step - loss: 0.7656 - val_loss: 0.7834\n",
      "Epoch 10/20\n",
      "79976/79976 [==============================] - 17s 207us/step - loss: 0.7584 - val_loss: 0.7813\n",
      "Epoch 11/20\n",
      "79976/79976 [==============================] - 18s 219us/step - loss: 0.7505 - val_loss: 0.7789\n",
      "Epoch 12/20\n",
      "79976/79976 [==============================] - 17s 219us/step - loss: 0.7429 - val_loss: 0.7769\n",
      "Epoch 13/20\n",
      "79976/79976 [==============================] - 17s 218us/step - loss: 0.7421 - val_loss: 0.7762\n",
      "Epoch 14/20\n",
      "79976/79976 [==============================] - 17s 219us/step - loss: 0.7374 - val_loss: 0.7736\n",
      "Epoch 15/20\n",
      "79976/79976 [==============================] - 18s 227us/step - loss: 0.7348 - val_loss: 0.7743\n",
      "Epoch 16/20\n",
      "79976/79976 [==============================] - 18s 222us/step - loss: 0.7294 - val_loss: 0.7731\n",
      "Epoch 17/20\n",
      "79976/79976 [==============================] - 18s 230us/step - loss: 0.7290 - val_loss: 0.7715\n",
      "Epoch 18/20\n",
      "79976/79976 [==============================] - 17s 219us/step - loss: 0.7252 - val_loss: 0.7721\n",
      "Epoch 19/20\n",
      "79976/79976 [==============================] - 17s 218us/step - loss: 0.7296 - val_loss: 0.7708\n",
      "Epoch 20/20\n",
      "79976/79976 [==============================] - 17s 218us/step - loss: 0.7212 - val_loss: 0.7711\n"
     ]
    }
   ],
   "source": [
    "# Bidirectional  GRU model with Batch Normalization\n",
    "\n",
    "\n",
    "user_input = Input(shape=(1,), dtype='int64', name='user_input')\n",
    "movie_input = Input(shape = (1,), dtype = 'int64', name = 'movie_input')\n",
    "user_embed = Embedding(len(users), 50, input_length =1)(user_input)\n",
    "movie_embed = Embedding(len(movies), 50, input_length =1)(movie_input)\n",
    "x = merge([user_embed, movie_embed], mode='concat')\n",
    "\n",
    "x = Dropout(0.75)(x)\n",
    "BatchNormalization()\n",
    "x_fwd = GRU(25)(x)\n",
    "x_bwd = GRU(25, go_backwards = True)(x)\n",
    "x_bdir = merge([x_fwd, x_bwd], mode = 'concat')\n",
    "x = Dropout(0.75)(x_bdir)\n",
    "BatchNormalization()\n",
    "x = Dense(1)(x)\n",
    "GRU25_bdir = Model([user_input, movie_input], x)\n",
    "GRU25_bdir.compile(Adam(0.001), loss='mse')\n",
    "GRU25_history = GRU25_bdir.fit([train.userId, train.movieId], train.rating, batch_size=64, nb_epoch=20, \n",
    "          validation_data=([valid.userId, valid.movieId], valid.rating))"
   ]
  },
  {
   "cell_type": "code",
   "execution_count": 78,
   "metadata": {},
   "outputs": [
    {
     "data": {
      "text/plain": [
       "<matplotlib.figure.Figure at 0x19da2fedd68>"
      ]
     },
     "metadata": {},
     "output_type": "display_data"
    },
    {
     "data": {
      "image/png": "[encoded data removed]",
      "text/plain": [
       "<matplotlib.figure.Figure at 0x19da2fedcf8>"
      ]
     },
     "metadata": {},
     "output_type": "display_data"
    }
   ],
   "source": [
    "plt.clf()\n",
    "plt.figure(figsize = (10,7))\n",
    "plt.plot(BASELINE.history['val_loss'], label = 'Baseline', color = 'r', linewidth = 2)\n",
    "plt.plot(LSTM40bdir_history.history['val_loss'], label = 'LSTM 40')\n",
    "plt.plot(GRU30_history.history['val_loss'], label = 'GRU 30')\n",
    "plt.legend()\n",
    "plt.xlabel('Epochs')\n",
    "plt.ylabel('MSE validation loss')\n",
    "plt.show()"
   ]
  },
  {
   "cell_type": "code",
   "execution_count": 79,
   "metadata": {},
   "outputs": [
    {
     "name": "stderr",
     "output_type": "stream",
     "text": [
      "C:\\Users\\nupur\\Anaconda3\\lib\\site-packages\\ipykernel_launcher.py:8: UserWarning: The `merge` function is deprecated and will be removed after 08/2017. Use instead layers from `keras.layers.merge`, e.g. `add`, `concatenate`, etc.\n",
      "  \n",
      "C:\\Users\\nupur\\Anaconda3\\lib\\site-packages\\keras\\legacy\\layers.py:465: UserWarning: The `Merge` layer is deprecated and will be removed after 08/2017. Use instead layers from `keras.layers.merge`, e.g. `add`, `concatenate`, etc.\n",
      "  name=name)\n",
      "C:\\Users\\nupur\\Anaconda3\\lib\\site-packages\\ipykernel_launcher.py:13: UserWarning: The `merge` function is deprecated and will be removed after 08/2017. Use instead layers from `keras.layers.merge`, e.g. `add`, `concatenate`, etc.\n",
      "  del sys.path[0]\n",
      "C:\\Users\\nupur\\Anaconda3\\lib\\site-packages\\ipykernel_launcher.py:19: UserWarning: The `nb_epoch` argument in `fit` has been renamed `epochs`.\n"
     ]
    },
    {
     "name": "stdout",
     "output_type": "stream",
     "text": [
      "Train on 79976 samples, validate on 20028 samples\n",
      "Epoch 1/20\n",
      "79976/79976 [==============================] - 23s 282us/step - loss: 2.4813 - val_loss: 0.8617\n",
      "Epoch 2/20\n",
      "79976/79976 [==============================] - 19s 242us/step - loss: 1.3520 - val_loss: 0.8326\n",
      "Epoch 3/20\n",
      "79976/79976 [==============================] - 16s 195us/step - loss: 1.1868 - val_loss: 0.8101\n",
      "Epoch 4/20\n",
      "79976/79976 [==============================] - 15s 184us/step - loss: 1.0406 - val_loss: 0.8020\n",
      "Epoch 5/20\n",
      "79976/79976 [==============================] - 15s 186us/step - loss: 0.9160 - val_loss: 0.7925\n",
      "Epoch 6/20\n",
      "79976/79976 [==============================] - 15s 185us/step - loss: 0.8413 - val_loss: 0.7851\n",
      "Epoch 7/20\n",
      "79976/79976 [==============================] - 15s 185us/step - loss: 0.7992 - val_loss: 0.7838\n",
      "Epoch 8/20\n",
      "79976/79976 [==============================] - 15s 186us/step - loss: 0.7786 - val_loss: 0.7820\n",
      "Epoch 9/20\n",
      "79976/79976 [==============================] - 15s 186us/step - loss: 0.7659 - val_loss: 0.7790\n",
      "Epoch 10/20\n",
      "79976/79976 [==============================] - 15s 189us/step - loss: 0.7552 - val_loss: 0.7805\n",
      "Epoch 11/20\n",
      "79976/79976 [==============================] - 15s 193us/step - loss: 0.7504 - val_loss: 0.7764\n",
      "Epoch 12/20\n",
      "79976/79976 [==============================] - 16s 201us/step - loss: 0.7427 - val_loss: 0.7762\n",
      "Epoch 13/20\n",
      "79976/79976 [==============================] - 16s 194us/step - loss: 0.7386 - val_loss: 0.7744\n",
      "Epoch 14/20\n",
      "79976/79976 [==============================] - 15s 194us/step - loss: 0.7378 - val_loss: 0.7733\n",
      "Epoch 15/20\n",
      "79976/79976 [==============================] - 15s 193us/step - loss: 0.7302 - val_loss: 0.7756\n",
      "Epoch 16/20\n",
      "79976/79976 [==============================] - 15s 193us/step - loss: 0.7282 - val_loss: 0.7712\n",
      "Epoch 17/20\n",
      "79976/79976 [==============================] - 16s 194us/step - loss: 0.7239 - val_loss: 0.7725\n",
      "Epoch 18/20\n",
      "79976/79976 [==============================] - 15s 193us/step - loss: 0.7214 - val_loss: 0.7688\n",
      "Epoch 19/20\n",
      "79976/79976 [==============================] - 15s 194us/step - loss: 0.7203 - val_loss: 0.7716\n",
      "Epoch 20/20\n",
      "79976/79976 [==============================] - 16s 194us/step - loss: 0.7207 - val_loss: 0.7678\n"
     ]
    }
   ],
   "source": [
    "# Bidirectional GRU model \n",
    "\n",
    "\n",
    "user_input = Input(shape=(1,), dtype='int64', name='user_input')\n",
    "movie_input = Input(shape = (1,), dtype = 'int64', name = 'movie_input')\n",
    "user_embed = Embedding(len(users), 50, input_length =1)(user_input)\n",
    "movie_embed = Embedding(len(movies), 50, input_length =1)(movie_input)\n",
    "x = merge([user_embed, movie_embed], mode='concat')\n",
    "\n",
    "x = Dropout(0.75)(x)\n",
    "x_fwd = GRU(30)(x)\n",
    "x_bwd = GRU(30, go_backwards = True)(x)\n",
    "x_bdir = merge([x_fwd, x_bwd], mode = 'concat')\n",
    "x = Dropout(0.75)(x_bdir)\n",
    "x = Dense(1)(x)\n",
    "GRU30_bdir = Model([user_input, movie_input], x)\n",
    "GRU30_bdir.compile(Adam(0.001), loss='mse')\n",
    "GRU30_history = GRU30_bdir.fit([train.userId, train.movieId], train.rating, batch_size=64, nb_epoch=20, \n",
    "          validation_data=([valid.userId, valid.movieId], valid.rating))"
   ]
  },
  {
   "cell_type": "code",
   "execution_count": 80,
   "metadata": {},
   "outputs": [
    {
     "name": "stderr",
     "output_type": "stream",
     "text": [
      "C:\\Users\\nupur\\Anaconda3\\lib\\site-packages\\ipykernel_launcher.py:8: UserWarning: The `merge` function is deprecated and will be removed after 08/2017. Use instead layers from `keras.layers.merge`, e.g. `add`, `concatenate`, etc.\n",
      "  \n",
      "C:\\Users\\nupur\\Anaconda3\\lib\\site-packages\\keras\\legacy\\layers.py:465: UserWarning: The `Merge` layer is deprecated and will be removed after 08/2017. Use instead layers from `keras.layers.merge`, e.g. `add`, `concatenate`, etc.\n",
      "  name=name)\n",
      "C:\\Users\\nupur\\Anaconda3\\lib\\site-packages\\ipykernel_launcher.py:14: UserWarning: The `merge` function is deprecated and will be removed after 08/2017. Use instead layers from `keras.layers.merge`, e.g. `add`, `concatenate`, etc.\n",
      "  \n",
      "C:\\Users\\nupur\\Anaconda3\\lib\\site-packages\\ipykernel_launcher.py:21: UserWarning: The `nb_epoch` argument in `fit` has been renamed `epochs`.\n"
     ]
    },
    {
     "name": "stdout",
     "output_type": "stream",
     "text": [
      "Train on 79976 samples, validate on 20028 samples\n",
      "Epoch 1/20\n",
      "79976/79976 [==============================] - 21s 258us/step - loss: 2.4978 - val_loss: 0.8755\n",
      "Epoch 2/20\n",
      "79976/79976 [==============================] - 17s 219us/step - loss: 1.3591 - val_loss: 0.8304\n",
      "Epoch 3/20\n",
      "79976/79976 [==============================] - 17s 219us/step - loss: 1.1901 - val_loss: 0.8187\n",
      "Epoch 4/20\n",
      "79976/79976 [==============================] - 18s 221us/step - loss: 1.0380 - val_loss: 0.8004\n",
      "Epoch 5/20\n",
      "79976/79976 [==============================] - 18s 225us/step - loss: 0.9170 - val_loss: 0.7959\n",
      "Epoch 6/20\n",
      "79976/79976 [==============================] - 18s 222us/step - loss: 0.8446 - val_loss: 0.7843\n",
      "Epoch 7/20\n",
      "79976/79976 [==============================] - 18s 222us/step - loss: 0.7978 - val_loss: 0.7848\n",
      "Epoch 8/20\n",
      "79976/79976 [==============================] - 18s 222us/step - loss: 0.7776 - val_loss: 0.7843\n",
      "Epoch 9/20\n",
      "79976/79976 [==============================] - 18s 222us/step - loss: 0.7646 - val_loss: 0.7813\n",
      "Epoch 10/20\n",
      "79976/79976 [==============================] - 18s 222us/step - loss: 0.7522 - val_loss: 0.7803\n",
      "Epoch 11/20\n",
      "79976/79976 [==============================] - 18s 222us/step - loss: 0.7485 - val_loss: 0.7758\n",
      "Epoch 12/20\n",
      "79976/79976 [==============================] - 18s 222us/step - loss: 0.7418 - val_loss: 0.7747\n",
      "Epoch 13/20\n",
      "79976/79976 [==============================] - 18s 222us/step - loss: 0.7362 - val_loss: 0.7728\n",
      "Epoch 14/20\n",
      "79976/79976 [==============================] - 18s 230us/step - loss: 0.7316 - val_loss: 0.7708\n",
      "Epoch 15/20\n",
      "79976/79976 [==============================] - 19s 232us/step - loss: 0.7282 - val_loss: 0.7721\n",
      "Epoch 16/20\n",
      "79976/79976 [==============================] - 18s 223us/step - loss: 0.7265 - val_loss: 0.7707\n",
      "Epoch 17/20\n",
      "79976/79976 [==============================] - 18s 223us/step - loss: 0.7226 - val_loss: 0.7716\n",
      "Epoch 18/20\n",
      "79976/79976 [==============================] - 18s 223us/step - loss: 0.7187 - val_loss: 0.7701\n",
      "Epoch 19/20\n",
      "79976/79976 [==============================] - 18s 223us/step - loss: 0.7191 - val_loss: 0.7699\n",
      "Epoch 20/20\n",
      "79976/79976 [==============================] - 18s 223us/step - loss: 0.7160 - val_loss: 0.7700\n"
     ]
    }
   ],
   "source": [
    "# Bidirectional  GRU model with regularization\n",
    "\n",
    "\n",
    "user_input = Input(shape=(1,), dtype='int64', name='user_input')\n",
    "movie_input = Input(shape = (1,), dtype = 'int64', name = 'movie_input')\n",
    "user_embed = Embedding(len(users), 50, input_length =1)(user_input)\n",
    "movie_embed = Embedding(len(movies), 50, input_length =1)(movie_input)\n",
    "x = merge([user_embed, movie_embed], mode='concat')\n",
    "\n",
    "x = Dropout(0.75)(x)\n",
    "BatchNormalization()\n",
    "x_fwd = GRU(30)(x)\n",
    "x_bwd = GRU(30, go_backwards = True)(x)\n",
    "x_bdir = merge([x_fwd, x_bwd], mode = 'concat')\n",
    "x = Dropout(0.75)(x_bdir)\n",
    "BatchNormalization()\n",
    "x = Dense(1)(x)\n",
    "GRU30bn_bdir = Model([user_input, movie_input], x)\n",
    "GRU30bn_bdir.compile(Adam(0.001), loss='mse')\n",
    "GRU30bn_history = GRU30bn_bdir.fit([train.userId, train.movieId], train.rating, batch_size=64, nb_epoch=20, \n",
    "          validation_data=([valid.userId, valid.movieId], valid.rating))"
   ]
  },
  {
   "cell_type": "code",
   "execution_count": 81,
   "metadata": {},
   "outputs": [
    {
     "data": {
      "text/plain": [
       "<matplotlib.figure.Figure at 0x19d93bdf160>"
      ]
     },
     "metadata": {},
     "output_type": "display_data"
    },
    {
     "data": {
      "image/png": "[encoded data removed]",
      "text/plain": [
       "<matplotlib.figure.Figure at 0x19da80e0240>"
      ]
     },
     "metadata": {},
     "output_type": "display_data"
    }
   ],
   "source": [
    "plt.clf()\n",
    "plt.figure(figsize = (10,7))\n",
    "plt.plot(LSTM40bdir_history.history['val_loss'], label = 'LSTM batchnorm')\n",
    "plt.plot(LSTM40nbn_history.history['val_loss'], label = 'LSTM no batchnorm')\n",
    "plt.plot(GRU30_history.history['val_loss'], label = 'GRU no batchnorm')\n",
    "plt.plot(GRU30bn_history.history['val_loss'], label = 'GRU batchnorm')\n",
    "plt.legend()\n",
    "plt.xlabel('Epochs')\n",
    "plt.ylabel('MSE validation loss')\n",
    "plt.show()"
   ]
  },
  {
   "cell_type": "code",
   "execution_count": 82,
   "metadata": {},
   "outputs": [
    {
     "name": "stderr",
     "output_type": "stream",
     "text": [
      "C:\\Users\\nupur\\Anaconda3\\lib\\site-packages\\ipykernel_launcher.py:7: UserWarning: The `merge` function is deprecated and will be removed after 08/2017. Use instead layers from `keras.layers.merge`, e.g. `add`, `concatenate`, etc.\n",
      "  import sys\n",
      "C:\\Users\\nupur\\Anaconda3\\lib\\site-packages\\keras\\legacy\\layers.py:465: UserWarning: The `Merge` layer is deprecated and will be removed after 08/2017. Use instead layers from `keras.layers.merge`, e.g. `add`, `concatenate`, etc.\n",
      "  name=name)\n",
      "C:\\Users\\nupur\\Anaconda3\\lib\\site-packages\\ipykernel_launcher.py:13: UserWarning: The `merge` function is deprecated and will be removed after 08/2017. Use instead layers from `keras.layers.merge`, e.g. `add`, `concatenate`, etc.\n",
      "  del sys.path[0]\n"
     ]
    }
   ],
   "source": [
    "# Best result\n",
    "\n",
    "user_input = Input(shape=(1,), dtype='int64', name='user_input')\n",
    "movie_input = Input(shape = (1,), dtype = 'int64', name = 'movie_input')\n",
    "user_embed = Embedding(len(users), 50, input_length =1)(user_input)\n",
    "movie_embed = Embedding(len(movies), 50, input_length =1)(movie_input)\n",
    "x = merge([user_embed, movie_embed], mode='concat')\n",
    "\n",
    "x = Dropout(0.75)(x)\n",
    "BatchNormalization()\n",
    "x_fwd = LSTM(40)(x)\n",
    "x_bwd = LSTM(40, go_backwards = True)(x)\n",
    "x_bdir = merge([x_fwd, x_bwd], mode = 'concat')\n",
    "Activation_model = Model([user_input, movie_input], x_bdir)"
   ]
  },
  {
   "cell_type": "code",
   "execution_count": 83,
   "metadata": {
    "collapsed": true
   },
   "outputs": [],
   "source": [
    "for layer in zip(LSTM40_bdir.layers[:-2], Activation_model.layers):\n",
    "    # the new weights are the second element in the tuple\n",
    "    layer[1].set_weights([x for x in layer[0].get_weights()])\n",
    "\n",
    "Activation_model.compile(Adam(0.001), loss='mse')"
   ]
  },
  {
   "cell_type": "code",
   "execution_count": 84,
   "metadata": {
    "collapsed": true
   },
   "outputs": [],
   "source": [
    "\n",
    "activations = Activation_model.predict([valid.userId, valid.movieId])"
   ]
  },
  {
   "cell_type": "code",
   "execution_count": 85,
   "metadata": {},
   "outputs": [
    {
     "data": {
      "text/plain": [
       "(20028, 20028)"
      ]
     },
     "execution_count": 85,
     "metadata": {},
     "output_type": "execute_result"
    }
   ],
   "source": [
    "len(activations), len(valid.movieId)"
   ]
  },
  {
   "cell_type": "code",
   "execution_count": 86,
   "metadata": {
    "collapsed": true
   },
   "outputs": [],
   "source": [
    "valid.to_csv('MOVIELENSvalid.csv')"
   ]
  },
  {
   "cell_type": "code",
   "execution_count": 87,
   "metadata": {
    "collapsed": true
   },
   "outputs": [],
   "source": [
    "np.save('activations.npy', activations)"
   ]
  },
  {
   "cell_type": "code",
   "execution_count": 90,
   "metadata": {
    "collapsed": true
   },
   "outputs": [],
   "source": [
    "X_50_iter5000 = np.load(r'C:\\Users\\nupur\\Desktop\\X_50_iter5000.npy')"
   ]
  },
  {
   "cell_type": "code",
   "execution_count": null,
   "metadata": {
    "collapsed": true
   },
   "outputs": [],
   "source": []
  },
  {
   "cell_type": "code",
   "execution_count": 100,
   "metadata": {},
   "outputs": [
    {
     "name": "stdout",
     "output_type": "stream",
     "text": [
      "[[ 0.31504855 -0.21481475  0.11789364 ...  0.2806947   0.32881087\n",
      "  -0.23835376]\n",
      " [ 0.22045435 -0.10450542  0.01378366 ...  0.18795547  0.20486768\n",
      "  -0.1596452 ]\n",
      " [-0.10634277  0.03616224 -0.05196679 ... -0.07248504 -0.06135877\n",
      "   0.0728111 ]\n",
      " ...\n",
      " [-0.0745948   0.06507128 -0.09663445 ... -0.08660675 -0.06861039\n",
      "   0.07920033]\n",
      " [-0.11550901  0.07549129 -0.11111737 ... -0.09960625 -0.09164483\n",
      "   0.0632048 ]\n",
      " [-0.00898906 -0.0441976   0.04398387 ...  0.02518693  0.03795997\n",
      "  -0.0320015 ]]\n"
     ]
    }
   ],
   "source": [
    "print(activations)"
   ]
  },
  {
   "cell_type": "code",
   "execution_count": 101,
   "metadata": {},
   "outputs": [
    {
     "name": "stdout",
     "output_type": "stream",
     "text": [
      "       userId  movieId  rating\n",
      "10          0       10     2.5\n",
      "17          0       17     2.5\n",
      "24          1       24     4.0\n",
      "29          1       29     5.0\n",
      "39          1       39     3.0\n",
      "45          1       45     5.0\n",
      "50          1       50     3.0\n",
      "58          1       58     3.0\n",
      "63          1       63     3.0\n",
      "68          1       68     4.0\n",
      "69          1       69     3.0\n",
      "76          1       76     4.0\n",
      "77          1       77     4.0\n",
      "86          1       86     3.0\n",
      "92          1       92     3.0\n",
      "102         2      100     2.5\n",
      "105         2       79     3.0\n",
      "109         2      101     2.0\n",
      "112         2      104     3.0\n",
      "113         2      105     5.0\n",
      "115         2      107     4.0\n",
      "125         2      117     3.5\n",
      "128         2      120     4.0\n",
      "130         2      122     5.0\n",
      "137         2      129     2.5\n",
      "139         2      131     3.5\n",
      "142         2      134     3.5\n",
      "145         2      137     3.0\n",
      "152         3      142     3.0\n",
      "157         3      145     3.0\n",
      "...       ...      ...     ...\n",
      "99858     669      417     4.0\n",
      "99865     669       27     3.0\n",
      "99866     669       29     3.0\n",
      "99872     669      505     5.0\n",
      "99873     669      763     5.0\n",
      "99885     669      955     5.0\n",
      "99898     670     2529     2.5\n",
      "99902     670       88     4.0\n",
      "99911     670     2174     4.0\n",
      "99916     670      180     5.0\n",
      "99922     670      329     4.0\n",
      "99928     670      828     4.0\n",
      "99935     670      113     4.0\n",
      "99936     670      241     4.0\n",
      "99939     670      463     4.0\n",
      "99948     670      288     3.5\n",
      "99954     670      343     4.5\n",
      "99965     670       19     3.0\n",
      "99970     670      472     3.5\n",
      "99971     670      352     3.5\n",
      "99972     670     1126     4.0\n",
      "99973     670     1129     4.0\n",
      "99975     670      354     5.0\n",
      "99982     670      480     5.0\n",
      "99983     670      359     4.0\n",
      "99984     670     1225     2.0\n",
      "99985     670     1240     2.0\n",
      "99991     670      127     4.0\n",
      "99997     670      365     4.0\n",
      "99999     670     7005     2.5\n",
      "\n",
      "[20028 rows x 3 columns]\n"
     ]
    }
   ],
   "source": [
    "print(valid)"
   ]
  },
  {
   "cell_type": "markdown",
   "metadata": {},
   "source": [
    "ref[1]: https://stackoverflow.com/questions/28163439/attributeerror-dataframe-object-has-no-attribute-height/28163504\n",
    "ref[2]:https://medium.com/@gabrieltseng/clustering-and-collaborative-filtering-implementing-neural-networks-bccf2f9ff988"
   ]
  },
  {
   "cell_type": "markdown",
   "metadata": {
    "collapsed": true
   },
   "source": [
    "The text in the document by Neha Gaikwad and Nupur Deshpande is licensed under CC BY 3.0 https://creativecommons.org/licenses/by/3.0/us/\n",
    "The code in the document by Neha Gaikwad and Nupur Deshpande is licensed under the MIT License https://opensource.org/licenses/MIT"
   ]
  },
  {
   "cell_type": "code",
   "execution_count": null,
   "metadata": {
    "collapsed": true
   },
   "outputs": [],
   "source": []
  },
  {
   "cell_type": "code",
   "execution_count": null,
   "metadata": {
    "collapsed": true
   },
   "outputs": [],
   "source": []
  },
  {
   "cell_type": "code",
   "execution_count": null,
   "metadata": {
    "collapsed": true
   },
   "outputs": [],
   "source": []
  }
 ],
 "metadata": {
  "kernelspec": {
   "display_name": "Python 3",
   "language": "python",
   "name": "python3"
  },
  "language_info": {
   "codemirror_mode": {
    "name": "ipython",
    "version": 3
   },
   "file_extension": ".py",
   "mimetype": "text/x-python",
   "name": "python",
   "nbconvert_exporter": "python",
   "pygments_lexer": "ipython3",
   "version": "3.6.4"
  }
 },
 "nbformat": 4,
 "nbformat_minor": 2
}
