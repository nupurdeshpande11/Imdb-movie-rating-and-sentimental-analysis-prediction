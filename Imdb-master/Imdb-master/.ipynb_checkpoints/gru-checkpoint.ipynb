{
 "cells": [
  {
   "cell_type": "markdown",
   "metadata": {},
   "source": [
    "## GRU architecture"
   ]
  },
  {
   "cell_type": "code",
   "execution_count": 1,
   "metadata": {
    "collapsed": true
   },
   "outputs": [],
   "source": [
    "from __future__ import print_function"
   ]
  },
  {
   "cell_type": "code",
   "execution_count": 2,
   "metadata": {
    "scrolled": true
   },
   "outputs": [
    {
     "name": "stderr",
     "output_type": "stream",
     "text": [
      "C:\\Users\\nupur\\Anaconda3\\lib\\site-packages\\h5py\\__init__.py:34: FutureWarning: Conversion of the second argument of issubdtype from `float` to `np.floating` is deprecated. In future, it will be treated as `np.float64 == np.dtype(float).type`.\n",
      "  from ._conv import register_converters as _register_converters\n",
      "Using Theano backend.\n",
      "WARNING (theano.tensor.blas): Using NumPy C-API based implementation for BLAS functions.\n"
     ]
    }
   ],
   "source": [
    "# Importing libraries\n",
    "from keras.preprocessing import sequence\n",
    "from keras.models import Sequential\n",
    "from keras.layers import Dense, Dropout, Activation\n",
    "from keras.layers import Embedding\n",
    "from keras.layers import GRU\n",
    "from keras.layers import Conv1D, MaxPooling1D\n",
    "from keras.datasets import imdb\n"
   ]
  },
  {
   "cell_type": "code",
   "execution_count": 3,
   "metadata": {
    "collapsed": true
   },
   "outputs": [],
   "source": [
    "# Embedding (ref[1])\n",
    "max_features = 20000 \n",
    "maxlen = 100\n",
    "embedding_size = 128"
   ]
  },
  {
   "cell_type": "code",
   "execution_count": 4,
   "metadata": {
    "collapsed": true
   },
   "outputs": [],
   "source": [
    "# Convolution(ref[1])\n",
    "kernel_size = 5\n",
    "filters = 64\n",
    "pool_size = 4"
   ]
  },
  {
   "cell_type": "code",
   "execution_count": 5,
   "metadata": {
    "collapsed": true
   },
   "outputs": [],
   "source": [
    "# GRU\n",
    "gru_output_size = 70"
   ]
  },
  {
   "cell_type": "code",
   "execution_count": 6,
   "metadata": {
    "collapsed": true
   },
   "outputs": [],
   "source": [
    "# Training\n",
    "batch_size = 512\n",
    "epochs = 20"
   ]
  },
  {
   "cell_type": "code",
   "execution_count": 7,
   "metadata": {},
   "outputs": [
    {
     "name": "stdout",
     "output_type": "stream",
     "text": [
      "Loading data...\n",
      "25000 train sequences\n",
      "25000 test sequences\n"
     ]
    }
   ],
   "source": [
    "# Splitting data into test and train data \n",
    "print('Loading data...')\n",
    "(x_train, y_train), (x_test, y_test) = imdb.load_data(num_words=max_features)\n",
    "print(len(x_train), 'train sequences')\n",
    "print(len(x_test), 'test sequences')"
   ]
  },
  {
   "cell_type": "code",
   "execution_count": 8,
   "metadata": {},
   "outputs": [
    {
     "name": "stdout",
     "output_type": "stream",
     "text": [
      "Pad sequences (samples x time)\n",
      "x_train shape: (25000, 100)\n",
      "x_test shape: (25000, 100)\n"
     ]
    }
   ],
   "source": [
    "# Printing shape of train and test data\n",
    "print('Pad sequences (samples x time)')\n",
    "x_train = sequence.pad_sequences(x_train, maxlen=maxlen)\n",
    "x_test = sequence.pad_sequences(x_test, maxlen=maxlen)\n",
    "print('x_train shape:', x_train.shape)\n",
    "print('x_test shape:', x_test.shape)\n"
   ]
  },
  {
   "cell_type": "code",
   "execution_count": 9,
   "metadata": {},
   "outputs": [
    {
     "name": "stdout",
     "output_type": "stream",
     "text": [
      "Build model...\n"
     ]
    }
   ],
   "source": [
    "# Defining the model (ref[1])\n",
    "print('Build model...')\n",
    "\n",
    "model = Sequential()\n",
    "model.add(Embedding(max_features, embedding_size, input_length=maxlen))\n",
    "model.add(Dropout(0.25))\n",
    "model.add(Conv1D(filters,\n",
    "                 kernel_size,\n",
    "                 padding='valid',\n",
    "                 activation='relu',\n",
    "                 strides=1))\n",
    "model.add(MaxPooling1D(pool_size=pool_size))\n",
    "model.add(GRU(gru_output_size))\n",
    "model.add(Dense(1))\n",
    "model.add(Activation('sigmoid'))\n",
    "\n"
   ]
  },
  {
   "cell_type": "code",
   "execution_count": 11,
   "metadata": {
    "collapsed": true
   },
   "outputs": [],
   "source": [
    "# We configure our model with the rmsprop optimizer and the binary_crossentropy loss function\n",
    "model.compile(loss='binary_crossentropy',\n",
    "              optimizer='adam',\n",
    "              metrics=['accuracy'])"
   ]
  },
  {
   "cell_type": "code",
   "execution_count": 12,
   "metadata": {},
   "outputs": [
    {
     "name": "stdout",
     "output_type": "stream",
     "text": [
      "Train...\n",
      "Train on 25000 samples, validate on 25000 samples\n",
      "Epoch 1/20\n",
      "25000/25000 [==============================] - 89s 4ms/step - loss: 0.5836 - acc: 0.6868 - val_loss: 0.3821 - val_acc: 0.8272\n",
      "Epoch 2/20\n",
      "25000/25000 [==============================] - 95s 4ms/step - loss: 0.2853 - acc: 0.8809 - val_loss: 0.3436 - val_acc: 0.8505\n",
      "Epoch 3/20\n",
      "25000/25000 [==============================] - 87s 3ms/step - loss: 0.1726 - acc: 0.9373 - val_loss: 0.4004 - val_acc: 0.8401\n",
      "Epoch 4/20\n",
      "25000/25000 [==============================] - 87s 3ms/step - loss: 0.1153 - acc: 0.9590 - val_loss: 0.4773 - val_acc: 0.8365\n",
      "Epoch 5/20\n",
      "25000/25000 [==============================] - 88s 4ms/step - loss: 0.0780 - acc: 0.9741 - val_loss: 0.5462 - val_acc: 0.8313\n",
      "Epoch 6/20\n",
      "25000/25000 [==============================] - 88s 4ms/step - loss: 0.0459 - acc: 0.9852 - val_loss: 0.6774 - val_acc: 0.8215\n",
      "Epoch 7/20\n",
      "25000/25000 [==============================] - 91s 4ms/step - loss: 0.0293 - acc: 0.9908 - val_loss: 0.7257 - val_acc: 0.8223\n",
      "Epoch 8/20\n",
      "25000/25000 [==============================] - 100s 4ms/step - loss: 0.0251 - acc: 0.9916 - val_loss: 0.7557 - val_acc: 0.8232\n",
      "Epoch 9/20\n",
      "25000/25000 [==============================] - 102s 4ms/step - loss: 0.0151 - acc: 0.9955 - val_loss: 0.8613 - val_acc: 0.8220\n",
      "Epoch 10/20\n",
      "25000/25000 [==============================] - 85s 3ms/step - loss: 0.0091 - acc: 0.9975 - val_loss: 0.9722 - val_acc: 0.8191\n",
      "Epoch 11/20\n",
      "25000/25000 [==============================] - 94s 4ms/step - loss: 0.0072 - acc: 0.9983 - val_loss: 1.0217 - val_acc: 0.8190\n",
      "Epoch 12/20\n",
      "25000/25000 [==============================] - 86s 3ms/step - loss: 0.0070 - acc: 0.9980 - val_loss: 1.0174 - val_acc: 0.8223\n",
      "Epoch 13/20\n",
      "25000/25000 [==============================] - 87s 3ms/step - loss: 0.0057 - acc: 0.9983 - val_loss: 1.1280 - val_acc: 0.8132\n",
      "Epoch 14/20\n",
      "25000/25000 [==============================] - 95s 4ms/step - loss: 0.0073 - acc: 0.9977 - val_loss: 1.1261 - val_acc: 0.8196\n",
      "Epoch 15/20\n",
      "25000/25000 [==============================] - 93s 4ms/step - loss: 0.0040 - acc: 0.9988 - val_loss: 1.0752 - val_acc: 0.8205\n",
      "Epoch 16/20\n",
      "25000/25000 [==============================] - 95s 4ms/step - loss: 0.0034 - acc: 0.9990 - val_loss: 1.1710 - val_acc: 0.8196\n",
      "Epoch 17/20\n",
      "25000/25000 [==============================] - 92s 4ms/step - loss: 0.0093 - acc: 0.9968 - val_loss: 1.1226 - val_acc: 0.8199\n",
      "Epoch 18/20\n",
      "25000/25000 [==============================] - 92s 4ms/step - loss: 0.0116 - acc: 0.9956 - val_loss: 1.0146 - val_acc: 0.8202\n",
      "Epoch 19/20\n",
      "25000/25000 [==============================] - 92s 4ms/step - loss: 0.0066 - acc: 0.9977 - val_loss: 1.1372 - val_acc: 0.8177\n",
      "Epoch 20/20\n",
      "25000/25000 [==============================] - 87s 3ms/step - loss: 0.0044 - acc: 0.9989 - val_loss: 1.1490 - val_acc: 0.8201\n",
      "25000/25000 [==============================] - 25s 1ms/step\n",
      "Test score: 1.1490429708480836\n",
      "Test accuracy: 0.8201200004959106\n"
     ]
    }
   ],
   "source": [
    "# Fitting the model\n",
    "print('Train...')\n",
    "a=model.fit(x_train, y_train,\n",
    "          batch_size=batch_size,\n",
    "          epochs=epochs,\n",
    "          validation_data=(x_test, y_test))\n",
    "score, acc = model.evaluate(x_test, y_test, batch_size=batch_size)\n",
    "print('Test score:', score)\n",
    "print('Test accuracy:', acc)"
   ]
  },
  {
   "cell_type": "code",
   "execution_count": 13,
   "metadata": {},
   "outputs": [
    {
     "data": {
      "text/plain": [
       "dict_keys(['val_loss', 'val_acc', 'loss', 'acc'])"
      ]
     },
     "execution_count": 13,
     "metadata": {},
     "output_type": "execute_result"
    }
   ],
   "source": [
    "# The call to model.fit() returns a History object. This object has a member history, which is a dictionary containing data about everything that happened during training\n",
    "history_dict = a.history\n",
    "history_dict.keys()"
   ]
  },
  {
   "cell_type": "code",
   "execution_count": 14,
   "metadata": {},
   "outputs": [
    {
     "data": {
      "image/png": "[encoded data removed]",
      "text/plain": [
       "<matplotlib.figure.Figure at 0x1938cba5c18>"
      ]
     },
     "metadata": {},
     "output_type": "display_data"
    }
   ],
   "source": [
    "#Plotting training loss v/s validation loss\n",
    "import matplotlib.pyplot as plt\n",
    "\n",
    "#acc = history.history['acc']\n",
    "#val_acc = history.history['val_acc']\n",
    "acc = a.history['acc']\n",
    "val_acc = a.history['val_acc']\n",
    "loss = a.history['loss']\n",
    "val_loss = a.history['val_loss']\n",
    "\n",
    "epochs = range(1, len(acc) + 1)\n",
    "\n",
    "# \"bo\" is for \"blue dot\"\n",
    "plt.plot(epochs, loss, 'bo', label='Training loss')\n",
    "# b is for \"solid blue line\"\n",
    "plt.plot(epochs, val_loss, 'b', label='Validation loss')\n",
    "plt.title('Training and validation loss')\n",
    "plt.xlabel('Epochs')\n",
    "plt.ylabel('Loss')\n",
    "plt.legend()\n",
    "\n",
    "plt.show()"
   ]
  },
  {
   "cell_type": "code",
   "execution_count": 15,
   "metadata": {},
   "outputs": [
    {
     "data": {
      "image/png": "[encoded data removed]",
      "text/plain": [
       "<matplotlib.figure.Figure at 0x1938cba5780>"
      ]
     },
     "metadata": {},
     "output_type": "display_data"
    }
   ],
   "source": [
    "# Plotting training loss v/s validation accuracy\n",
    "plt.clf()   # clear figure\n",
    "#acc_values = history_dict['acc']\n",
    "#val_acc_values = history_dict['val_acc']\n",
    "acc_values = history_dict['acc']\n",
    "val_acc_values = history_dict['val_acc']\n",
    "\n",
    "plt.plot(epochs, acc, 'bo', label='Training acc')\n",
    "plt.plot(epochs, val_acc, 'b', label='Validation acc')\n",
    "plt.title('Training and validation accuracy')\n",
    "plt.xlabel('Epochs')\n",
    "plt.ylabel('Accuracy')\n",
    "plt.legend()\n",
    "\n",
    "plt.show()"
   ]
  },
  {
   "cell_type": "code",
   "execution_count": 16,
   "metadata": {},
   "outputs": [
    {
     "name": "stdout",
     "output_type": "stream",
     "text": [
      "Train...\n",
      "Train on 25000 samples, validate on 25000 samples\n",
      "Epoch 1/4\n",
      "25000/25000 [==============================] - 86s 3ms/step - loss: 0.0032 - acc: 0.9992 - val_loss: 1.2567 - val_acc: 0.8204\n",
      "Epoch 2/4\n",
      "25000/25000 [==============================] - 91s 4ms/step - loss: 0.0037 - acc: 0.9988 - val_loss: 1.2692 - val_acc: 0.8184\n",
      "Epoch 3/4\n",
      "25000/25000 [==============================] - 99s 4ms/step - loss: 0.0035 - acc: 0.9992 - val_loss: 1.2253 - val_acc: 0.8200\n",
      "Epoch 4/4\n",
      "25000/25000 [==============================] - 100s 4ms/step - loss: 0.0033 - acc: 0.9989 - val_loss: 1.3542 - val_acc: 0.8163\n",
      "25000/25000 [==============================] - 26s 1ms/step\n",
      "Test score: 1.3542346979522706\n",
      "Test accuracy: 0.8162799998664856\n"
     ]
    }
   ],
   "source": [
    "# Training\n",
    "batch_size = 512\n",
    "epochs = 4\n",
    "print('Train...')\n",
    "a=model.fit(x_train, y_train,\n",
    "          batch_size=batch_size,\n",
    "          epochs=epochs,\n",
    "          validation_data=(x_test, y_test))\n",
    "score, acc = model.evaluate(x_test, y_test, batch_size=batch_size)\n",
    "print('Test score:', score)\n",
    "print('Test accuracy:', acc)"
   ]
  },
  {
   "cell_type": "code",
   "execution_count": 17,
   "metadata": {},
   "outputs": [
    {
     "name": "stdout",
     "output_type": "stream",
     "text": [
      "25000/25000 [==============================] - 27s 1ms/step\n"
     ]
    }
   ],
   "source": [
    "#Evaluation\n",
    "results = model.evaluate(x_test, y_test)"
   ]
  },
  {
   "cell_type": "code",
   "execution_count": 18,
   "metadata": {},
   "outputs": [
    {
     "data": {
      "text/plain": [
       "[1.3542346955634468, 0.81628]"
      ]
     },
     "execution_count": 18,
     "metadata": {},
     "output_type": "execute_result"
    }
   ],
   "source": [
    "# Printing the results\n",
    "results"
   ]
  },
  {
   "cell_type": "code",
   "execution_count": 19,
   "metadata": {},
   "outputs": [
    {
     "data": {
      "text/plain": [
       "array([[9.9986458e-01],\n",
       "       [9.9999952e-01],\n",
       "       [9.9999893e-01],\n",
       "       ...,\n",
       "       [1.7587876e-05],\n",
       "       [1.9235406e-02],\n",
       "       [9.9919212e-01]], dtype=float32)"
      ]
     },
     "execution_count": 19,
     "metadata": {},
     "output_type": "execute_result"
    }
   ],
   "source": [
    "# Predicting the model\n",
    "model.predict(x_test)"
   ]
  },
  {
   "cell_type": "markdown",
   "metadata": {},
   "source": [
    "ref[1]: https://medium.com/@thoszymkowiak/how-to-implement-sentiment-analysis-using-word-embedding-and-convolutional-neural-networks-on-keras-163197aef623"
   ]
  },
  {
   "cell_type": "markdown",
   "metadata": {
    "collapsed": true
   },
   "source": [
    "The text in the document by Neha Gaikwad and Nupur Deshpande is licensed under CC BY 3.0 https://creativecommons.org/licenses/by/3.0/us/\n",
    "\n",
    "The code in the document by Neha Gaikwad and Nupur Deshpande is licensed under the MIT License https://opensource.org/licenses/MIT"
   ]
  }
 ],
 "metadata": {
  "kernelspec": {
   "display_name": "Python 3",
   "language": "python",
   "name": "python3"
  },
  "language_info": {
   "codemirror_mode": {
    "name": "ipython",
    "version": 3
   },
   "file_extension": ".py",
   "mimetype": "text/x-python",
   "name": "python",
   "nbconvert_exporter": "python",
   "pygments_lexer": "ipython3",
   "version": "3.6.4"
  }
 },
 "nbformat": 4,
 "nbformat_minor": 2
}
