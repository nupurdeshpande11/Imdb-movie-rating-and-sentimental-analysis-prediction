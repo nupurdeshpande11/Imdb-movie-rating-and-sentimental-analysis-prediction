{
 "cells": [
  {
   "cell_type": "markdown",
   "metadata": {},
   "source": [
    "## Sentimental analysis using LSTM network"
   ]
  },
  {
   "cell_type": "code",
   "execution_count": 1,
   "metadata": {},
   "outputs": [],
   "source": [
    "from __future__ import print_function"
   ]
  },
  {
   "cell_type": "code",
   "execution_count": 2,
   "metadata": {},
   "outputs": [
    {
     "name": "stderr",
     "output_type": "stream",
     "text": [
      "C:\\Users\\NEHA\\Python\\lib\\site-packages\\h5py\\__init__.py:36: FutureWarning: Conversion of the second argument of issubdtype from `float` to `np.floating` is deprecated. In future, it will be treated as `np.float64 == np.dtype(float).type`.\n",
      "  from ._conv import register_converters as _register_converters\n",
      "Using TensorFlow backend.\n"
     ]
    }
   ],
   "source": [
    "# Importing libraries\n",
    "from keras.preprocessing import sequence\n",
    "from keras.models import Sequential\n",
    "from keras.layers import Dense, Dropout, Activation\n",
    "from keras.layers import Embedding\n",
    "from keras.layers import LSTM\n",
    "from keras.layers import Conv1D, MaxPooling1D\n",
    "from keras.datasets import imdb\n"
   ]
  },
  {
   "cell_type": "code",
   "execution_count": 3,
   "metadata": {},
   "outputs": [],
   "source": [
    "# Embedding\n",
    "max_features = 20000\n",
    "maxlen = 100\n",
    "embedding_size = 128"
   ]
  },
  {
   "cell_type": "code",
   "execution_count": 4,
   "metadata": {},
   "outputs": [],
   "source": [
    "# Convolution\n",
    "kernel_size = 5\n",
    "filters = 64\n",
    "pool_size = 4"
   ]
  },
  {
   "cell_type": "code",
   "execution_count": 5,
   "metadata": {},
   "outputs": [],
   "source": [
    "# LSTM\n",
    "lstm_output_size = 70"
   ]
  },
  {
   "cell_type": "code",
   "execution_count": 6,
   "metadata": {},
   "outputs": [],
   "source": [
    "# Training\n",
    "batch_size = 512\n",
    "epochs = 20"
   ]
  },
  {
   "cell_type": "code",
   "execution_count": 6,
   "metadata": {},
   "outputs": [
    {
     "name": "stdout",
     "output_type": "stream",
     "text": [
      "Loading data...\n",
      "25000 train sequences\n",
      "25000 test sequences\n"
     ]
    }
   ],
   "source": [
    "#Spiltting data into training data and testing data\n",
    "print('Loading data...')\n",
    "(x_train, y_train), (x_test, y_test) = imdb.load_data(num_words=max_features)\n",
    "print(len(x_train), 'train sequences')\n",
    "print(len(x_test), 'test sequences')"
   ]
  },
  {
   "cell_type": "code",
   "execution_count": 7,
   "metadata": {},
   "outputs": [
    {
     "name": "stdout",
     "output_type": "stream",
     "text": [
      "Pad sequences (samples x time)\n",
      "x_train shape: (25000, 100)\n",
      "x_test shape: (25000, 100)\n"
     ]
    }
   ],
   "source": [
    "# Printing shape of train and test data\n",
    "print('Pad sequences (samples x time)')\n",
    "x_train = sequence.pad_sequences(x_train, maxlen=maxlen)\n",
    "x_test = sequence.pad_sequences(x_test, maxlen=maxlen)\n",
    "print('x_train shape:', x_train.shape)\n",
    "print('x_test shape:', x_test.shape)\n"
   ]
  },
  {
   "cell_type": "code",
   "execution_count": 8,
   "metadata": {},
   "outputs": [
    {
     "name": "stdout",
     "output_type": "stream",
     "text": [
      "Build model...\n"
     ]
    }
   ],
   "source": [
    "# Defining the model\n",
    "print('Build model...')\n",
    "\n",
    "model = Sequential()\n",
    "model.add(Embedding(max_features, embedding_size, input_length=maxlen))\n",
    "model.add(Dropout(0.25))\n",
    "model.add(Conv1D(filters,\n",
    "                 kernel_size,\n",
    "                 padding='valid',\n",
    "                 activation='relu',\n",
    "                 strides=1))\n",
    "model.add(MaxPooling1D(pool_size=pool_size))\n",
    "model.add(LSTM(lstm_output_size))\n",
    "model.add(Dense(1))\n",
    "model.add(Activation('sigmoid'))\n",
    "\n"
   ]
  },
  {
   "cell_type": "code",
   "execution_count": 9,
   "metadata": {},
   "outputs": [],
   "source": [
    "# We configure our model with the rmsprop optimizer and the binary_crossentropy loss function\n",
    "model.compile(loss='binary_crossentropy',\n",
    "              optimizer='adam',\n",
    "              metrics=['accuracy'])"
   ]
  },
  {
   "cell_type": "code",
   "execution_count": 11,
   "metadata": {},
   "outputs": [
    {
     "name": "stdout",
     "output_type": "stream",
     "text": [
      "Train...\n",
      "Train on 25000 samples, validate on 25000 samples\n",
      "Epoch 1/20\n",
      "25000/25000 [==============================] - 68s 3ms/step - loss: 0.5543 - acc: 0.7126 - val_loss: 0.3746 - val_acc: 0.8374\n",
      "Epoch 2/20\n",
      "25000/25000 [==============================] - 61s 2ms/step - loss: 0.2789 - acc: 0.8868 - val_loss: 0.3379 - val_acc: 0.8509\n",
      "Epoch 3/20\n",
      "25000/25000 [==============================] - 62s 2ms/step - loss: 0.1772 - acc: 0.9343 - val_loss: 0.3705 - val_acc: 0.8444\n",
      "Epoch 4/20\n",
      "25000/25000 [==============================] - 61s 2ms/step - loss: 0.1158 - acc: 0.9608 - val_loss: 0.4685 - val_acc: 0.8336\n",
      "Epoch 5/20\n",
      "25000/25000 [==============================] - 63s 3ms/step - loss: 0.0770 - acc: 0.9765 - val_loss: 0.5470 - val_acc: 0.8296\n",
      "Epoch 6/20\n",
      "25000/25000 [==============================] - 62s 2ms/step - loss: 0.0581 - acc: 0.9819 - val_loss: 0.5949 - val_acc: 0.8244\n",
      "Epoch 7/20\n",
      "25000/25000 [==============================] - 62s 2ms/step - loss: 0.0398 - acc: 0.9879 - val_loss: 0.6505 - val_acc: 0.8211\n",
      "Epoch 8/20\n",
      "25000/25000 [==============================] - 62s 2ms/step - loss: 0.0258 - acc: 0.9923 - val_loss: 0.7755 - val_acc: 0.8172\n",
      "Epoch 9/20\n",
      "25000/25000 [==============================] - 61s 2ms/step - loss: 0.0161 - acc: 0.9960 - val_loss: 0.8386 - val_acc: 0.8168\n",
      "Epoch 10/20\n",
      "25000/25000 [==============================] - 62s 2ms/step - loss: 0.0156 - acc: 0.9954 - val_loss: 0.8693 - val_acc: 0.8162\n",
      "Epoch 11/20\n",
      "25000/25000 [==============================] - 61s 2ms/step - loss: 0.0125 - acc: 0.9969 - val_loss: 0.8651 - val_acc: 0.8193\n",
      "Epoch 12/20\n",
      "25000/25000 [==============================] - 61s 2ms/step - loss: 0.0088 - acc: 0.9973 - val_loss: 0.9592 - val_acc: 0.8170\n",
      "Epoch 13/20\n",
      "25000/25000 [==============================] - 62s 2ms/step - loss: 0.0093 - acc: 0.9973 - val_loss: 0.9994 - val_acc: 0.8165\n",
      "Epoch 14/20\n",
      "25000/25000 [==============================] - 61s 2ms/step - loss: 0.0128 - acc: 0.9962 - val_loss: 0.9026 - val_acc: 0.8176\n",
      "Epoch 15/20\n",
      "25000/25000 [==============================] - 62s 2ms/step - loss: 0.0078 - acc: 0.9976 - val_loss: 0.9648 - val_acc: 0.8176\n",
      "Epoch 16/20\n",
      "25000/25000 [==============================] - 61s 2ms/step - loss: 0.0060 - acc: 0.9981 - val_loss: 1.0347 - val_acc: 0.8186\n",
      "Epoch 17/20\n",
      "25000/25000 [==============================] - 61s 2ms/step - loss: 0.0051 - acc: 0.9984 - val_loss: 1.0811 - val_acc: 0.8158\n",
      "Epoch 18/20\n",
      "25000/25000 [==============================] - 61s 2ms/step - loss: 0.0044 - acc: 0.9987 - val_loss: 1.1229 - val_acc: 0.8148\n",
      "Epoch 19/20\n",
      "25000/25000 [==============================] - 61s 2ms/step - loss: 0.0034 - acc: 0.9992 - val_loss: 1.1964 - val_acc: 0.8161\n",
      "Epoch 20/20\n",
      "25000/25000 [==============================] - 62s 2ms/step - loss: 0.0098 - acc: 0.9968 - val_loss: 0.9690 - val_acc: 0.8185\n",
      "25000/25000 [==============================] - 14s 566us/step\n",
      "Test score: 0.9689587813186645\n",
      "Test accuracy: 0.818519999961853\n"
     ]
    }
   ],
   "source": [
    "# Fitting the model\n",
    "print('Train...')\n",
    "a=model.fit(x_train, y_train,\n",
    "          batch_size=batch_size,\n",
    "          epochs=epochs,\n",
    "          validation_data=(x_test, y_test))\n",
    "score, acc = model.evaluate(x_test, y_test, batch_size=batch_size)\n",
    "print('Test score:', score)\n",
    "print('Test accuracy:', acc)"
   ]
  },
  {
   "cell_type": "code",
   "execution_count": null,
   "metadata": {},
   "outputs": [],
   "source": [
    "# The call to model.fit() returns a History object.This object has a member history, which is a dictionary\n",
    "#containing data about everything that happened during training"
   ]
  },
  {
   "cell_type": "code",
   "execution_count": 12,
   "metadata": {},
   "outputs": [
    {
     "data": {
      "text/plain": [
       "dict_keys(['val_loss', 'val_acc', 'loss', 'acc'])"
      ]
     },
     "execution_count": 12,
     "metadata": {},
     "output_type": "execute_result"
    }
   ],
   "source": [
    "history_dict = a.history\n",
    "history_dict.keys()"
   ]
  },
  {
   "cell_type": "code",
   "execution_count": 16,
   "metadata": {},
   "outputs": [
    {
     "data": {
      "image/png": "[encoded data removed]",
      "text/plain": [
       "<matplotlib.figure.Figure at 0x19a458a5940>"
      ]
     },
     "metadata": {},
     "output_type": "display_data"
    }
   ],
   "source": [
    "#Plotting training loss v/s validation loss\n",
    "import matplotlib.pyplot as plt\n",
    "\n",
    "#acc = history.history['acc']\n",
    "#val_acc = history.history['val_acc']\n",
    "acc = a.history['acc']\n",
    "val_acc = a.history['val_acc']\n",
    "loss = a.history['loss']\n",
    "val_loss = a.history['val_loss']\n",
    "\n",
    "epochs = range(1, len(acc) + 1)\n",
    "\n",
    "# \"bo\" is for \"blue dot\"\n",
    "plt.plot(epochs, loss, 'bo', label='Training loss')\n",
    "# b is for \"solid blue line\"\n",
    "plt.plot(epochs, val_loss, 'b', label='Validation loss')\n",
    "plt.title('Training and validation loss')\n",
    "plt.xlabel('Epochs')\n",
    "plt.ylabel('Loss')\n",
    "plt.legend()\n",
    "\n",
    "plt.show()"
   ]
  },
  {
   "cell_type": "code",
   "execution_count": 15,
   "metadata": {},
   "outputs": [
    {
     "data": {
      "image/png": "[encoded data removed]",
      "text/plain": [
       "<matplotlib.figure.Figure at 0x19a45899fd0>"
      ]
     },
     "metadata": {},
     "output_type": "display_data"
    }
   ],
   "source": [
    "#Plotting training loss v/s validation accuracy\n",
    "plt.clf()   # clear figure\n",
    "#acc_values = history_dict['acc']\n",
    "#val_acc_values = history_dict['val_acc']\n",
    "acc_values = history_dict['acc']\n",
    "val_acc_values = history_dict['val_acc']\n",
    "\n",
    "plt.plot(epochs, acc, 'bo', label='Training acc')\n",
    "plt.plot(epochs, val_acc, 'b', label='Validation acc')\n",
    "plt.title('Training and validation accuracy')\n",
    "plt.xlabel('Epochs')\n",
    "plt.ylabel('Accuracy')\n",
    "plt.legend()\n",
    "\n",
    "plt.show()"
   ]
  },
  {
   "cell_type": "code",
   "execution_count": 10,
   "metadata": {},
   "outputs": [
    {
     "name": "stdout",
     "output_type": "stream",
     "text": [
      "Train...\n",
      "Train on 25000 samples, validate on 25000 samples\n",
      "Epoch 1/4\n",
      "25000/25000 [==============================] - 65s 3ms/step - loss: 0.5549 - acc: 0.7117 - val_loss: 0.3745 - val_acc: 0.8372\n",
      "Epoch 2/4\n",
      "25000/25000 [==============================] - 61s 2ms/step - loss: 0.2791 - acc: 0.8868 - val_loss: 0.3379 - val_acc: 0.8512\n",
      "Epoch 3/4\n",
      "25000/25000 [==============================] - 62s 2ms/step - loss: 0.1772 - acc: 0.9347 - val_loss: 0.3708 - val_acc: 0.8443\n",
      "Epoch 4/4\n",
      "25000/25000 [==============================] - 67s 3ms/step - loss: 0.1159 - acc: 0.9611 - val_loss: 0.4688 - val_acc: 0.8334\n",
      "25000/25000 [==============================] - 15s 615us/step\n",
      "Test score: 0.4687708903503418\n",
      "Test accuracy: 0.8334000003433227\n"
     ]
    }
   ],
   "source": [
    "# Training\n",
    "batch_size = 512\n",
    "epochs = 4\n",
    "print('Train...')\n",
    "a=model.fit(x_train, y_train,\n",
    "          batch_size=batch_size,\n",
    "          epochs=epochs,\n",
    "          validation_data=(x_test, y_test))\n",
    "score, acc = model.evaluate(x_test, y_test, batch_size=batch_size)\n",
    "print('Test score:', score)\n",
    "print('Test accuracy:', acc)"
   ]
  },
  {
   "cell_type": "code",
   "execution_count": 11,
   "metadata": {},
   "outputs": [
    {
     "name": "stdout",
     "output_type": "stream",
     "text": [
      "25000/25000 [==============================] - 20s 782us/step\n"
     ]
    }
   ],
   "source": [
    "# Evaluation\n",
    "results = model.evaluate(x_test, y_test)"
   ]
  },
  {
   "cell_type": "code",
   "execution_count": 12,
   "metadata": {},
   "outputs": [
    {
     "data": {
      "text/plain": [
       "[0.4687708914089203, 0.8334]"
      ]
     },
     "execution_count": 12,
     "metadata": {},
     "output_type": "execute_result"
    }
   ],
   "source": [
    "# Printing results\n",
    "results"
   ]
  },
  {
   "cell_type": "markdown",
   "metadata": {},
   "source": [
    "We have achieved an accuracy of 83 %"
   ]
  },
  {
   "cell_type": "code",
   "execution_count": 13,
   "metadata": {},
   "outputs": [
    {
     "data": {
      "text/plain": [
       "array([[0.28689626],\n",
       "       [0.99747133],\n",
       "       [0.9871952 ],\n",
       "       ...,\n",
       "       [0.04059447],\n",
       "       [0.15112427],\n",
       "       [0.8717716 ]], dtype=float32)"
      ]
     },
     "execution_count": 13,
     "metadata": {},
     "output_type": "execute_result"
    }
   ],
   "source": [
    "# Predicting the model\n",
    "model.predict(x_test)"
   ]
  },
  {
   "cell_type": "markdown",
   "metadata": {},
   "source": [
    "ref[1]: https://medium.com/@thoszymkowiak/how-to-implement-sentiment-analysis-using-word-embedding-and-convolutional-neural-networks-on-keras-163197aef623"
   ]
  },
  {
   "cell_type": "markdown",
   "metadata": {},
   "source": [
    "The text in the document by Neha Gaikwad and Nupur Deshpande is licensed under CC BY 3.0 https://creativecommons.org/licenses/by/3.0/us/\n",
    "The code in the document by Neha Gaikwad and Nupur Deshpande is licensed under the MIT License https://opensource.org/licenses/MIT"
   ]
  },
  {
   "cell_type": "code",
   "execution_count": null,
   "metadata": {},
   "outputs": [],
   "source": []
  }
 ],
 "metadata": {
  "kernelspec": {
   "display_name": "Python 3",
   "language": "python",
   "name": "python3"
  },
  "language_info": {
   "codemirror_mode": {
    "name": "ipython",
    "version": 3
   },
   "file_extension": ".py",
   "mimetype": "text/x-python",
   "name": "python",
   "nbconvert_exporter": "python",
   "pygments_lexer": "ipython3",
   "version": "3.6.4"
  }
 },
 "nbformat": 4,
 "nbformat_minor": 2
}
